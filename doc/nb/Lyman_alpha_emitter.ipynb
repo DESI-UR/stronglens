{
 "cells": [
  {
   "cell_type": "markdown",
   "id": "a2081b23-e71e-4dcf-a845-bca0b7bc86ee",
   "metadata": {},
   "source": [
    "# Ly-$\\alpha$ Emitter Lens Candidates\n",
    "\n",
    "Spin through a list of strong lens candidates identified during VI of Blanc spectra and plot the *cumulative* daily coadds and Legacy Survey cutouts of the targets."
   ]
  },
  {
   "cell_type": "code",
   "execution_count": 1,
   "id": "e1b9f5a9-dacb-475a-85d6-2b79fba3dfc5",
   "metadata": {},
   "outputs": [],
   "source": [
    "import os\n",
    "from glob import glob\n",
    "\n",
    "from astropy.io import ascii, fits\n",
    "from astropy.table import join, hstack, vstack, unique, Table\n",
    "from desispec.spectra import stack as specstack\n",
    "from desispec.io import read_spectra, write_spectra\n",
    "from desispec.coaddition import coadd_cameras\n",
    "\n",
    "import numpy as np\n",
    "import matplotlib as mpl\n",
    "import matplotlib.pyplot as plt\n",
    "import pandas as pd"
   ]
  },
  {
   "cell_type": "markdown",
   "id": "dfd7baf2-c193-4662-be63-01a0ea3a2ca6",
   "metadata": {},
   "source": [
    "## Read in Data\n",
    "\n",
    "Access CSV table of objects."
   ]
  },
  {
   "cell_type": "code",
   "execution_count": 2,
   "id": "9ac6d7b2-a7a9-4bac-9c34-9c2e63ca9d27",
   "metadata": {},
   "outputs": [
    {
     "data": {
      "text/html": [
       "<i>Table length=64</i>\n",
       "<table id=\"table46913354144352\" class=\"table-striped table-bordered table-condensed\">\n",
       "<thead><tr><th>TARGET_RA</th><th>TARGET_DEC</th><th>TARGETID</th><th>TILEID</th></tr></thead>\n",
       "<thead><tr><th>float64</th><th>float64</th><th>int64</th><th>int64</th></tr></thead>\n",
       "<tr><td>36.0399307570936</td><td>-4.934008419977485</td><td>39627664624982144</td><td>80606</td></tr>\n",
       "<tr><td>37.61098456933181</td><td>-5.5721365281361095</td><td>39627652612496940</td><td>80606</td></tr>\n",
       "<tr><td>36.897979060591005</td><td>-4.9944037902580245</td><td>39627664641754681</td><td>80606</td></tr>\n",
       "<tr><td>35.794242561958725</td><td>-4.723924304598347</td><td>39627670643808885</td><td>80606</td></tr>\n",
       "<tr><td>36.31708666799188</td><td>-3.5771263201986288</td><td>39627700796654265</td><td>80606</td></tr>\n",
       "<tr><td>36.693310096235535</td><td>-5.1686833422902865</td><td>39627658614541257</td><td>80606</td></tr>\n",
       "<tr><td>36.717037481403295</td><td>-5.23623388409939</td><td>39627658614542070</td><td>80606</td></tr>\n",
       "<tr><td>36.84097021155235</td><td>-5.873744894748536</td><td>39627646585280781</td><td>80606</td></tr>\n",
       "<tr><td>36.50963889004555</td><td>-3.552235986889796</td><td>39627700796661013</td><td>80606</td></tr>\n",
       "<tr><td>35.31567567490518</td><td>-4.0788127418085285</td><td>39627688717058772</td><td>80606</td></tr>\n",
       "<tr><td>...</td><td>...</td><td>...</td><td>...</td></tr>\n",
       "<tr><td>150.75406404558638</td><td>1.814919897449704</td><td>39627829536620660</td><td>80610</td></tr>\n",
       "<tr><td>149.49218321551027</td><td>3.1142125591182506</td><td>39627859710447981</td><td>80610</td></tr>\n",
       "<tr><td>150.08265991538812</td><td>3.641254564697643</td><td>39627877821450864</td><td>80610</td></tr>\n",
       "<tr><td>148.95193782814843</td><td>1.4759022930889345</td><td>39627823463272570</td><td>80610</td></tr>\n",
       "<tr><td>150.45962201245604</td><td>1.0999507157561357</td><td>39627811408842926</td><td>80610</td></tr>\n",
       "<tr><td>150.34202556223838</td><td>2.9273192393181224</td><td>39627859727222855</td><td>80610</td></tr>\n",
       "<tr><td>151.13235261160767</td><td>1.4641240965662468</td><td>39627823501019843</td><td>80610</td></tr>\n",
       "<tr><td>148.9489412066885</td><td>2.936626767283188</td><td>39627859702059058</td><td>80610</td></tr>\n",
       "<tr><td>150.2077561002369</td><td>3.4996719646277548</td><td>39627871790043964</td><td>80610</td></tr>\n",
       "<tr><td>150.22076135506026</td><td>0.8909610956906683</td><td>39627811404649043</td><td>80610</td></tr>\n",
       "</table>"
      ],
      "text/plain": [
       "<Table length=64>\n",
       "    TARGET_RA           TARGET_DEC          TARGETID     TILEID\n",
       "     float64             float64             int64       int64 \n",
       "------------------ ------------------- ----------------- ------\n",
       "  36.0399307570936  -4.934008419977485 39627664624982144  80606\n",
       " 37.61098456933181 -5.5721365281361095 39627652612496940  80606\n",
       "36.897979060591005 -4.9944037902580245 39627664641754681  80606\n",
       "35.794242561958725  -4.723924304598347 39627670643808885  80606\n",
       " 36.31708666799188 -3.5771263201986288 39627700796654265  80606\n",
       "36.693310096235535 -5.1686833422902865 39627658614541257  80606\n",
       "36.717037481403295   -5.23623388409939 39627658614542070  80606\n",
       " 36.84097021155235  -5.873744894748536 39627646585280781  80606\n",
       " 36.50963889004555  -3.552235986889796 39627700796661013  80606\n",
       " 35.31567567490518 -4.0788127418085285 39627688717058772  80606\n",
       "               ...                 ...               ...    ...\n",
       "150.75406404558638   1.814919897449704 39627829536620660  80610\n",
       "149.49218321551027  3.1142125591182506 39627859710447981  80610\n",
       "150.08265991538812   3.641254564697643 39627877821450864  80610\n",
       "148.95193782814843  1.4759022930889345 39627823463272570  80610\n",
       "150.45962201245604  1.0999507157561357 39627811408842926  80610\n",
       "150.34202556223838  2.9273192393181224 39627859727222855  80610\n",
       "151.13235261160767  1.4641240965662468 39627823501019843  80610\n",
       " 148.9489412066885   2.936626767283188 39627859702059058  80610\n",
       " 150.2077561002369  3.4996719646277548 39627871790043964  80610\n",
       "150.22076135506026  0.8909610956906683 39627811404649043  80610"
      ]
     },
     "execution_count": 2,
     "metadata": {},
     "output_type": "execute_result"
    }
   ],
   "source": [
    "lyman_alpha_all = ascii.read('Lyman_alpha_emitter.csv', format='csv')\n",
    "data = lyman_alpha_all['TARGET_RA', 'TARGET_DEC', 'TARGETID', 'TILEID']\n",
    "data"
   ]
  },
  {
   "cell_type": "markdown",
   "id": "70d4c03c-62a7-4b34-b101-3cc39e8ba040",
   "metadata": {},
   "source": [
    "## Access Reduced Spectra\n",
    "\n",
    "Find the spectroscopic reductions of these candidates. Then find the corresponding redshift fits and store those with the spectra in the `extra_catalog` table in the `Spectra` class.\n",
    "\n",
    "To change the reduction, just change the `redux` variable below. Possible options are `daily/tiles/cumulative`, `blanc/tiles`, `cascades/tiles`, `denali/tiles`, etc."
   ]
  },
  {
   "cell_type": "code",
   "execution_count": 3,
   "id": "813b4d96-08c5-4fb2-a3fb-c15a49583a13",
   "metadata": {},
   "outputs": [
    {
     "name": "stdout",
     "output_type": "stream",
     "text": [
      "80606\n",
      "INFO:spectra.py:253:read_spectra: iotime 0.757 sec to read coadd-0-80606-thru20201219.fits at 2021-06-03T13:58:41.959513\n",
      "Header missing END card.\n",
      "INFO:spectra.py:253:read_spectra: iotime 0.802 sec to read coadd-1-80606-thru20201219.fits at 2021-06-03T13:58:43.481723\n",
      "Header missing END card.\n",
      "INFO:spectra.py:253:read_spectra: iotime 1.007 sec to read coadd-2-80606-thru20201219.fits at 2021-06-03T13:58:45.422882\n",
      "Header missing END card.\n",
      "INFO:spectra.py:253:read_spectra: iotime 0.785 sec to read coadd-3-80606-thru20201219.fits at 2021-06-03T13:58:47.031097\n",
      "Header missing END card.\n",
      "INFO:spectra.py:253:read_spectra: iotime 0.834 sec to read coadd-4-80606-thru20201219.fits at 2021-06-03T13:58:48.959998\n",
      "Header missing END card.\n",
      "INFO:spectra.py:253:read_spectra: iotime 1.060 sec to read coadd-5-80606-thru20201219.fits at 2021-06-03T13:58:51.012054\n",
      "Header missing END card.\n",
      "INFO:spectra.py:253:read_spectra: iotime 0.759 sec to read coadd-6-80606-thru20201219.fits at 2021-06-03T13:58:52.558464\n",
      "Header missing END card.\n",
      "INFO:spectra.py:253:read_spectra: iotime 0.774 sec to read coadd-7-80606-thru20201219.fits at 2021-06-03T13:58:54.184505\n",
      "Header missing END card.\n",
      "INFO:spectra.py:253:read_spectra: iotime 0.776 sec to read coadd-8-80606-thru20201219.fits at 2021-06-03T13:58:55.895697\n",
      "Header missing END card.\n",
      "INFO:spectra.py:253:read_spectra: iotime 1.062 sec to read coadd-9-80606-thru20201219.fits at 2021-06-03T13:58:57.824122\n",
      "Header missing END card.\n",
      "80608\n",
      "INFO:spectra.py:253:read_spectra: iotime 0.807 sec to read coadd-0-80608-thru20201223.fits at 2021-06-03T13:58:59.497265\n",
      "Header missing END card.\n",
      "INFO:spectra.py:253:read_spectra: iotime 1.060 sec to read coadd-1-80608-thru20201223.fits at 2021-06-03T13:59:01.493893\n",
      "Header missing END card.\n",
      "INFO:spectra.py:253:read_spectra: iotime 0.753 sec to read coadd-2-80608-thru20201223.fits at 2021-06-03T13:59:03.066821\n",
      "Header missing END card.\n",
      "INFO:spectra.py:253:read_spectra: iotime 0.981 sec to read coadd-3-80608-thru20201223.fits at 2021-06-03T13:59:04.762806\n",
      "Header missing END card.\n",
      "INFO:spectra.py:253:read_spectra: iotime 0.775 sec to read coadd-4-80608-thru20201223.fits at 2021-06-03T13:59:06.446427\n",
      "Header missing END card.\n",
      "INFO:spectra.py:253:read_spectra: iotime 0.802 sec to read coadd-5-80608-thru20201223.fits at 2021-06-03T13:59:08.161590\n",
      "Header missing END card.\n",
      "INFO:spectra.py:253:read_spectra: iotime 0.743 sec to read coadd-6-80608-thru20201223.fits at 2021-06-03T13:59:09.576733\n",
      "Header missing END card.\n",
      "INFO:spectra.py:253:read_spectra: iotime 0.742 sec to read coadd-7-80608-thru20201223.fits at 2021-06-03T13:59:11.234797\n",
      "Header missing END card.\n",
      "INFO:spectra.py:253:read_spectra: iotime 0.714 sec to read coadd-8-80608-thru20201223.fits at 2021-06-03T13:59:12.821780\n",
      "Header missing END card.\n",
      "INFO:spectra.py:253:read_spectra: iotime 0.798 sec to read coadd-9-80608-thru20201223.fits at 2021-06-03T13:59:14.169782\n",
      "Header missing END card.\n",
      "80610\n",
      "INFO:spectra.py:253:read_spectra: iotime 0.902 sec to read coadd-0-80610-thru20210208.fits at 2021-06-03T13:59:15.987090\n",
      "Header missing END card.\n",
      "INFO:spectra.py:253:read_spectra: iotime 0.998 sec to read coadd-1-80610-thru20210208.fits at 2021-06-03T13:59:17.736877\n",
      "Header missing END card.\n",
      "INFO:spectra.py:253:read_spectra: iotime 0.674 sec to read coadd-2-80610-thru20210208.fits at 2021-06-03T13:59:18.980153\n",
      "Header missing END card.\n",
      "INFO:spectra.py:253:read_spectra: iotime 0.808 sec to read coadd-3-80610-thru20210208.fits at 2021-06-03T13:59:20.803375\n",
      "Header missing END card.\n",
      "INFO:spectra.py:253:read_spectra: iotime 0.900 sec to read coadd-4-80610-thru20210208.fits at 2021-06-03T13:59:22.455843\n",
      "Header missing END card.\n",
      "INFO:spectra.py:253:read_spectra: iotime 0.774 sec to read coadd-5-80610-thru20210208.fits at 2021-06-03T13:59:24.120023\n",
      "Header missing END card.\n",
      "INFO:spectra.py:253:read_spectra: iotime 0.875 sec to read coadd-6-80610-thru20210208.fits at 2021-06-03T13:59:25.711046\n",
      "Header missing END card.\n",
      "INFO:spectra.py:253:read_spectra: iotime 1.118 sec to read coadd-7-80610-thru20210208.fits at 2021-06-03T13:59:27.691194\n",
      "Header missing END card.\n",
      "INFO:spectra.py:253:read_spectra: iotime 0.806 sec to read coadd-8-80610-thru20210208.fits at 2021-06-03T13:59:29.357271\n",
      "Header missing END card.\n",
      "INFO:spectra.py:253:read_spectra: iotime 1.093 sec to read coadd-9-80610-thru20210208.fits at 2021-06-03T13:59:30.959065\n",
      "Header missing END card.\n"
     ]
    }
   ],
   "source": [
    "# Change reduction: daily, denali, etc.\n",
    "redux = 'daily/tiles/cumulative'\n",
    "tobj=[] # Stores objects that are found\n",
    "fobj=[] # Stores objects that are not found anywhere\n",
    "\n",
    "# Loop through tile list and extract spectra.\n",
    "lenspec = None\n",
    "tiles = np.unique(data['TILEID'])\n",
    "\n",
    "for tile in tiles:\n",
    "    print(tile)\n",
    "    tile_folders = sorted(glob('{}/{}/{}/*'.format(os.environ['DESI_SPECTRO_REDUX'], redux, tile)))\n",
    "    if tile_folders:\n",
    "        # Grab coadds from the last available folder.\n",
    "        tile_folder = tile_folders[-1]\n",
    "        coadds = sorted(glob('{}/coadd*'.format(tile_folder)))\n",
    "        \n",
    "        # Coadds are organized by petal ID. Search each file for matching targets.\n",
    "        for coadd in coadds:\n",
    "            try:\n",
    "                spectra = read_spectra(coadd)\n",
    "                \n",
    "                # Match TARGETID.\n",
    "                sselect = np.in1d(spectra.fibermap['TARGETID'], data['TARGETID'])\n",
    "                if np.any(sselect):\n",
    "                    spectra = spectra[sselect]\n",
    "                    if not hasattr(spectra, 'scores_comments'):\n",
    "                        spectra.scores_comments = None\n",
    "                    \n",
    "                    # Extract corresponding best-fit redshift.\n",
    "                    zbfile = coadd.replace('coadd', 'zbest')\n",
    "                    zbest = fits.open(zbfile)['ZBEST'].data\n",
    "                    zselect = np.in1d(zbest['TARGETID'], data['TARGETID'])\n",
    "                    zbest = zbest[zselect]\n",
    "\n",
    "                    # Append spectra to a larger list of spectra, stored in memory.\n",
    "                    # Note that an EXPID is required in the update step below, but the coadded spectra\n",
    "                    # have a FIRST_EXPID and a LAST_EXPID. So copy one of these as a hack.\n",
    "                    spectra.fibermap['EXPID'] = spectra.fibermap['LAST_EXPID']\n",
    "                    spectra.extra_catalog = zbest\n",
    "                    \n",
    "                    if lenspec is None:\n",
    "                        lenspec = spectra\n",
    "                    else:\n",
    "                        lenspec = specstack([lenspec, spectra])\n",
    "            except OSError as e:\n",
    "                print(e)\n",
    "\n",
    "if not hasattr(lenspec, 'scores_comments'):\n",
    "    lenspec.scores_comments = None"
   ]
  },
  {
   "cell_type": "code",
   "execution_count": 4,
   "id": "16fe6d76-1899-46f5-ac4d-11214b4602ab",
   "metadata": {},
   "outputs": [
    {
     "data": {
      "text/plain": [
       "(64, 64, 64, 64)"
      ]
     },
     "execution_count": 4,
     "metadata": {},
     "output_type": "execute_result"
    }
   ],
   "source": [
    "lenspec.num_spectra(), lenspec.num_targets(), len(np.unique(data['TARGETID'])), len(data)"
   ]
  },
  {
   "cell_type": "markdown",
   "id": "07f1e0d1-ed23-4c67-9f7d-e3f8ac216229",
   "metadata": {},
   "source": [
    "## Plot Spectra and Cutouts\n",
    "\n",
    "Loop through all identified spectra and redshift fits and plot them along with the image cutouts."
   ]
  },
  {
   "cell_type": "code",
   "execution_count": 5,
   "id": "dfbb1aa5-8210-4522-8413-561f49a30001",
   "metadata": {},
   "outputs": [],
   "source": [
    "import requests\n",
    "\n",
    "def get_cutout(targetid, ra, dec, verbose=False):\n",
    "    \"\"\"Grab and cache legacy survey cutouts.\n",
    "    \n",
    "    Parameters\n",
    "    ----------\n",
    "    targetid : int\n",
    "        DESI target ID.\n",
    "    ra : float\n",
    "        Right ascension (degrees).\n",
    "    dec : float\n",
    "        Declination (degrees).\n",
    "    verbose : bool\n",
    "        Add some status messages if true.\n",
    "        \n",
    "    Returns\n",
    "    -------\n",
    "    img_name : str\n",
    "        Name of JPG cutout file written after query.\n",
    "    \"\"\"\n",
    "    img_name = '{}.jpg'.format(targetid)\n",
    "    \n",
    "    if os.path.exists(img_name):\n",
    "        if verbose:\n",
    "            print('{} exists.'.format(img_name))\n",
    "    else:\n",
    "        if verbose:\n",
    "            print('Accessing {}'.format(img_name))\n",
    "        img_url = 'https://www.legacysurvey.org/viewer/cutout.jpg?ra={}&dec={}&%22/pix=0.25&layer=dr8&size=180'.format(ra, dec)\n",
    "        with open(img_name, 'wb') as handle: \n",
    "            response = requests.get(img_url, stream=True) \n",
    "            if not response.ok: \n",
    "                print(response) \n",
    "            for block in response.iter_content(1024): \n",
    "                if not block: \n",
    "                    break \n",
    "                handle.write(block)\n",
    "    \n",
    "    return img_name\n"
   ]
  },
  {
   "cell_type": "code",
   "execution_count": 6,
   "id": "5ea7b1b6-ff82-448e-b57b-ae4c9aa7dc27",
   "metadata": {},
   "outputs": [],
   "source": [
    "from scipy.ndimage import gaussian_filter1d\n",
    "\n",
    "mpl.rc('figure', max_open_warning = 0)"
   ]
  },
  {
   "cell_type": "code",
   "execution_count": 7,
   "id": "171fac9f-a63e-4c55-81d6-ad3f00b115d1",
   "metadata": {},
   "outputs": [],
   "source": [
    "# Emission and absorption lines from Prospect tables.\n",
    "emi_lines = ascii.read('emission_lines.txt', comment='#', names=['name','longname','lambda','vacuum','major'])\n",
    "abs_lines = ascii.read('absorption_lines.txt', comment='#', names=['name','longname','lambda','vacuum','major'])\n",
    "\n",
    "emi_lines_major = emi_lines[emi_lines['major']=='True']\n",
    "abs_lines_major = abs_lines[abs_lines['major']=='True']"
   ]
  },
  {
   "cell_type": "markdown",
   "id": "b3ab14b2-2054-4620-a727-2a710f378f0c",
   "metadata": {},
   "source": [
    "### Coadd Spectra\n",
    "\n",
    "Coadd spectra from the different spectrograph arms."
   ]
  },
  {
   "cell_type": "code",
   "execution_count": 8,
   "id": "0321bfeb-1d9e-4566-8907-2a7450a1a1d1",
   "metadata": {},
   "outputs": [
    {
     "name": "stdout",
     "output_type": "stream",
     "text": [
      "WARNING:specscore.py:92:compute_coadd_scores: No TSNR2_* scores found to coadd\n"
     ]
    }
   ],
   "source": [
    "coadd_spec = coadd_cameras(lenspec)"
   ]
  },
  {
   "cell_type": "markdown",
   "id": "72757e44-e50e-47a8-ad4f-d3aae26de62e",
   "metadata": {},
   "source": [
    "### Make Plots"
   ]
  },
  {
   "cell_type": "code",
   "execution_count": 9,
   "id": "6c952cb5-f1d9-406b-a68e-2a0c5f35eeb4",
   "metadata": {},
   "outputs": [
    {
     "name": "stdout",
     "output_type": "stream",
     "text": [
      "39627646585280781 68813 80606 330\n",
      "39627652599907489 68813 80606 360\n",
      "39627664633371817 68813 80606 125\n",
      "39627640553871919 68813 80606 508\n",
      "39627664624976530 68813 80606 943\n",
      "39627664624982144 68813 80606 710\n",
      "39627658589374759 68813 80606 1375\n",
      "39627670635422855 68813 80606 1305\n",
      "39627670643808885 68813 80606 1290\n",
      "39627688712864357 68813 80606 1953\n",
      "39627688717058772 68813 80606 1668\n",
      "39627688729645736 68813 80606 2275\n",
      "39627694765251168 68813 80606 2519\n",
      "39627700796654265 68813 80606 2982\n",
      "39627700796661013 68813 80606 2704\n",
      "39627706823875576 68813 80606 2594\n",
      "39627682702435003 68813 80606 3443\n",
      "39627700805044666 68813 80606 3035\n",
      "39627682727592135 68813 80606 3596\n",
      "39627694782027010 68813 80606 3820\n",
      "39627658631318160 68813 80606 4165\n",
      "39627658631318944 68813 80606 4365\n",
      "39627658631321939 68813 80606 4396\n",
      "39627664654336508 68813 80606 4046\n",
      "39627670668970656 68813 80606 4138\n",
      "39627670668973482 68813 80606 4311\n",
      "39627670673166752 68813 80606 4047\n",
      "39627676704571527 68813 80606 4477\n",
      "39627676704574732 68813 80606 4497\n",
      "39627652612496092 68813 80606 4708\n",
      "39627652612496940 68813 80606 4727\n",
      "39627658614541257 68813 80606 4850\n",
      "39627658614542070 68813 80606 4588\n",
      "39627664641754681 68813 80606 4651\n",
      "39633317670162111 69626 80608 187\n",
      "39633328080422722 69626 80608 901\n",
      "39633328080423452 69626 80608 935\n",
      "39633341653192592 69253 80608 1633\n",
      "39633341661577371 69253 80608 1692\n",
      "39633344996053136 69253 80608 1963\n",
      "39633345008635657 69626 80608 2490\n",
      "39633341678358945 69626 80608 3443\n",
      "39633345029607537 69626 80608 3339\n",
      "39633345033800583 69626 80608 3594\n",
      "39633324645289850 69626 80608 4996\n",
      "39633328101393520 69626 80608 4980\n",
      "39627811404649043 75116 80610 164\n",
      "39627811408842926 75116 80610 457\n",
      "39627823484241645 75116 80610 288\n",
      "39627823463272570 75116 80610 1369\n",
      "39627853670648463 68683 80610 1741\n",
      "39627859702059058 68683 80610 1559\n",
      "39627859710447981 75116 80610 2354\n",
      "39627865741854063 75116 80610 2199\n",
      "39627871781652963 75116 80610 2214\n",
      "39627871790043964 75116 80610 2852\n",
      "39627877821450864 75116 80610 2758\n",
      "39627859727222855 75116 80610 3231\n",
      "39627871802624160 75116 80610 3059\n",
      "39627853695814355 75116 80610 3585\n",
      "39627853695816110 75116 80610 3811\n",
      "39627823501019843 75116 80610 4829\n",
      "39627829528233025 75116 80610 4892\n",
      "39627829536620660 75116 80610 4657\n"
     ]
    }
   ],
   "source": [
    "for i in range(lenspec.num_spectra()):\n",
    "    \n",
    "    fig, axes = plt.subplots(1,2, figsize=(16,5), gridspec_kw={'width_ratios':[3,1.1]},\n",
    "                             tight_layout=True)\n",
    "    \n",
    "    # Plot the spectra\n",
    "    ax = axes[0]\n",
    "    \n",
    "    # Plot the spectra from each spectrograph.\n",
    "    for band in 'brz':\n",
    "        smoothed = gaussian_filter1d(lenspec.flux[band][i], 5)\n",
    "        ax.plot(lenspec.wave[band], smoothed, alpha=0.5, label='{} camera'.format(band))\n",
    "        \n",
    "    # Coadd the cameras and plot the resulting flux.\n",
    "    smoothed = gaussian_filter1d(coadd_spec.flux['brz'][i], 5)\n",
    "    fmin = 0.9*np.min(smoothed)\n",
    "    fmax = 1.1*np.max(smoothed)\n",
    "    if fmin == fmax:\n",
    "        fmin, fmax = -1, 1\n",
    "    ax.plot(coadd_spec.wave['brz'], smoothed, color='gray', label='coadd')\n",
    "        \n",
    "    zbest = lenspec.extra_catalog[i]\n",
    "    z = zbest['Z']\n",
    "    dchi2 = zbest['DELTACHI2']\n",
    "    zwarn = zbest['ZWARN']\n",
    "    sptype = zbest['SPECTYPE']\n",
    "    \n",
    "    for eline in emi_lines:\n",
    "        wl = eline['lambda']*(1 + z)\n",
    "        if wl > 3600 and wl < 9800:\n",
    "            ax.axvline(wl, ls='--', color='k', alpha=0.3)\n",
    "            ax.text(wl+20, fmin, eline['name'], fontsize=8, rotation=90, alpha=0.3)\n",
    "\n",
    "    for aline in abs_lines:\n",
    "        wl = aline['lambda']*(1 + z)\n",
    "        if wl > 3600 and wl < 9800:\n",
    "            ax.axvline(wl, ls='--', color='r', alpha=0.3)\n",
    "            ax.text(wl+20, 0.95*fmax, aline['name'], color='r', fontsize=8, rotation=90, alpha=0.3)\n",
    "\n",
    "    ax.set(xlabel=r'$\\lambda_{\\mathrm{obs}}$ [$\\AA$]',\n",
    "           xlim=(3500,9900),\n",
    "           ylabel=r'flux [erg s$^{-1}$ cm$^{-2}$ $\\AA^{-1}$]',\n",
    "           ylim=(fmin, fmax),\n",
    "           title=r'{}; $z={:.3f}$ ($\\Delta\\chi^2={:.5g}$; ZWARN=0x{:x}; SPECTYPE={:s})'.format(lenspec.fibermap[i]['TARGETID'], z, dchi2, zwarn, sptype.decode('utf-8')),\n",
    "          )\n",
    "    \n",
    "    ax.legend(loc='lower right', fontsize=8)\n",
    "    \n",
    "    # Plot the image cutout.\n",
    "    ax = axes[1]\n",
    "    \n",
    "    obj = lenspec.fibermap[i]\n",
    "    img_file = get_cutout(obj['TARGETID'], obj['TARGET_RA'], obj['TARGET_DEC'])\n",
    "    img = mpl.image.imread(img_file)\n",
    "\n",
    "    ax.imshow(img)\n",
    "\n",
    "    x1, x2, x3, x4 = [90, 90], [70, 80], [90, 90], [100,110]\n",
    "    y1, y2, y3, y4 = [70, 80], [90, 90], [100,110], [90,90]\n",
    "    ax.plot(x1, y1, x2, y2, x3, y3, x4, y4, color='r', linewidth=2, alpha=0.7)\n",
    "    ax.text(5,15, '{:3s} = {}\\n{:3s} = {}'.format('RA', obj['TARGET_RA'], 'Dec', obj['TARGET_DEC']), color='yellow', fontsize=9)\n",
    "    ax.set(aspect='equal',\n",
    "           title='{}, Tile {}, Exp {}'.format(obj['LAST_NIGHT'], obj['TILEID'], obj['EXPID']))\n",
    "    ax.axis('off')\n",
    "    \n",
    "    print(obj['TARGETID'], obj['EXPID'], obj['TILEID'], obj['FIBER'])\n",
    "    \n",
    "    fig.savefig('lens_{}_{}_{:06d}_{:06d}.png'.format(obj['TARGETID'], obj['LAST_NIGHT'], obj['TILEID'], obj['EXPID']), dpi=100)\n",
    "    \n",
    "    # Clean up to avoid memory problems.\n",
    "    fig.clear()\n",
    "    plt.close(fig)"
   ]
  },
  {
   "cell_type": "code",
   "execution_count": 10,
   "id": "b90b11cb-3e72-463e-9ac9-b54352499e4f",
   "metadata": {},
   "outputs": [
    {
     "name": "stdout",
     "output_type": "stream",
     "text": [
      "INFO:spectra.py:154:write_spectra: iotime 1.114 sec to write lyman_alpha_emitter_desi_dailyspectra.fits at 2021-06-03T14:00:40.627745\n"
     ]
    },
    {
     "data": {
      "text/plain": [
       "'/global/u2/s/sybenzvi/desi/stronglens/doc/nb/lyman_alpha_emitter_desi_dailyspectra.fits'"
      ]
     },
     "execution_count": 10,
     "metadata": {},
     "output_type": "execute_result"
    }
   ],
   "source": [
    "write_spectra('lyman_alpha_emitter_desi_dailyspectra.fits', lenspec)"
   ]
  }
 ],
 "metadata": {
  "kernelspec": {
   "display_name": "DESI master",
   "language": "python",
   "name": "desi-master"
  },
  "language_info": {
   "codemirror_mode": {
    "name": "ipython",
    "version": 3
   },
   "file_extension": ".py",
   "mimetype": "text/x-python",
   "name": "python",
   "nbconvert_exporter": "python",
   "pygments_lexer": "ipython3",
   "version": "3.8.3"
  }
 },
 "nbformat": 4,
 "nbformat_minor": 5
}
