{
 "cells": [
  {
   "cell_type": "code",
   "execution_count": 18,
   "id": "af140d8a-6536-4766-bb09-331f2e378508",
   "metadata": {},
   "outputs": [],
   "source": [
    "from glob import glob\n",
    "\n",
    "from astropy.io import fits\n",
    "from astropy.table import Table, join, vstack, hstack, unique\n",
    "\n",
    "from desispec.io import read_spectra, write_spectra\n",
    "from desispec.spectra import stack as specstack\n",
    "from desispec.spectra import Spectra\n",
    "from desispec.coaddition import coadd\n",
    "from desispec.interpolation import resample_flux\n",
    "from desispec.resolution import Resolution\n",
    "\n",
    "import redrock.templates\n",
    "\n",
    "import os\n",
    "\n",
    "import numpy as np\n",
    "import matplotlib as mpl\n",
    "import matplotlib.pyplot as plt"
   ]
  },
  {
   "cell_type": "code",
   "execution_count": 307,
   "id": "019ea494-f412-4f9a-92c2-9136666e5cec",
   "metadata": {},
   "outputs": [],
   "source": [
    "mpl.rc('font', size=16)\n",
    "mpl.rc('axes', titlesize='medium')"
   ]
  },
  {
   "cell_type": "code",
   "execution_count": 3,
   "id": "fc305c5c-e79a-4022-b3c4-cef3aa54de2d",
   "metadata": {},
   "outputs": [],
   "source": [
    "redux = 'daily/tiles/cumulative'\n",
    "\n",
    "tiles = sorted(glob('{}/{}/*'.format(os.environ['DESI_SPECTRO_REDUX'], redux)))\n",
    "\n",
    "sv1tiles = []\n",
    "sv3tiles = []\n",
    "for tile in tiles:\n",
    "    tileid = int(os.path.basename(tile))\n",
    "    d = sorted(glob('{}/*'.format(tile)))\n",
    "    if tileid < 20000:\n",
    "        sv3tiles.append(d[-1])\n",
    "    if tileid > 80000:\n",
    "        sv1tiles.append(d[-1]) "
   ]
  },
  {
   "cell_type": "code",
   "execution_count": 4,
   "id": "8eed0cf0-f582-440d-b25f-56e836dea7f8",
   "metadata": {},
   "outputs": [],
   "source": [
    "for sv3tile in sv3tiles:\n",
    "    zbfiles = sorted(glob('{}/zbest*fits'.format(sv3tile)))\n",
    "    zbest, fibermap = None, None\n",
    "    \n",
    "    for zbfile in zbfiles:\n",
    "        _zbest = Table.read(zbfile, 'ZBEST')\n",
    "        # Select galaxies and QSOs with a solid redshift.\n",
    "        select = (_zbest['SPECTYPE'] != 'STAR') & (_zbest['ZWARN']==0) & (_zbest['DELTACHI2']>=25)\n",
    "        _zbest = _zbest[select]\n",
    "        \n",
    "        _fibermap = Table.read(zbfile, 'FIBERMAP')\n",
    "        idx = np.in1d(_fibermap['TARGETID'], _zbest['TARGETID'])\n",
    "        n = len(_zbest)\n",
    "        _fibermap = _fibermap[idx]#[-n:]\n",
    "        \n",
    "        if zbest is None or fibermap is None:\n",
    "            zbest = _zbest\n",
    "            fibermap = _fibermap\n",
    "        else:\n",
    "            zbest = vstack([zbest, _zbest])\n",
    "            fibermap = vstack([fibermap, _fibermap])\n",
    "    break"
   ]
  },
  {
   "cell_type": "code",
   "execution_count": 5,
   "id": "3221d549-2f76-4e6f-8754-736b5cf9eab8",
   "metadata": {},
   "outputs": [
    {
     "data": {
      "text/plain": [
       "'/global/cfs/cdirs/desi/spectro/redux/daily/tiles/cumulative/1/20210406/zbest-9-1-thru20210406.fits'"
      ]
     },
     "execution_count": 5,
     "metadata": {},
     "output_type": "execute_result"
    }
   ],
   "source": [
    "zbfile"
   ]
  },
  {
   "cell_type": "code",
   "execution_count": 6,
   "id": "ab89ba9c-bb0a-45b8-98d4-8f6d3b39ef5a",
   "metadata": {},
   "outputs": [
    {
     "data": {
      "text/plain": [
       "(<Column name='SPECTYPE' dtype='bytes6' length=2>\n",
       " GALAXY\n",
       "    QSO,\n",
       " array([2059,  734]))"
      ]
     },
     "execution_count": 6,
     "metadata": {},
     "output_type": "execute_result"
    }
   ],
   "source": [
    "np.unique(zbest['SPECTYPE'], return_counts=True)"
   ]
  },
  {
   "cell_type": "code",
   "execution_count": 7,
   "id": "229d9319-aa4e-4046-9afc-8ca7acc8f07a",
   "metadata": {},
   "outputs": [
    {
     "data": {
      "text/plain": [
       "(array([3.940e+02, 1.498e+03, 5.170e+02, 2.240e+02, 1.120e+02, 3.200e+01,\n",
       "        9.000e+00, 2.000e+00, 1.000e+00, 4.000e+00]),\n",
       " array([-2.77298439e-03,  5.60855766e-01,  1.12448452e+00,  1.68811327e+00,\n",
       "         2.25174202e+00,  2.81537077e+00,  3.37899952e+00,  3.94262827e+00,\n",
       "         4.50625702e+00,  5.06988577e+00,  5.63351452e+00]),\n",
       " <a list of 10 Patch objects>)"
      ]
     },
     "execution_count": 7,
     "metadata": {},
     "output_type": "execute_result"
    },
    {
     "data": {
      "image/png": "[encoded data removed]",
      "text/plain": [
       "<Figure size 432x288 with 1 Axes>"
      ]
     },
     "metadata": {
      "needs_background": "light"
     },
     "output_type": "display_data"
    }
   ],
   "source": [
    "plt.hist(zbest['Z'])"
   ]
  },
  {
   "cell_type": "code",
   "execution_count": 8,
   "id": "e6e60ee2-42d4-4c26-a88c-0cc38999286e",
   "metadata": {},
   "outputs": [
    {
     "data": {
      "text/html": [
       "<i>Table length=8379</i>\n",
       "<table id=\"table46912564624112\" class=\"table-striped table-bordered table-condensed\">\n",
       "<thead><tr><th>TARGETID</th><th>PETAL_LOC</th><th>DEVICE_LOC</th><th>LOCATION</th><th>FIBER</th><th>FIBERSTATUS</th><th>TARGET_RA</th><th>TARGET_DEC</th><th>PMRA</th><th>PMDEC</th><th>REF_EPOCH</th><th>LAMBDA_REF</th><th>FA_TARGET</th><th>FA_TYPE</th><th>OBJTYPE</th><th>FIBERASSIGN_X</th><th>FIBERASSIGN_Y</th><th>PRIORITY</th><th>SUBPRIORITY</th><th>OBSCONDITIONS</th><th>RELEASE</th><th>BRICKID</th><th>BRICK_OBJID</th><th>MORPHTYPE</th><th>FLUX_G</th><th>FLUX_R</th><th>FLUX_Z</th><th>FLUX_IVAR_G</th><th>FLUX_IVAR_R</th><th>FLUX_IVAR_Z</th><th>MASKBITS</th><th>REF_ID</th><th>REF_CAT</th><th>GAIA_PHOT_G_MEAN_MAG</th><th>GAIA_PHOT_BP_MEAN_MAG</th><th>GAIA_PHOT_RP_MEAN_MAG</th><th>PARALLAX</th><th>BRICKNAME</th><th>EBV</th><th>FLUX_W1</th><th>FLUX_W2</th><th>FLUX_IVAR_W1</th><th>FLUX_IVAR_W2</th><th>FIBERFLUX_G</th><th>FIBERFLUX_R</th><th>FIBERFLUX_Z</th><th>FIBERTOTFLUX_G</th><th>FIBERTOTFLUX_R</th><th>FIBERTOTFLUX_Z</th><th>SERSIC</th><th>SHAPE_R</th><th>SHAPE_E1</th><th>SHAPE_E2</th><th>PHOTSYS</th><th>PRIORITY_INIT</th><th>NUMOBS_INIT</th><th>SV3_DESI_TARGET</th><th>SV3_BGS_TARGET</th><th>SV3_MWS_TARGET</th><th>SV3_SCND_TARGET</th><th>DESI_TARGET</th><th>BGS_TARGET</th><th>MWS_TARGET</th><th>NUM_ITER</th><th>FIBER_X</th><th>FIBER_Y</th><th>DELTA_X</th><th>DELTA_Y</th><th>FIBER_RA</th><th>FIBER_DEC</th><th>EXPTIME</th><th>PSF_TO_FIBER_SPECFLUX</th><th>NIGHT</th><th>EXPID</th><th>MJD</th><th>TILEID</th></tr></thead>\n",
       "<thead><tr><th>int64</th><th>int16</th><th>int32</th><th>int64</th><th>int32</th><th>int32</th><th>float64</th><th>float64</th><th>float32</th><th>float32</th><th>float32</th><th>float32</th><th>int64</th><th>uint8</th><th>bytes3</th><th>float32</th><th>float32</th><th>int32</th><th>float64</th><th>int32</th><th>int16</th><th>int32</th><th>int32</th><th>bytes4</th><th>float32</th><th>float32</th><th>float32</th><th>float32</th><th>float32</th><th>float32</th><th>int16</th><th>int64</th><th>bytes2</th><th>float32</th><th>float32</th><th>float32</th><th>float32</th><th>bytes8</th><th>float32</th><th>float32</th><th>float32</th><th>float32</th><th>float32</th><th>float32</th><th>float32</th><th>float32</th><th>float32</th><th>float32</th><th>float32</th><th>float32</th><th>float32</th><th>float32</th><th>float32</th><th>bytes1</th><th>int64</th><th>int64</th><th>int64</th><th>int64</th><th>int64</th><th>int64</th><th>int64</th><th>int64</th><th>int64</th><th>int64</th><th>float64</th><th>float64</th><th>float64</th><th>float64</th><th>float64</th><th>float64</th><th>float64</th><th>float64</th><th>int32</th><th>int32</th><th>float64</th><th>int32</th></tr></thead>\n",
       "<tr><td>39627817436058850</td><td>0</td><td>311</td><td>311</td><td>0</td><td>0</td><td>149.7272614861328</td><td>1.1361875315919674</td><td>0.0</td><td>0.0</td><td>2015.5</td><td>5400.0</td><td>2162697</td><td>1</td><td>TGT</td><td>78.097435</td><td>-285.9366</td><td>103200</td><td>0.32719911458555384</td><td>1</td><td>9010</td><td>338166</td><td>5346</td><td>DEV</td><td>1.6936976</td><td>6.080918</td><td>18.7367</td><td>264.5119</td><td>55.56353</td><td>10.075568</td><td>0</td><td>0</td><td></td><td>0.0</td><td>0.0</td><td>0.0</td><td>0.0</td><td>1496p012</td><td>0.026749652</td><td>51.989223</td><td>29.48612</td><td>1.5687406</td><td>0.41309118</td><td>0.43432325</td><td>1.5593599</td><td>4.8047447</td><td>0.43432325</td><td>1.5593599</td><td>4.8047447</td><td>4.0</td><td>1.8740429</td><td>0.028569974</td><td>-0.25228384</td><td>S</td><td>103200</td><td>9</td><td>2162697</td><td>0</td><td>0</td><td>0</td><td>0</td><td>0</td><td>0</td><td>2</td><td>78.074</td><td>-285.884</td><td>0.001</td><td>0.004</td><td>149.72726569348964</td><td>1.136172055230268</td><td>860.625</td><td>0.7408258020960352</td><td>20210406</td><td>83714</td><td>59311.13373053</td><td>1</td></tr>\n",
       "<tr><td>39627823484241158</td><td>0</td><td>156</td><td>156</td><td>3</td><td>0</td><td>150.05897874058275</td><td>1.390858241986411</td><td>0.0</td><td>0.0</td><td>2015.5</td><td>5400.0</td><td>1441862</td><td>1</td><td>TGT</td><td>-4.432202</td><td>-220.39124</td><td>103400</td><td>0.3855304827905608</td><td>1</td><td>9010</td><td>339608</td><td>1286</td><td>PSF</td><td>0.52967143</td><td>0.7079924</td><td>1.3805336</td><td>1681.7052</td><td>679.724</td><td>124.54396</td><td>0</td><td>0</td><td></td><td>0.0</td><td>0.0</td><td>0.0</td><td>0.0</td><td>1501p015</td><td>0.020432826</td><td>1.9581124</td><td>2.630761</td><td>3.1587098</td><td>0.66002655</td><td>0.41200817</td><td>0.5507162</td><td>1.0738565</td><td>0.41200817</td><td>0.5507162</td><td>1.0738565</td><td>0.0</td><td>0.0</td><td>0.0</td><td>0.0</td><td>S</td><td>103400</td><td>9</td><td>1441862</td><td>0</td><td>0</td><td>0</td><td>0</td><td>0</td><td>0</td><td>2</td><td>-4.44</td><td>-220.351</td><td>0.003</td><td>0.005</td><td>150.05899093745177</td><td>1.3908384370013196</td><td>860.625</td><td>0.7889999999999998</td><td>20210406</td><td>83714</td><td>59311.13373053</td><td>1</td></tr>\n",
       "<tr><td>39627817444444591</td><td>0</td><td>198</td><td>198</td><td>4</td><td>0</td><td>150.10621596106574</td><td>1.2461080452085396</td><td>0.0</td><td>0.0</td><td>2015.5</td><td>5400.0</td><td>2162697</td><td>1</td><td>TGT</td><td>-16.097828</td><td>-257.25854</td><td>103200</td><td>0.3020414510386349</td><td>1</td><td>9010</td><td>338168</td><td>2479</td><td>REX</td><td>0.119131096</td><td>0.94949</td><td>5.7996683</td><td>729.6087</td><td>234.43576</td><td>39.360733</td><td>0</td><td>0</td><td></td><td>0.0</td><td>0.0</td><td>0.0</td><td>0.0</td><td>1501p012</td><td>0.020795267</td><td>29.114927</td><td>13.468876</td><td>2.5731223</td><td>0.6605551</td><td>0.063151665</td><td>0.50332683</td><td>3.0744176</td><td>0.063151665</td><td>0.50332683</td><td>3.0744176</td><td>1.0</td><td>0.47237855</td><td>0.0</td><td>0.0</td><td>S</td><td>103200</td><td>9</td><td>2162697</td><td>0</td><td>0</td><td>0</td><td>0</td><td>0</td><td>0</td><td>2</td><td>-16.096</td><td>-257.199</td><td>-0.005</td><td>-0.001</td><td>150.10619574966944</td><td>1.2461118942819864</td><td>860.625</td><td>0.7758176748091931</td><td>20210406</td><td>83714</td><td>59311.13373053</td><td>1</td></tr>\n",
       "<tr><td>39627817440253464</td><td>0</td><td>233</td><td>233</td><td>6</td><td>0</td><td>149.99937172274898</td><td>1.2148894584603889</td><td>0.0</td><td>0.0</td><td>2015.5</td><td>5400.0</td><td>2162697</td><td>1</td><td>TGT</td><td>10.347199</td><td>-265.23273</td><td>103200</td><td>0.8146982641322258</td><td>1</td><td>9010</td><td>338167</td><td>5656</td><td>DEV</td><td>1.7538317</td><td>9.898755</td><td>32.20129</td><td>306.78214</td><td>82.94422</td><td>13.8481045</td><td>0</td><td>0</td><td></td><td>0.0</td><td>0.0</td><td>0.0</td><td>0.0</td><td>1498p012</td><td>0.01963397</td><td>79.01</td><td>42.423904</td><td>1.4428372</td><td>0.4292783</td><td>0.45340723</td><td>2.5590637</td><td>8.3248</td><td>0.45814615</td><td>2.5759053</td><td>8.358324</td><td>4.0</td><td>1.5136857</td><td>0.0019198876</td><td>-0.030605955</td><td>S</td><td>103200</td><td>9</td><td>2162697</td><td>0</td><td>0</td><td>0</td><td>0</td><td>0</td><td>0</td><td>2</td><td>10.337</td><td>-265.173</td><td>0.002</td><td>-0.002</td><td>149.9993797818193</td><td>1.2148972544944971</td><td>860.625</td><td>0.7494952819461834</td><td>20210406</td><td>83714</td><td>59311.13373053</td><td>1</td></tr>\n",
       "<tr><td>39627823480049888</td><td>0</td><td>172</td><td>172</td><td>7</td><td>0</td><td>149.97432537384907</td><td>1.3775229127809734</td><td>0.0</td><td>0.0</td><td>2015.5</td><td>5400.0</td><td>1152921504609009673</td><td>1</td><td>TGT</td><td>16.415714</td><td>-223.75594</td><td>103200</td><td>0.4089739044326226</td><td>517</td><td>9010</td><td>339607</td><td>4320</td><td>SER</td><td>5.208796</td><td>21.604393</td><td>52.04003</td><td>312.568</td><td>78.16317</td><td>16.462551</td><td>0</td><td>0</td><td></td><td>0.0</td><td>0.0</td><td>0.0</td><td>0.0</td><td>1498p015</td><td>0.020600462</td><td>109.77654</td><td>79.721825</td><td>1.4107361</td><td>0.42453632</td><td>1.5232027</td><td>6.3177495</td><td>15.218011</td><td>1.5232027</td><td>6.3177495</td><td>15.218011</td><td>3.1886659</td><td>1.5406141</td><td>0.2784806</td><td>0.15970632</td><td>S</td><td>103200</td><td>9</td><td>1152921504609009673</td><td>131074</td><td>0</td><td>0</td><td>0</td><td>0</td><td>0</td><td>2</td><td>16.406</td><td>-223.712</td><td>0.001</td><td>0.0</td><td>149.9743294333895</td><td>1.3775229100654782</td><td>860.625</td><td>0.7553393556776529</td><td>20210406</td><td>83714</td><td>59311.13373053</td><td>1</td></tr>\n",
       "<tr><td>39627811400450316</td><td>0</td><td>310</td><td>310</td><td>8</td><td>0</td><td>149.7591994696961</td><td>1.1240067882197697</td><td>0.0</td><td>0.0</td><td>2015.5</td><td>5400.0</td><td>2162697</td><td>1</td><td>TGT</td><td>70.16809</td><td>-289.02142</td><td>103200</td><td>0.9900091400871419</td><td>1</td><td>9010</td><td>336727</td><td>268</td><td>REX</td><td>0.106517166</td><td>1.022067</td><td>6.2477927</td><td>619.40546</td><td>276.1087</td><td>44.292862</td><td>0</td><td>0</td><td></td><td>0.0</td><td>0.0</td><td>0.0</td><td>0.0</td><td>1498p010</td><td>0.025928207</td><td>27.931133</td><td>20.415167</td><td>2.6142173</td><td>0.63215417</td><td>0.06257886</td><td>0.6004645</td><td>3.6705792</td><td>0.06257886</td><td>0.6004645</td><td>3.6705792</td><td>1.0</td><td>0.3886473</td><td>0.0</td><td>0.0</td><td>S</td><td>103200</td><td>9</td><td>2162697</td><td>0</td><td>0</td><td>0</td><td>0</td><td>0</td><td>0</td><td>2</td><td>70.146</td><td>-288.964</td><td>0.001</td><td>0.002</td><td>149.75920357160823</td><td>1.1239990426163633</td><td>860.625</td><td>0.7786040075241758</td><td>20210406</td><td>83714</td><td>59311.13373053</td><td>1</td></tr>\n",
       "<tr><td>39627817444443051</td><td>0</td><td>170</td><td>170</td><td>12</td><td>0</td><td>150.03777697112258</td><td>1.3375743013045023</td><td>0.0</td><td>0.0</td><td>2015.5</td><td>5400.0</td><td>1179714</td><td>1</td><td>TGT</td><td>0.80196524</td><td>-233.88565</td><td>103100</td><td>0.9917654889461769</td><td>1</td><td>9010</td><td>338168</td><td>939</td><td>PSF</td><td>0.28891566</td><td>0.26714313</td><td>0.52264005</td><td>989.9369</td><td>436.90228</td><td>74.97313</td><td>0</td><td>0</td><td></td><td>0.0</td><td>0.0</td><td>0.0</td><td>0.0</td><td>1501p012</td><td>0.020042771</td><td>7.4978557</td><td>9.260657</td><td>2.80526</td><td>0.66703755</td><td>0.22491576</td><td>0.20796621</td><td>0.40686604</td><td>0.8802391</td><td>1.1490492</td><td>1.5459</td><td>0.0</td><td>0.0</td><td>0.0</td><td>0.0</td><td>S</td><td>103100</td><td>9</td><td>1179714</td><td>0</td><td>0</td><td>0</td><td>0</td><td>0</td><td>0</td><td>2</td><td>0.796</td><td>-233.842</td><td>-0.0</td><td>0.005</td><td>150.03777699436097</td><td>1.337554570510757</td><td>860.625</td><td>0.7889999999999998</td><td>20210406</td><td>83714</td><td>59311.13373053</td><td>1</td></tr>\n",
       "<tr><td>39627817440253054</td><td>0</td><td>186</td><td>186</td><td>13</td><td>0</td><td>149.9770365020759</td><td>1.3397767365705366</td><td>0.0</td><td>0.0</td><td>2015.5</td><td>5400.0</td><td>1179714</td><td>1</td><td>TGT</td><td>15.776789</td><td>-233.32512</td><td>103100</td><td>0.8720761592848476</td><td>1</td><td>9010</td><td>338167</td><td>5246</td><td>REX</td><td>0.40859795</td><td>0.42571056</td><td>0.82073283</td><td>837.0667</td><td>384.5031</td><td>46.459816</td><td>0</td><td>0</td><td></td><td>0.0</td><td>0.0</td><td>0.0</td><td>0.0</td><td>1498p012</td><td>0.020192815</td><td>0.18245456</td><td>0.09308422</td><td>3.3573604</td><td>0.7031525</td><td>0.2606843</td><td>0.2716021</td><td>0.5236252</td><td>0.2606843</td><td>0.2716021</td><td>0.5236252</td><td>1.0</td><td>0.3181988</td><td>0.0</td><td>0.0</td><td>S</td><td>103100</td><td>9</td><td>1179714</td><td>0</td><td>0</td><td>0</td><td>0</td><td>0</td><td>0</td><td>2</td><td>15.766</td><td>-233.28</td><td>0.002</td><td>0.002</td><td>149.9770446359017</td><td>1.3397688376744123</td><td>860.625</td><td>0.7831453698639868</td><td>20210406</td><td>83714</td><td>59311.13373053</td><td>1</td></tr>\n",
       "<tr><td>39627817440252677</td><td>0</td><td>217</td><td>217</td><td>14</td><td>0</td><td>149.95619207629477</td><td>1.2515674682120994</td><td>0.0</td><td>0.0</td><td>2015.5</td><td>5400.0</td><td>1152921504609009673</td><td>1</td><td>TGT</td><td>21.002703</td><td>-255.8304</td><td>103200</td><td>0.1764350104010457</td><td>517</td><td>9010</td><td>338167</td><td>4869</td><td>SER</td><td>4.553111</td><td>23.081131</td><td>61.494602</td><td>99.705246</td><td>23.078033</td><td>2.9199154</td><td>0</td><td>0</td><td></td><td>0.0</td><td>0.0</td><td>0.0</td><td>0.0</td><td>1498p012</td><td>0.020006986</td><td>113.05877</td><td>47.81138</td><td>0.92895573</td><td>0.28154975</td><td>0.85928833</td><td>4.3559985</td><td>11.605601</td><td>0.86199236</td><td>4.358491</td><td>11.607776</td><td>5.8027377</td><td>3.4776087</td><td>0.18483807</td><td>-0.011997424</td><td>S</td><td>103200</td><td>9</td><td>1152921504609009673</td><td>131074</td><td>0</td><td>0</td><td>0</td><td>0</td><td>0</td><td>2</td><td>20.991</td><td>-255.783</td><td>0.001</td><td>0.006</td><td>149.9561962107181</td><td>1.2515439822730399</td><td>860.625</td><td>0.7423261147747588</td><td>20210406</td><td>83714</td><td>59311.13373053</td><td>1</td></tr>\n",
       "<tr><td>39627817440252638</td><td>0</td><td>202</td><td>202</td><td>17</td><td>0</td><td>149.95443512359947</td><td>1.298944566133631</td><td>0.0</td><td>0.0</td><td>2015.5</td><td>5400.0</td><td>2162697</td><td>1</td><td>TGT</td><td>21.389824</td><td>-243.72273</td><td>103200</td><td>0.7723018664365966</td><td>1</td><td>9010</td><td>338167</td><td>4830</td><td>DEV</td><td>0.16609833</td><td>1.0981761</td><td>6.5680337</td><td>386.92484</td><td>119.21681</td><td>19.16152</td><td>0</td><td>0</td><td></td><td>0.0</td><td>0.0</td><td>0.0</td><td>0.0</td><td>1498p012</td><td>0.019981919</td><td>37.87916</td><td>24.800411</td><td>2.1285365</td><td>0.5358125</td><td>0.06112765</td><td>0.40415174</td><td>2.4171736</td><td>0.06112765</td><td>0.40415174</td><td>2.4171736</td><td>4.0</td><td>0.8579066</td><td>-0.012507744</td><td>-0.014498878</td><td>S</td><td>103200</td><td>9</td><td>2162697</td><td>0</td><td>0</td><td>0</td><td>0</td><td>0</td><td>0</td><td>2</td><td>21.379</td><td>-243.673</td><td>0.001</td><td>0.0</td><td>149.9544391730645</td><td>1.2989445603655476</td><td>860.625</td><td>0.7649632225799574</td><td>20210406</td><td>83714</td><td>59311.13373053</td><td>1</td></tr>\n",
       "<tr><td>...</td><td>...</td><td>...</td><td>...</td><td>...</td><td>...</td><td>...</td><td>...</td><td>...</td><td>...</td><td>...</td><td>...</td><td>...</td><td>...</td><td>...</td><td>...</td><td>...</td><td>...</td><td>...</td><td>...</td><td>...</td><td>...</td><td>...</td><td>...</td><td>...</td><td>...</td><td>...</td><td>...</td><td>...</td><td>...</td><td>...</td><td>...</td><td>...</td><td>...</td><td>...</td><td>...</td><td>...</td><td>...</td><td>...</td><td>...</td><td>...</td><td>...</td><td>...</td><td>...</td><td>...</td><td>...</td><td>...</td><td>...</td><td>...</td><td>...</td><td>...</td><td>...</td><td>...</td><td>...</td><td>...</td><td>...</td><td>...</td><td>...</td><td>...</td><td>...</td><td>...</td><td>...</td><td>...</td><td>...</td><td>...</td><td>...</td><td>...</td><td>...</td><td>...</td><td>...</td><td>...</td><td>...</td><td>...</td><td>...</td><td>...</td><td>...</td></tr>\n",
       "<tr><td>39627817452833460</td><td>9</td><td>251</td><td>9251</td><td>4989</td><td>0</td><td>150.61462769398247</td><td>1.3392503055345055</td><td>0.0</td><td>0.0</td><td>2015.5</td><td>5400.0</td><td>1441862</td><td>1</td><td>TGT</td><td>-142.19446</td><td>-234.88118</td><td>103400</td><td>0.19773921020538865</td><td>1</td><td>9010</td><td>338170</td><td>2740</td><td>PSF</td><td>0.57973295</td><td>0.6910438</td><td>1.0410355</td><td>1367.4424</td><td>548.80115</td><td>105.142365</td><td>0</td><td>0</td><td></td><td>0.0</td><td>0.0</td><td>0.0</td><td>0.0</td><td>1506p012</td><td>0.026157672</td><td>6.76077</td><td>8.261058</td><td>3.0178614</td><td>0.6414771</td><td>0.45156085</td><td>0.5382622</td><td>0.81087494</td><td>0.45156085</td><td>0.5382622</td><td>0.81087494</td><td>0.0</td><td>0.0</td><td>0.0</td><td>0.0</td><td>S</td><td>103400</td><td>9</td><td>1441862</td><td>0</td><td>0</td><td>0</td><td>0</td><td>0</td><td>0</td><td>1</td><td>0.0</td><td>0.0</td><td>0.0</td><td>0.0</td><td>0.0</td><td>0.0</td><td>740.7125</td><td>0.7889999999999998</td><td>20210406</td><td>83716</td><td>59311.15405801</td><td>1</td></tr>\n",
       "<tr><td>39627817448640858</td><td>9</td><td>220</td><td>9220</td><td>4990</td><td>0</td><td>150.48393630703958</td><td>1.3468348064893105</td><td>0.0</td><td>0.0</td><td>2015.5</td><td>5400.0</td><td>1179714</td><td>1</td><td>TGT</td><td>-109.52768</td><td>-232.40195</td><td>103100</td><td>0.9755357266500868</td><td>1</td><td>9010</td><td>338169</td><td>4442</td><td>EXP</td><td>0.61691415</td><td>0.7396737</td><td>0.8908304</td><td>1335.1838</td><td>491.4517</td><td>83.82842</td><td>0</td><td>0</td><td></td><td>0.0</td><td>0.0</td><td>0.0</td><td>0.0</td><td>1503p012</td><td>0.02191203</td><td>1.0763688</td><td>-0.80760014</td><td>3.1372862</td><td>0.66257566</td><td>0.35014772</td><td>0.41982347</td><td>0.5056169</td><td>0.35014772</td><td>0.41982347</td><td>0.5056169</td><td>1.0</td><td>0.5310329</td><td>0.2792835</td><td>-0.08296782</td><td>S</td><td>103100</td><td>9</td><td>1179714</td><td>0</td><td>0</td><td>0</td><td>0</td><td>0</td><td>0</td><td>1</td><td>0.0</td><td>0.0</td><td>0.0</td><td>0.0</td><td>0.0</td><td>0.0</td><td>740.7125</td><td>0.7817383909395498</td><td>20210406</td><td>83716</td><td>59311.15405801</td><td>1</td></tr>\n",
       "<tr><td>39627817448639797</td><td>9</td><td>238</td><td>9238</td><td>4992</td><td>0</td><td>150.43594152097296</td><td>1.302041666443914</td><td>0.0</td><td>0.0</td><td>2015.5</td><td>5400.0</td><td>4611686018428829766</td><td>1</td><td>TGT</td><td>-97.72428</td><td>-243.65831</td><td>103400</td><td>0.4567233072660303</td><td>1</td><td>9010</td><td>338169</td><td>3381</td><td>PSF</td><td>1.7433355</td><td>2.2230127</td><td>3.487428</td><td>1795.289</td><td>748.4711</td><td>154.51898</td><td>0</td><td>0</td><td></td><td>0.0</td><td>0.0</td><td>0.0</td><td>0.0</td><td>1503p012</td><td>0.021499386</td><td>19.829481</td><td>19.876978</td><td>2.8223264</td><td>0.6416442</td><td>1.3552147</td><td>1.7281008</td><td>2.7110178</td><td>1.3552147</td><td>1.7281008</td><td>2.7110178</td><td>0.0</td><td>0.0</td><td>0.0</td><td>0.0</td><td>S</td><td>103400</td><td>9</td><td>4611686018428829766</td><td>0</td><td>0</td><td>34426847232</td><td>0</td><td>0</td><td>0</td><td>1</td><td>0.0</td><td>0.0</td><td>0.0</td><td>0.0</td><td>0.0</td><td>0.0</td><td>740.7125</td><td>0.7889999999999998</td><td>20210406</td><td>83716</td><td>59311.15405801</td><td>1</td></tr>\n",
       "<tr><td>39627817452833098</td><td>9</td><td>252</td><td>9252</td><td>4993</td><td>0</td><td>150.5969304587492</td><td>1.3282116148467888</td><td>0.0</td><td>0.0</td><td>2015.5</td><td>5400.0</td><td>2162697</td><td>1</td><td>TGT</td><td>-137.80748</td><td>-237.61911</td><td>103200</td><td>0.3265388078425919</td><td>1</td><td>9010</td><td>338170</td><td>2378</td><td>SER</td><td>1.2858261</td><td>7.753217</td><td>27.05395</td><td>212.23318</td><td>66.59724</td><td>10.927158</td><td>0</td><td>0</td><td></td><td>0.0</td><td>0.0</td><td>0.0</td><td>0.0</td><td>1506p012</td><td>0.02554838</td><td>61.725212</td><td>42.708984</td><td>0.71422374</td><td>0.24327593</td><td>0.28351858</td><td>1.7095479</td><td>5.965268</td><td>0.291336</td><td>1.7536354</td><td>6.091394</td><td>6.0</td><td>4.947237</td><td>0.80839133</td><td>0.39522433</td><td>S</td><td>103200</td><td>9</td><td>2162697</td><td>0</td><td>0</td><td>0</td><td>0</td><td>0</td><td>0</td><td>1</td><td>0.0</td><td>0.0</td><td>0.0</td><td>0.0</td><td>0.0</td><td>0.0</td><td>740.7125</td><td>0.7672701067338717</td><td>20210406</td><td>83716</td><td>59311.15405801</td><td>1</td></tr>\n",
       "<tr><td>39627817452830824</td><td>9</td><td>291</td><td>9291</td><td>4994</td><td>0</td><td>150.50274912942402</td><td>1.2148864288627268</td><td>0.0</td><td>0.0</td><td>2015.5</td><td>5400.0</td><td>2162697</td><td>1</td><td>TGT</td><td>-114.69266</td><td>-266.29843</td><td>103200</td><td>0.8255170324144506</td><td>1</td><td>9010</td><td>338170</td><td>104</td><td>DEV</td><td>1.4409481</td><td>8.02502</td><td>22.846529</td><td>502.59848</td><td>140.32593</td><td>24.4981</td><td>0</td><td>0</td><td></td><td>0.0</td><td>0.0</td><td>0.0</td><td>0.0</td><td>1506p012</td><td>0.023717197</td><td>56.93614</td><td>34.702873</td><td>1.6901852</td><td>0.4621112</td><td>0.43485308</td><td>2.4218113</td><td>6.894685</td><td>0.43485308</td><td>2.4218113</td><td>6.894685</td><td>4.0</td><td>1.3131247</td><td>-0.09249386</td><td>-0.08213849</td><td>S</td><td>103200</td><td>9</td><td>2162697</td><td>0</td><td>0</td><td>0</td><td>0</td><td>0</td><td>0</td><td>1</td><td>0.0</td><td>0.0</td><td>0.0</td><td>0.0</td><td>0.0</td><td>0.0</td><td>740.7125</td><td>0.7715345922265865</td><td>20210406</td><td>83716</td><td>59311.15405801</td><td>1</td></tr>\n",
       "<tr><td>39627823492631250</td><td>9</td><td>200</td><td>9200</td><td>4995</td><td>0</td><td>150.6253571493774</td><td>1.4736326376178555</td><td>0.0</td><td>0.0</td><td>2015.5</td><td>5400.0</td><td>1179714</td><td>1</td><td>TGT</td><td>-144.3387</td><td>-200.80827</td><td>103100</td><td>0.8094105491138553</td><td>1</td><td>9010</td><td>339610</td><td>2770</td><td>REX</td><td>0.48945215</td><td>0.6245306</td><td>0.84860307</td><td>2073.998</td><td>769.8866</td><td>143.97218</td><td>0</td><td>0</td><td></td><td>0.0</td><td>0.0</td><td>0.0</td><td>0.0</td><td>1506p015</td><td>0.024985036</td><td>1.5985843</td><td>2.924577</td><td>3.1931512</td><td>0.6557809</td><td>0.3354342</td><td>0.42800695</td><td>0.5815696</td><td>0.3354342</td><td>0.42800695</td><td>0.5815696</td><td>1.0</td><td>0.24809223</td><td>0.0</td><td>0.0</td><td>S</td><td>103100</td><td>9</td><td>1179714</td><td>0</td><td>0</td><td>0</td><td>0</td><td>0</td><td>0</td><td>1</td><td>0.0</td><td>0.0</td><td>0.0</td><td>0.0</td><td>0.0</td><td>0.0</td><td>740.7125</td><td>0.7871445052134269</td><td>20210406</td><td>83716</td><td>59311.15405801</td><td>1</td></tr>\n",
       "<tr><td>39627817448639576</td><td>9</td><td>256</td><td>9256</td><td>4996</td><td>0</td><td>150.42334523353776</td><td>1.2598962112331848</td><td>0.0</td><td>0.0</td><td>2015.5</td><td>5400.0</td><td>1152921504609009673</td><td>1</td><td>TGT</td><td>-94.7162</td><td>-254.40685</td><td>103200</td><td>0.8895172236371377</td><td>517</td><td>9010</td><td>338169</td><td>3160</td><td>SER</td><td>3.750635</td><td>13.9672</td><td>34.902584</td><td>301.96222</td><td>82.31186</td><td>14.841927</td><td>0</td><td>0</td><td></td><td>0.0</td><td>0.0</td><td>0.0</td><td>0.0</td><td>1503p012</td><td>0.02167184</td><td>73.79634</td><td>46.48466</td><td>1.4391242</td><td>0.40095568</td><td>1.0866165</td><td>4.046512</td><td>10.1118145</td><td>1.087402</td><td>4.049242</td><td>10.116081</td><td>6.0</td><td>1.7429928</td><td>-0.14263077</td><td>0.040348295</td><td>S</td><td>103200</td><td>9</td><td>1152921504609009673</td><td>65537</td><td>0</td><td>0</td><td>0</td><td>0</td><td>0</td><td>1</td><td>0.0</td><td>0.0</td><td>0.0</td><td>0.0</td><td>0.0</td><td>0.0</td><td>740.7125</td><td>0.7685939678820221</td><td>20210406</td><td>83716</td><td>59311.15405801</td><td>1</td></tr>\n",
       "<tr><td>39627823492630560</td><td>9</td><td>201</td><td>9201</td><td>4997</td><td>0</td><td>150.5969989568151</td><td>1.4723137650397176</td><td>0.0</td><td>0.0</td><td>2015.5</td><td>5400.0</td><td>2162697</td><td>1</td><td>TGT</td><td>-137.26599</td><td>-201.02747</td><td>103200</td><td>0.9572352533523718</td><td>1</td><td>9010</td><td>339610</td><td>2080</td><td>DEV</td><td>1.781676</td><td>10.676258</td><td>33.133118</td><td>432.48904</td><td>102.051</td><td>20.604797</td><td>0</td><td>0</td><td></td><td>0.0</td><td>0.0</td><td>0.0</td><td>0.0</td><td>1506p015</td><td>0.02422096</td><td>74.54646</td><td>45.000557</td><td>1.4819183</td><td>0.41758403</td><td>0.45588228</td><td>2.731763</td><td>8.47786</td><td>0.45588228</td><td>2.731763</td><td>8.47786</td><td>4.0</td><td>1.6263587</td><td>-0.07029807</td><td>0.05701011</td><td>S</td><td>103200</td><td>9</td><td>2162697</td><td>0</td><td>0</td><td>0</td><td>0</td><td>0</td><td>0</td><td>1</td><td>0.0</td><td>0.0</td><td>0.0</td><td>0.0</td><td>0.0</td><td>0.0</td><td>740.7125</td><td>0.7692826504052525</td><td>20210406</td><td>83716</td><td>59311.15405801</td><td>1</td></tr>\n",
       "<tr><td>39627817452832536</td><td>9</td><td>234</td><td>9234</td><td>4998</td><td>0</td><td>150.57225766644623</td><td>1.363945809634167</td><td>0.0</td><td>0.0</td><td>2015.5</td><td>5400.0</td><td>1152921504609009673</td><td>1</td><td>TGT</td><td>-131.49118</td><td>-228.39407</td><td>103200</td><td>0.2544627500495461</td><td>517</td><td>9010</td><td>338170</td><td>1816</td><td>SER</td><td>1.6900722</td><td>8.073405</td><td>22.769762</td><td>825.73303</td><td>233.30724</td><td>44.92623</td><td>0</td><td>0</td><td></td><td>0.0</td><td>0.0</td><td>0.0</td><td>0.0</td><td>1506p012</td><td>0.024740117</td><td>64.74752</td><td>38.16058</td><td>1.8933129</td><td>0.517681</td><td>0.6022726</td><td>2.8770313</td><td>8.114212</td><td>0.6023826</td><td>2.8772848</td><td>8.1143265</td><td>1.7469909</td><td>1.23232</td><td>-0.4966888</td><td>0.050384473</td><td>S</td><td>103200</td><td>9</td><td>1152921504609009673</td><td>65545</td><td>0</td><td>0</td><td>0</td><td>0</td><td>0</td><td>1</td><td>0.0</td><td>0.0</td><td>0.0</td><td>0.0</td><td>0.0</td><td>0.0</td><td>740.7125</td><td>0.772249336844614</td><td>20210406</td><td>83716</td><td>59311.15405801</td><td>1</td></tr>\n",
       "<tr><td>39627823492633248</td><td>9</td><td>214</td><td>9214</td><td>4999</td><td>0</td><td>150.70268178723813</td><td>1.4474376494966399</td><td>0.0</td><td>0.0</td><td>2015.5</td><td>5400.0</td><td>1179714</td><td>1</td><td>TGT</td><td>-163.81152</td><td>-207.77715</td><td>103100</td><td>0.787985182206473</td><td>1</td><td>9010</td><td>339610</td><td>4768</td><td>REX</td><td>0.32744956</td><td>0.39867046</td><td>0.9503884</td><td>1836.1365</td><td>688.1631</td><td>148.30983</td><td>0</td><td>0</td><td></td><td>0.0</td><td>0.0</td><td>0.0</td><td>0.0</td><td>1506p015</td><td>0.025407828</td><td>1.2632644</td><td>-0.60247326</td><td>3.2892447</td><td>0.6984522</td><td>0.22831261</td><td>0.27797103</td><td>0.6626537</td><td>0.22831261</td><td>0.27797103</td><td>0.6626537</td><td>1.0</td><td>0.22899148</td><td>0.0</td><td>0.0</td><td>S</td><td>103100</td><td>9</td><td>1179714</td><td>0</td><td>0</td><td>0</td><td>0</td><td>0</td><td>0</td><td>1</td><td>0.0</td><td>0.0</td><td>0.0</td><td>0.0</td><td>0.0</td><td>0.0</td><td>740.7125</td><td>0.7874465787753746</td><td>20210406</td><td>83716</td><td>59311.15405801</td><td>1</td></tr>\n",
       "</table>"
      ],
      "text/plain": [
       "<Table length=8379>\n",
       "     TARGETID     PETAL_LOC DEVICE_LOC LOCATION ... EXPID      MJD       TILEID\n",
       "      int64         int16     int32     int64   ... int32    float64     int32 \n",
       "----------------- --------- ---------- -------- ... ----- -------------- ------\n",
       "39627817436058850         0        311      311 ... 83714 59311.13373053      1\n",
       "39627823484241158         0        156      156 ... 83714 59311.13373053      1\n",
       "39627817444444591         0        198      198 ... 83714 59311.13373053      1\n",
       "39627817440253464         0        233      233 ... 83714 59311.13373053      1\n",
       "39627823480049888         0        172      172 ... 83714 59311.13373053      1\n",
       "39627811400450316         0        310      310 ... 83714 59311.13373053      1\n",
       "39627817444443051         0        170      170 ... 83714 59311.13373053      1\n",
       "39627817440253054         0        186      186 ... 83714 59311.13373053      1\n",
       "39627817440252677         0        217      217 ... 83714 59311.13373053      1\n",
       "39627817440252638         0        202      202 ... 83714 59311.13373053      1\n",
       "              ...       ...        ...      ... ...   ...            ...    ...\n",
       "39627817452833460         9        251     9251 ... 83716 59311.15405801      1\n",
       "39627817448640858         9        220     9220 ... 83716 59311.15405801      1\n",
       "39627817448639797         9        238     9238 ... 83716 59311.15405801      1\n",
       "39627817452833098         9        252     9252 ... 83716 59311.15405801      1\n",
       "39627817452830824         9        291     9291 ... 83716 59311.15405801      1\n",
       "39627823492631250         9        200     9200 ... 83716 59311.15405801      1\n",
       "39627817448639576         9        256     9256 ... 83716 59311.15405801      1\n",
       "39627823492630560         9        201     9201 ... 83716 59311.15405801      1\n",
       "39627817452832536         9        234     9234 ... 83716 59311.15405801      1\n",
       "39627823492633248         9        214     9214 ... 83716 59311.15405801      1"
      ]
     },
     "execution_count": 8,
     "metadata": {},
     "output_type": "execute_result"
    }
   ],
   "source": [
    "fibermap"
   ]
  },
  {
   "cell_type": "code",
   "execution_count": 9,
   "id": "acc56236-beac-4388-8939-a81ead448e95",
   "metadata": {},
   "outputs": [
    {
     "data": {
      "text/plain": [
       "(array([  48.,  207.,  498.,  825., 1332., 1776., 2211., 1389.,   75.,\n",
       "           3.]),\n",
       " array([17.557943, 18.330336, 19.102728, 19.87512 , 20.647512, 21.419905,\n",
       "        22.192297, 22.96469 , 23.737082, 24.509474, 25.281866],\n",
       "       dtype=float32),\n",
       " <a list of 10 Patch objects>)"
      ]
     },
     "execution_count": 9,
     "metadata": {},
     "output_type": "execute_result"
    },
    {
     "data": {
      "image/png": "[encoded data removed]",
      "text/plain": [
       "<Figure size 432x288 with 1 Axes>"
      ]
     },
     "metadata": {
      "needs_background": "light"
     },
     "output_type": "display_data"
    }
   ],
   "source": [
    "select = fibermap['FLUX_R'] > 0\n",
    "r = 22.5 - 2.5*np.log10(fibermap['FLUX_R'][select])\n",
    "plt.hist(r)"
   ]
  },
  {
   "cell_type": "code",
   "execution_count": 10,
   "id": "e5bbd180-e1b1-4fc6-9a7f-1c699a080b74",
   "metadata": {},
   "outputs": [],
   "source": [
    "# Select pairs of galaxies and QSOs.\n",
    "pairs = np.random.choice(zbest['TARGETID'], [int(0.05*len(zbest)), 2], replace=False)\n",
    "\n",
    "# Loop through pairs of TARGETIDs.\n",
    "zlentab, zbkgtab, zjointab = None, None, None\n",
    "\n",
    "for pair in pairs:\n",
    "    # Check the fibermap table to ensure the exposure times of the lens and background are equal.\n",
    "    # Unequal total exposure times could occur if a petal or a CANBus was disabled during one exposure. \n",
    "    select0 = np.in1d(fibermap['TARGETID'], pair[0])\n",
    "    select1 = np.in1d(fibermap['TARGETID'], pair[1])\n",
    "    i, j = np.where(select0)[0], np.where(select1)[0]\n",
    "    exptime0, exptime1 = [np.sum(fibermap[_]['EXPTIME']) for _ in (i,j)]\n",
    "    if exptime0 != exptime1:\n",
    "        continue\n",
    "    \n",
    "    # Sort to make index k the \"lens\" and index l the \"background\" galaxy.\n",
    "    select = np.in1d(zbest['TARGETID'], pair)\n",
    "    pairdata = zbest[select]\n",
    "    k, l = np.where(select)[0] if pairdata[0]['Z'] < pairdata[1]['Z'] else np.where(select)[0][::-1]\n",
    "    \n",
    "    # Then join the two ZBEST table entries into one row.\n",
    "    row = join(zbest[k], zbest[l], join_type='cartesian')\n",
    "    \n",
    "    # Generate a random number giving the relative contribution of objects 1 and 2.\n",
    "    alpha = np.random.uniform(0.1, 0.9)\n",
    "    row['ALPHA'] = alpha\n",
    "    \n",
    "    # Accumulate the rows of pairs of \"lenses\" and \"background\" galaxies.\n",
    "    if zjointab is None:\n",
    "        zjointab = row\n",
    "        zlentab = zbest[k]\n",
    "        zbkgtab = zbest[l]\n",
    "    else:\n",
    "        zjointab = vstack([zjointab, row])\n",
    "        zlentab = vstack([zlentab, zbest[k]])\n",
    "        zbkgtab = vstack([zbkgtab, zbest[l]])"
   ]
  },
  {
   "cell_type": "code",
   "execution_count": 11,
   "id": "fa418946-a327-44fb-b689-9c3df1ba6b1b",
   "metadata": {},
   "outputs": [],
   "source": [
    "i = np.in1d(fibermap['TARGETID'], zlentab['TARGETID'])\n",
    "lentab = unique(fibermap[i]['TARGETID', 'TILEID', 'PETAL_LOC'])\n",
    "\n",
    "i = np.in1d(fibermap['TARGETID'], zbkgtab['TARGETID'])\n",
    "bkgtab = unique(fibermap[i]['TARGETID', 'TILEID', 'PETAL_LOC'])"
   ]
  },
  {
   "cell_type": "code",
   "execution_count": 266,
   "id": "c2a57b12-1377-4e14-b0c8-5808de3212f7",
   "metadata": {},
   "outputs": [
    {
     "name": "stdout",
     "output_type": "stream",
     "text": [
      "DEBUG: Read templates from /global/common/software/desi/cori/desiconda/20190804-1.3.0-spec/code/redrock-templates/master\n",
      "DEBUG: Using default redshift range -0.0050-1.6997 for rrtemplate-galaxy.fits\n",
      "DEBUG: Using default redshift range 0.0500-5.9934 for rrtemplate-qso.fits\n",
      "DEBUG: Using default redshift range -0.0020-0.0020 for rrtemplate-star-A.fits\n",
      "DEBUG: Using default redshift range -0.0020-0.0020 for rrtemplate-star-B.fits\n",
      "DEBUG: Using default redshift range -0.0020-0.0020 for rrtemplate-star-CV.fits\n",
      "DEBUG: Using default redshift range -0.0020-0.0020 for rrtemplate-star-F.fits\n",
      "DEBUG: Using default redshift range -0.0020-0.0020 for rrtemplate-star-G.fits\n",
      "DEBUG: Using default redshift range -0.0020-0.0020 for rrtemplate-star-K.fits\n",
      "DEBUG: Using default redshift range -0.0020-0.0020 for rrtemplate-star-M.fits\n",
      "DEBUG: Using default redshift range -0.0020-0.0020 for rrtemplate-star-WD.fits\n"
     ]
    }
   ],
   "source": [
    "templates = dict()\n",
    "for f in redrock.templates.find_templates():\n",
    "    t = redrock.templates.Template(f)\n",
    "    templates[(t.template_type, t.sub_type)] = t"
   ]
  },
  {
   "cell_type": "code",
   "execution_count": 277,
   "id": "6deb592b-9a43-41ef-a8c6-37ca54dc2ad3",
   "metadata": {},
   "outputs": [
    {
     "name": "stdout",
     "output_type": "stream",
     "text": [
      "INFO:spectra.py:253:read_spectra: iotime 0.418 sec to read coadd-0-1-thru20210406.fits at 2021-06-15T04:23:02.054125\n",
      "INFO:spectra.py:253:read_spectra: iotime 0.437 sec to read coadd-1-1-thru20210406.fits at 2021-06-15T04:23:02.906018\n",
      "INFO:spectra.py:253:read_spectra: iotime 0.448 sec to read coadd-2-1-thru20210406.fits at 2021-06-15T04:23:03.804892\n",
      "INFO:spectra.py:253:read_spectra: iotime 0.415 sec to read coadd-3-1-thru20210406.fits at 2021-06-15T04:23:04.656877\n",
      "INFO:spectra.py:253:read_spectra: iotime 0.431 sec to read coadd-4-1-thru20210406.fits at 2021-06-15T04:23:05.549101\n",
      "INFO:spectra.py:253:read_spectra: iotime 0.614 sec to read coadd-5-1-thru20210406.fits at 2021-06-15T04:23:06.653541\n",
      "INFO:spectra.py:253:read_spectra: iotime 0.419 sec to read coadd-6-1-thru20210406.fits at 2021-06-15T04:23:07.574802\n",
      "INFO:spectra.py:253:read_spectra: iotime 0.437 sec to read coadd-8-1-thru20210406.fits at 2021-06-15T04:23:08.547629\n",
      "INFO:spectra.py:253:read_spectra: iotime 0.403 sec to read coadd-9-1-thru20210406.fits at 2021-06-15T04:23:09.474308\n"
     ]
    }
   ],
   "source": [
    "tile = lentab['TILEID'][0]\n",
    "tilefolder = sorted(glob('{}/{}/{}/*'.format(os.environ['DESI_SPECTRO_REDUX'], redux, tile)))[-1]\n",
    "\n",
    "lenspec = None\n",
    "\n",
    "for petal in np.unique(lentab['PETAL_LOC']):\n",
    "    coadd_file = glob('{}/coadd-{}*.fits'.format(tilefolder, petal))[0]\n",
    "    coadds = read_spectra(coadd_file)\n",
    "    \n",
    "    # Extract selected spectra from this petal.\n",
    "    targetids = lentab[lentab['PETAL_LOC'] == petal]['TARGETID']\n",
    "    i = np.in1d(coadds.fibermap['TARGETID'], targetids)\n",
    "    coadds = coadds[i]\n",
    "    \n",
    "    if lenspec is None:\n",
    "        lenspec = coadds\n",
    "    else:\n",
    "        lenspec = specstack([lenspec, coadds])\n",
    "        \n",
    "# Unscramble the indices so the order of the spectra matches our coadd...\n",
    "idx = np.nonzero(zlentab['TARGETID'][:,None] == lenspec.fibermap['TARGETID'])[1]\n",
    "lenspec = lenspec[idx]\n",
    "lenspec.extra_catalog = zlentab\n",
    "\n",
    "# Compute and store model fluxes from redrock.\n",
    "lenspec.extra = {}\n",
    "for band in 'brz':\n",
    "    model = []\n",
    "    \n",
    "    for i in range(lenspec.num_spectra()):\n",
    "        # Get the redrock best fit model for the lens.\n",
    "        z = lenspec.extra_catalog[i]['Z']\n",
    "        sp, sb = lenspec.extra_catalog[i]['SPECTYPE'], lenspec.extra_catalog[i]['SUBTYPE']\n",
    "        ncoeff = templates[(sp, sb)].flux.shape[0]\n",
    "        coeff = lenspec.extra_catalog[i]['COEFF'][0:ncoeff]\n",
    "        tflux = templates[(sp, sb)].flux.T.dot(coeff)\n",
    "        twave = templates[(sp, sb)].wave * (1 + z)\n",
    "        \n",
    "        R = Resolution(lenspec.resolution_data[band][i])\n",
    "        txflux = R.dot(resample_flux(lenspec.wave[band], twave, tflux))\n",
    "        model.append(txflux)\n",
    "    \n",
    "    lenspec.extra[band] = { 'model' : np.asarray(model) }\n",
    "\n",
    "# Turn off scores.\n",
    "if not hasattr(lenspec, 'scores_comments'):\n",
    "    lenspec.scores_comments = None"
   ]
  },
  {
   "cell_type": "code",
   "execution_count": 278,
   "id": "ae931f08-ac2a-4fdc-991e-d5ac2c3a3517",
   "metadata": {},
   "outputs": [
    {
     "name": "stdout",
     "output_type": "stream",
     "text": [
      "INFO:spectra.py:253:read_spectra: iotime 0.394 sec to read coadd-0-1-thru20210406.fits at 2021-06-15T04:23:11.512144\n",
      "INFO:spectra.py:253:read_spectra: iotime 0.404 sec to read coadd-1-1-thru20210406.fits at 2021-06-15T04:23:12.350159\n",
      "INFO:spectra.py:253:read_spectra: iotime 0.465 sec to read coadd-2-1-thru20210406.fits at 2021-06-15T04:23:13.256225\n",
      "INFO:spectra.py:253:read_spectra: iotime 0.434 sec to read coadd-3-1-thru20210406.fits at 2021-06-15T04:23:14.194291\n",
      "INFO:spectra.py:253:read_spectra: iotime 0.412 sec to read coadd-4-1-thru20210406.fits at 2021-06-15T04:23:15.069502\n",
      "INFO:spectra.py:253:read_spectra: iotime 0.428 sec to read coadd-5-1-thru20210406.fits at 2021-06-15T04:23:15.959870\n",
      "INFO:spectra.py:253:read_spectra: iotime 0.420 sec to read coadd-6-1-thru20210406.fits at 2021-06-15T04:23:16.836387\n",
      "INFO:spectra.py:253:read_spectra: iotime 0.429 sec to read coadd-8-1-thru20210406.fits at 2021-06-15T04:23:17.720421\n",
      "INFO:spectra.py:253:read_spectra: iotime 0.407 sec to read coadd-9-1-thru20210406.fits at 2021-06-15T04:23:18.702168\n"
     ]
    }
   ],
   "source": [
    "tile = bkgtab['TILEID'][0]\n",
    "tilefolder = sorted(glob('{}/{}/{}/*'.format(os.environ['DESI_SPECTRO_REDUX'], redux, tile)))[-1]\n",
    "\n",
    "bkgspec = None\n",
    "\n",
    "for petal in np.unique(bkgtab['PETAL_LOC']):\n",
    "    coadd_file = glob('{}/coadd-{}*.fits'.format(tilefolder, petal))[0]\n",
    "    coadds = read_spectra(coadd_file)\n",
    "    \n",
    "    # Extract selected spectra from this petal.\n",
    "    targetids = bkgtab[bkgtab['PETAL_LOC'] == petal]['TARGETID']\n",
    "    i = np.in1d(coadds.fibermap['TARGETID'], targetids)\n",
    "    coadds = coadds[i]\n",
    "    \n",
    "    if bkgspec is None:\n",
    "        bkgspec = coadds\n",
    "    else:\n",
    "        bkgspec = specstack([bkgspec, coadds])\n",
    "        \n",
    "# Unscramble the indices so the order of the spectra matches our coadd...\n",
    "idx = np.nonzero(zbkgtab['TARGETID'][:,None] == bkgspec.fibermap['TARGETID'])[1]\n",
    "bkgspec = bkgspec[idx]\n",
    "bkgspec.extra_catalog = zbkgtab\n",
    "\n",
    "# Compute and store model fluxes from redrock.\n",
    "bkgspec.extra = {}\n",
    "for band in 'brz':\n",
    "    model = []\n",
    "    \n",
    "    for i in range(bkgspec.num_spectra()):\n",
    "        # Get the redrock best fit model for the lens.\n",
    "        z = bkgspec.extra_catalog[i]['Z']\n",
    "        sp, sb = bkgspec.extra_catalog[i]['SPECTYPE'], bkgspec.extra_catalog[i]['SUBTYPE']\n",
    "        ncoeff = templates[(sp, sb)].flux.shape[0]\n",
    "        coeff = bkgspec.extra_catalog[i]['COEFF'][0:ncoeff]\n",
    "        tflux = templates[(sp, sb)].flux.T.dot(coeff)\n",
    "        twave = templates[(sp, sb)].wave * (1 + z)\n",
    "        \n",
    "        R = Resolution(bkgspec.resolution_data[band][i])\n",
    "        txflux = R.dot(resample_flux(bkgspec.wave[band], twave, tflux))\n",
    "        model.append(txflux)\n",
    "    \n",
    "    bkgspec.extra[band] = {'model' : np.asarray(model)}\n",
    "\n",
    "# Turn off scores.\n",
    "if not hasattr(bkgspec, 'scores_comments'):\n",
    "    bkgspec.scores_comments = None"
   ]
  },
  {
   "cell_type": "code",
   "execution_count": 279,
   "id": "9147e985-deb9-4460-9297-0e024524b30e",
   "metadata": {},
   "outputs": [
    {
     "name": "stdout",
     "output_type": "stream",
     "text": [
      "INFO:spectra.py:154:write_spectra: iotime 0.546 sec to write tile000001_lens_spectra.fits at 2021-06-15T04:23:20.808742\n",
      "INFO:spectra.py:154:write_spectra: iotime 0.525 sec to write tile000001_bkgd_spectra.fits at 2021-06-15T04:23:21.474720\n"
     ]
    },
    {
     "data": {
      "text/plain": [
       "'/global/u2/s/sybenzvi/desi/stronglens/doc/nb/tile000001_bkgd_spectra.fits'"
      ]
     },
     "execution_count": 279,
     "metadata": {},
     "output_type": "execute_result"
    }
   ],
   "source": [
    "write_spectra('tile{:06d}_lens_spectra.fits'.format(tile), lenspec)\n",
    "write_spectra('tile{:06d}_bkgd_spectra.fits'.format(tile), bkgspec)"
   ]
  },
  {
   "cell_type": "code",
   "execution_count": 315,
   "id": "90c19a9b-4fef-4184-a1c7-ac38421f53ac",
   "metadata": {},
   "outputs": [],
   "source": [
    "bands = []\n",
    "wave = {} \n",
    "flux = {}\n",
    "ivar = {}\n",
    "mask = {}\n",
    "fibermap = None\n",
    "extra_catalog=None\n",
    "    \n",
    "for band in 'brz':\n",
    "    f1, w1 = lenspec.flux[band], lenspec.ivar[band]\n",
    "    m1 = []\n",
    "    f2, w2 = bkgspec.flux[band], bkgspec.ivar[band]\n",
    "    m2 = []\n",
    "    alpha = zjointab['ALPHA'][:,None]\n",
    "    w3 = w1*w2 / (alpha*w2 + (1-alpha)*w1)\n",
    "    \n",
    "#     for i in range(lenspec.num_spectra()):\n",
    "#         # Get the redrock best fit model for the lens.\n",
    "#         z = lenspec.extra_catalog[i]['Z']\n",
    "#         sp, sb = lenspec.extra_catalog[i]['SPECTYPE'], lenspec.extra_catalog[i]['SUBTYPE']\n",
    "#         ncoeff = templates[(sp, sb)].flux.shape[0]\n",
    "#         coeff = lenspec.extra_catalog[i]['COEFF'][0:ncoeff]\n",
    "#         tflux = templates[(sp, sb)].flux.T.dot(coeff)\n",
    "#         twave = templates[(sp, sb)].wave * (1 + z)\n",
    "        \n",
    "#         R = Resolution(lenspec.resolution_data[band][i])\n",
    "#         txflux = R.dot(resample_flux(lenspec.wave[band], twave, tflux))\n",
    "#         m1.append(txflux)\n",
    "        \n",
    "#         # Get the redrock best fit model for the background galaxy.\n",
    "#         z = bkgspec.extra_catalog[i]['Z']\n",
    "#         sp, sb = bkgspec.extra_catalog[i]['SPECTYPE'], bkgspec.extra_catalog[i]['SUBTYPE']\n",
    "#         ncoeff = templates[(sp, sb)].flux.shape[0]\n",
    "#         coeff = bkgspec.extra_catalog[i]['COEFF'][0:ncoeff]\n",
    "#         tflux = templates[(sp, sb)].flux.T.dot(coeff)\n",
    "#         twave = templates[(sp, sb)].wave * (1 + z)\n",
    "        \n",
    "#         R = Resolution(bkgspec.resolution_data[band][i])\n",
    "#         txflux = R.dot(resample_flux(bkgspec.wave[band], twave, tflux))\n",
    "#         m2.append(txflux)\n",
    "    \n",
    "    # Add the models using the alpha parameter to tune the relative contribution of the lens and background object.\n",
    "    m1 = lenspec.extra[band]['model']\n",
    "    m2 = bkgspec.extra[band]['model']\n",
    "#     m1 = np.asarray(m1)    \n",
    "#     m2 = np.asarray(m2)\n",
    "    m3 = alpha*m1 + (1-alpha)*m2\n",
    "\n",
    "    n3 = np.sqrt(alpha*(f1-m1)**2 + (1-alpha)*(f2-m2)**2)\n",
    "    f3 = m3\n",
    "#     f3 = np.random.normal(loc=m3, scale=1./np.sqrt(w3))\n",
    "    f3 = np.random.normal(loc=m3, scale=n3)\n",
    "    \n",
    "    # Set up the spectrum wavelength, flux, variance, mask, bands.\n",
    "    wave[band] = lenspec.wave[band]\n",
    "    flux[band] = f3\n",
    "    ivar[band] = w3\n",
    "    mask[band] = lenspec.mask[band] | bkgspec.mask[band]\n",
    "    bands.append(band)\n",
    "\n",
    "# Set up the fibermap as a join of the lens and background fibermaps.\n",
    "for row1, row2 in zip(lenspec.fibermap, bkgspec.fibermap):\n",
    "    newrow = join(row1, row2, join_type='cartesian')\n",
    "    if fibermap is None:\n",
    "        fibermap = newrow\n",
    "    else:\n",
    "        fibermap = vstack([fibermap, newrow])\n",
    "        \n",
    "# Add redshift info from the two individual spectra as an extra catalog.\n",
    "extra_catalog = zjointab\n",
    "\n",
    "newspec = Spectra(bands, wave, flux, ivar, mask, fibermap=fibermap, extra_catalog=extra_catalog)"
   ]
  },
  {
   "cell_type": "code",
   "execution_count": 316,
   "id": "41b76d74-578c-485f-a319-f152ec27e84f",
   "metadata": {},
   "outputs": [
    {
     "name": "stdout",
     "output_type": "stream",
     "text": [
      "INFO:spectra.py:154:write_spectra: iotime 0.201 sec to write tile000001_simlens_spectra.fits at 2021-06-15T04:35:22.629894\n"
     ]
    },
    {
     "data": {
      "text/plain": [
       "'/global/u2/s/sybenzvi/desi/stronglens/doc/nb/tile000001_simlens_spectra.fits'"
      ]
     },
     "execution_count": 316,
     "metadata": {},
     "output_type": "execute_result"
    }
   ],
   "source": [
    "write_spectra('tile{:06d}_simlens_spectra.fits'.format(tile), newspec)"
   ]
  },
  {
   "cell_type": "code",
   "execution_count": 317,
   "id": "1b5521d2-14c8-48be-98ab-acac3119b051",
   "metadata": {},
   "outputs": [
    {
     "name": "stdout",
     "output_type": "stream",
     "text": [
      "INFO:spectra.py:253:read_spectra: iotime 0.130 sec to read tile000001_simlens_spectra.fits at 2021-06-15T04:35:24.256611\n"
     ]
    }
   ],
   "source": [
    "x = read_spectra('tile000001_simlens_spectra.fits')"
   ]
  },
  {
   "cell_type": "code",
   "execution_count": 318,
   "id": "e04113d0-a5c8-4986-aeb3-725d3c677095",
   "metadata": {},
   "outputs": [
    {
     "data": {
      "image/png": "[encoded data removed]",
      "text/plain": [
       "<Figure size 1152x324 with 3 Axes>"
      ]
     },
     "metadata": {
      "needs_background": "light"
     },
     "output_type": "display_data"
    }
   ],
   "source": [
    "from scipy.ndimage import gaussian_filter1d\n",
    "\n",
    "fig, axes = plt.subplots(1,3, figsize=(16,4.5), sharex=True, sharey=True, tight_layout=True)\n",
    "\n",
    "j = 18\n",
    "for b in 'brz':\n",
    "    ax = axes[0]\n",
    "    smoothed = gaussian_filter1d(lenspec.flux[b][j], 5)\n",
    "    ax.plot(lenspec.wave[b], smoothed, lw=1, alpha=0.8)\n",
    "    smoothed = gaussian_filter1d(lenspec.extra[b]['model'][j], 5)\n",
    "    ax.plot(bkgspec.wave[b], smoothed, lw=1, color='k', ls=':')\n",
    "    ax.set(title='Lens: $z={:.3f}$ ({})'.format(lenspec.extra_catalog[j]['Z'], lenspec.extra_catalog[j]['SPECTYPE']),\n",
    "           xlabel=r'$\\lambda_\\mathrm{obs}$ [$\\AA$]',\n",
    "           ylabel=r'flux [erg s$^{-1}$ cm$^{-2}$ $\\AA^{-1}$]')\n",
    "    ax.grid(ls=':')\n",
    "    \n",
    "    ax = axes[1]\n",
    "    smoothed = gaussian_filter1d(bkgspec.flux[b][j], 5)\n",
    "    ax.plot(bkgspec.wave[b], smoothed, lw=1, alpha=0.8)\n",
    "    smoothed = gaussian_filter1d(bkgspec.extra[b]['model'][j], 5)\n",
    "    ax.plot(bkgspec.wave[b], smoothed, lw=1, color='k', ls=':')\n",
    "    ax.set(title='Bkg: $z={:.3f}$ ({})'.format(bkgspec.extra_catalog[j]['Z'], lenspec.extra_catalog[j]['SPECTYPE']),\n",
    "           xlabel=r'$\\lambda_\\mathrm{obs}$ [$\\AA$]')\n",
    "    ax.grid(ls=':')\n",
    "    \n",
    "    ax = axes[2]\n",
    "    smoothed = gaussian_filter1d(newspec.flux[b][j], 5)\n",
    "    ax.plot(newspec.wave[b], smoothed, lw=1, alpha=0.8)\n",
    "    ax.set(title=r'Combined: $\\alpha={:.3f}$'.format(newspec.extra_catalog['ALPHA'][j]),\n",
    "           xlabel=r'$\\lambda_\\mathrm{obs}$ [$\\AA$]')\n",
    "    ax.grid(ls=':')"
   ]
  },
  {
   "cell_type": "code",
   "execution_count": 304,
   "id": "e130c86c-c7f0-447f-9150-9a70b62ed5ff",
   "metadata": {},
   "outputs": [
    {
     "data": {
      "text/plain": [
       "0.6361113315458831"
      ]
     },
     "execution_count": 304,
     "metadata": {},
     "output_type": "execute_result"
    }
   ],
   "source": [
    "newspec.extra_catalog['ALPHA'][7]"
   ]
  },
  {
   "cell_type": "code",
   "execution_count": null,
   "id": "38857d1b-87dc-41c3-be22-cda6409f45b0",
   "metadata": {},
   "outputs": [],
   "source": []
  }
 ],
 "metadata": {
  "kernelspec": {
   "display_name": "DESI master",
   "language": "python",
   "name": "desi-master"
  },
  "language_info": {
   "codemirror_mode": {
    "name": "ipython",
    "version": 3
   },
   "file_extension": ".py",
   "mimetype": "text/x-python",
   "name": "python",
   "nbconvert_exporter": "python",
   "pygments_lexer": "ipython3",
   "version": "3.8.3"
  }
 },
 "nbformat": 4,
 "nbformat_minor": 5
}
