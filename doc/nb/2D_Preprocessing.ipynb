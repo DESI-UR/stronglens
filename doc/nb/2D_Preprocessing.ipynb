{
 "cells": [
  {
   "cell_type": "markdown",
   "metadata": {
    "tags": []
   },
   "source": [
    "# 2D Preprocessing example\n",
    "Notebook used to preprocess DESI Spectra into 2D images and dump them into pickeld files. "
   ]
  },
  {
   "cell_type": "code",
   "execution_count": 1,
   "metadata": {},
   "outputs": [],
   "source": [
    "from desispec.io import read_spectra\n",
    "from desispec.interpolation import resample_flux\n",
    "import desispec.io\n",
    "from desispec.resolution import Resolution\n",
    "from desispec.spectra import Spectra\n",
    "from desispec.coaddition import coadd_cameras\n",
    "from desispec.spectra import stack as specstack\n",
    "\n",
    "from glob import glob\n",
    "\n",
    "import numpy as np\n",
    "import matplotlib as mpl\n",
    "import matplotlib.pyplot as plt\n",
    "\n",
    "from astropy.io import fits\n",
    "from astropy.table import Table, hstack, join, vstack\n",
    "\n",
    "import copy\n",
    "import os\n",
    "import pickle\n",
    "import platform\n",
    "from desiutil.log import get_logger"
   ]
  },
  {
   "cell_type": "markdown",
   "metadata": {},
   "source": [
    " Couldn't install DESITRIP package on NERSC hence rescale and rebin code written below"
   ]
  },
  {
   "cell_type": "code",
   "execution_count": 2,
   "metadata": {},
   "outputs": [],
   "source": [
    "def rescale_flux(flux):\n",
    "    \"\"\"Rescale flux so that it ranges from 0 to 1.\n",
    "    Parameters\n",
    "    ----------\n",
    "    flux : ndarray\n",
    "        Input flux array.\n",
    "    Returns\n",
    "    -------\n",
    "    rsfl : ndarray\n",
    "        Flux rescaled to range between 0 and 1.\n",
    "    \"\"\"\n",
    "\n",
    "    if flux.ndim > 1:\n",
    "        a, b = np.min(flux,axis=1)[:,None], np.max(flux,axis=1)[:,None]\n",
    "    else:\n",
    "        a, b = np.min(flux), np.max(flux)\n",
    "    \n",
    "    return (flux - a) / (b - a)"
   ]
  },
  {
   "cell_type": "code",
   "execution_count": 3,
   "metadata": {},
   "outputs": [],
   "source": [
    "def rebin_flux(wave, flux, ivar=None, z=None, minwave=3600., maxwave=9800., nbins=1, log=False, clip=False):\n",
    "    \"\"\"Rebin differential flux vs wavelength using desispec resample_flux.\n",
    "    Parameters\n",
    "    ----------\n",
    "    wave : ndarray\n",
    "        Input wavelength; assume units of Angstroms.\n",
    "    flux : ndarray\n",
    "        Input differential spectra as a function of wavelength.\n",
    "    ivar : None or ndarray\n",
    "        Inverse variance (weight) of spectra vs wavelength.\n",
    "    z : None, float, or ndarray\n",
    "        Known or estimated redshift(s) for input spectra.\n",
    "    minwave : float\n",
    "        Minimum output wavelength, in units of Angstroms.\n",
    "    maxwave : float\n",
    "        Maximum output wavelength, in units of Angstroms.\n",
    "    nbins : int\n",
    "        Number of output wavelength bins.\n",
    "    log : bool\n",
    "        If true, use logarithmic bins between minwave and maxwave.\n",
    "    clip : bool\n",
    "        If true, clip input values below zero before rescaling.\n",
    "    Returns\n",
    "    -------\n",
    "    basewave : ndarray\n",
    "        Output wavelength, in units of Angstroms.\n",
    "    fl : ndarray\n",
    "        Rebinned spectra.\n",
    "    iv : ndarray\n",
    "        Rebinned inverse variance.\n",
    "    \"\"\"\n",
    "    # Choose new binning.\n",
    "    if log:\n",
    "        basewave = np.logspace(np.log10(minwave), np.log10(maxwave), nbins)\n",
    "    else:\n",
    "        basewave = np.linspace(minwave, maxwave, nbins)\n",
    "\n",
    "    # Shift to rest frame.\n",
    "    if z is not None:\n",
    "        wave = wave/(1+z) if np.isscalar(z) else np.outer(1./(1+z), wave)\n",
    "\n",
    "    if flux.ndim > 1:\n",
    "        # Remove spectra with NaNs and zero flux values.\n",
    "        mask = np.isnan(flux).any(axis=1) | (np.count_nonzero(flux, axis=1) == 0)\n",
    "        mask_idx = np.argwhere(mask)\n",
    "        flux = np.delete(flux, mask_idx, axis=0)\n",
    "        ivar = np.delete(ivar, mask_idx, axis=0)\n",
    "        if wave.ndim > 1:\n",
    "            wave = np.delete(wave, mask_idx, axis=0)\n",
    "\n",
    "        nspec = len(flux)\n",
    "        fl = np.zeros((nspec, nbins))\n",
    "        iv = np.ones((nspec, nbins))\n",
    "        for i in range(nspec):\n",
    "            # Wavelength array may be different for each input flux, e.g., if\n",
    "            # we shift to the rest frame.\n",
    "            wave_ = wave[i] if wave.ndim > 1 else wave\n",
    "\n",
    "            if ivar is not None:\n",
    "                fl[i], iv[i] = resample_flux(basewave, wave_, flux[i], ivar[i])\n",
    "            else:\n",
    "                fl[i] = resample_flux(basewave, wave_, flux[i])\n",
    "    else:\n",
    "        resampled = resample_flux(basewave, wave, flux, ivar)\n",
    "        if ivar is not None:\n",
    "            fl, iv = resampled\n",
    "        else:\n",
    "            fl, iv = resampled, None\n",
    "\n",
    "    # Enable clipping of negative values.\n",
    "    if clip:\n",
    "        fl = fl.clip(min=0)\n",
    "    return basewave, fl, iv"
   ]
  },
  {
   "cell_type": "code",
   "execution_count": 4,
   "metadata": {},
   "outputs": [],
   "source": [
    "def condition_spectra(coadd_files, truth_files):\n",
    "    \"\"\"Read DESI spectra, rebin to a subsampled logarithmic wavelength grid, and rescale.\n",
    "    \n",
    "    Parameters\n",
    "    ----------\n",
    "    coadd_files : list or ndarray\n",
    "        List of FITS files on disk with DESI spectra.\n",
    "    truth_files : list or ndarray\n",
    "        Truth files.\n",
    "    \n",
    "    Returns\n",
    "    -------\n",
    "    fluxes : ndarray\n",
    "        Array of fluxes rebinned to a logarithmic wavelength grid.\n",
    "    \"\"\"\n",
    "    fluxes = None\n",
    "    \n",
    "    for cf, tf in zip(coadd_files, truth_files):\n",
    "        spectra = read_spectra(cf)\n",
    "        wave = spectra.wave['brz']\n",
    "        flux = spectra.flux['brz']\n",
    "        ivar = spectra.ivar['brz']\n",
    "        \n",
    "        truth = Table.read(tf, 'TRUTH')\n",
    "        truez = truth['TRUEZ']\n",
    "\n",
    "#         # Pre-condition: remove spectra with NaNs and zero flux values.\n",
    "#         mask = np.isnan(flux).any(axis=1) | (np.count_nonzero(flux, axis=1) == 0)\n",
    "#         mask_idx = np.argwhere(mask)\n",
    "#         flux = np.delete(flux, mask_idx, axis=0)\n",
    "#         ivar = np.delete(ivar, mask_idx, axis=0)\n",
    "\n",
    "        # Rebin and rescale fluxes so that each is normalized between 0 and 1.\n",
    "        #rewave, reflux, reivar = rebin_flux(wave, flux, ivar, truez, minwave=3600., maxwave=9800., nbins=3600, log=False, clip=True)\n",
    "        rewave, reflux, reivar = rebin_flux(wave, flux, ivar, minwave=3600., maxwave=9800., nbins=3600, log=False, clip=True, z=None)\n",
    "        rsflux = rescale_flux(reflux)\n",
    "        \n",
    "        \n",
    "\n",
    "        if fluxes is None:\n",
    "            fluxes = rsflux\n",
    "        else:\n",
    "            fluxes = np.concatenate((fluxes, rsflux))\n",
    "    \n",
    "    #,rewave,reflux,wave,flux,ivar\n",
    "    return fluxes"
   ]
  },
  {
   "cell_type": "code",
   "execution_count": 5,
   "metadata": {},
   "outputs": [],
   "source": [
    "def to_2d(flux):\n",
    "    \n",
    "    return_flux=[]\n",
    "    for i in range(len(flux)):\n",
    "        trial=flux[i][0:6421]\n",
    "        trial=((trial-np.min(trial))/(np.max(trial) - np.min(trial)))\n",
    "        trial=trial.reshape(60,60)\n",
    "        return_flux.append(trial)\n",
    "        \n",
    "    bad_host_counter=0\n",
    "    final_flux=[]\n",
    "    for i in return_flux:\n",
    "        if np.sum(i)==0 or np.isnan(np.sum(i)):\n",
    "            bad_host_counter=bad_host_counter+1\n",
    "        else:\n",
    "            final_flux.append(i)\n",
    "    \n",
    "    return final_flux"
   ]
  },
  {
   "cell_type": "markdown",
   "metadata": {},
   "source": [
    "## Open Co-added Simulation of Lens+Source\n",
    "\n",
    "### Convert to 2D Spectra without Redshift"
   ]
  },
  {
   "cell_type": "markdown",
   "metadata": {},
   "source": [
    "## Simulated Single Spectra"
   ]
  },
  {
   "cell_type": "code",
   "execution_count": 6,
   "metadata": {},
   "outputs": [
    {
     "name": "stdout",
     "output_type": "stream",
     "text": [
      "INFO:spectra.py:282:read_spectra: iotime 16.788 sec to read coaddcam-single-chunk001.fits at 2021-08-13T08:22:49.621960\n"
     ]
    },
    {
     "name": "stderr",
     "output_type": "stream",
     "text": [
      "WARNING: hdu= was not specified but multiple tables are present, reading in first available table (hdu=1) [astropy.io.fits.connect]\n",
      "WARNING: MergeConflictWarning: Cannot merge meta key 'EXTNAME' types <class 'str'> and <class 'str'>, choosing EXTNAME='FIBERMAP' [astropy.utils.metadata]\n"
     ]
    }
   ],
   "source": [
    "# Read in the file created using a function call to desispec_coadd --coadd-cameras\n",
    "coadd_file = os.path.join(os.getcwd(), '/global/project/projectdirs/desi/science/gqp/stronglens/Sim_SpecLens/Single/coaddcam-single-chunk001.fits')\n",
    "coadd = desispec.io.read_spectra(coadd_file)\n",
    "\n",
    "# Read in the same chunk redshift data to get the ZBEST table and stuff it into the extra_catalog of the Spectra object.\n",
    "# 1) Code below will access the true redshifts.\n",
    "truth=os.path.join(os.getcwd(), '/global/project/projectdirs/desi/science/gqp/stronglens/Sim_SpecLens/Single/lenssource-truth.fits')\n",
    "meta = Table.read(truth, 'METADATA')\n",
    "idxm = np.searchsorted(meta['TARGETID'], coadd.fibermap['TARGETID'])\n",
    "coadd.extra_catalog = meta[idxm]\n",
    "\n",
    "# 2) Code below will access the redshift best fit.\n",
    "#zbest = Table.read('single-chunk001.fits', 'ZBEST')\n",
    "zbest = Table.read(coadd_file)\n",
    "idxz = np.searchsorted(zbest['TARGETID'], coadd.fibermap['TARGETID'])\n",
    "\n",
    "# Mash the redshift truth table into the redshift best-fit table.\n",
    "# Now we can use to check how close the best-fit redshift is matching the lens' true redshift.\n",
    "coadd.extra_catalog = join(meta[idxm], zbest[idxz])"
   ]
  },
  {
   "cell_type": "code",
   "execution_count": 11,
   "metadata": {},
   "outputs": [],
   "source": [
    "# Take all the fluxes in the coadd spectra and rebin to a common wavelength grid.\n",
    "# Note that this does not de-redshift the spectra!\n",
    "rb_wave, rb_flux, rb_ivar = rebin_flux(coadd.wave['brz'], coadd.flux['brz'], coadd.ivar['brz'], nbins=3600)"
   ]
  },
  {
   "cell_type": "code",
   "execution_count": 12,
   "metadata": {},
   "outputs": [],
   "source": [
    "# Convert all the fluxes after rebinning to a 60x60 image.\n",
    "flux_2d = to_2d(rb_flux)"
   ]
  },
  {
   "cell_type": "code",
   "execution_count": 13,
   "metadata": {},
   "outputs": [
    {
     "data": {
      "text/plain": [
       "<matplotlib.image.AxesImage at 0x2aaaed7a89a0>"
      ]
     },
     "execution_count": 13,
     "metadata": {},
     "output_type": "execute_result"
    },
    {
     "data": {
      "image/png": "[encoded data removed]",
      "text/plain": [
       "<Figure size 432x288 with 1 Axes>"
      ]
     },
     "metadata": {
      "needs_background": "light"
     },
     "output_type": "display_data"
    }
   ],
   "source": [
    "# Plot one of the fluxes.\n",
    "plt.imshow(flux_2d[6])"
   ]
  },
  {
   "cell_type": "code",
   "execution_count": 14,
   "metadata": {},
   "outputs": [],
   "source": [
    "# Try dumping to a file.\n",
    "with open(r'chunkall-single.data', 'wb') as f:\n",
    "    pickle.dump(flux_2d, f) "
   ]
  },
  {
   "cell_type": "code",
   "execution_count": null,
   "metadata": {},
   "outputs": [],
   "source": []
  },
  {
   "cell_type": "markdown",
   "metadata": {},
   "source": [
    "## Simulated Lense Spectra"
   ]
  },
  {
   "cell_type": "code",
   "execution_count": null,
   "metadata": {},
   "outputs": [],
   "source": [
    "# Read in the file created using a function call to desispec_coadd --coadd-cameras\n",
    "coadd_file = os.path.join(os.getcwd(), '/global/project/projectdirs/desi/science/gqp/stronglens/Sim_SpecLens/Lense/chunkall-lenssource.fits')\n",
    "coadd = desispec.io.read_spectra(coadd_file)\n",
    "\n",
    "# Read in the same chunk redshift data to get the ZBEST table and stuff it into the extra_catalog of the Spectra object.\n",
    "# 1) Code below will access the true redshifts.\n",
    "truth=os.path.join(os.getcwd(), '/global/project/projectdirs/desi/science/gqp/stronglens/Sim_SpecLens/Lense/lenssource-truth.fits')\n",
    "meta = Table.read(truth, 'METADATA')\n",
    "idxm = np.searchsorted(meta['TARGETID'], coadd.fibermap['TARGETID'])\n",
    "coadd.extra_catalog = meta[idxm]\n",
    "\n",
    "# 2) Code below will access the redshift best fit.\n",
    "#zbest = Table.read('single-chunk001.fits', 'ZBEST')\n",
    "zbest = Table.read(coadd_file)\n",
    "idxz = np.searchsorted(zbest['TARGETID'], coadd.fibermap['TARGETID'])\n",
    "\n",
    "# Mash the redshift truth table into the redshift best-fit table.\n",
    "# Now we can use to check how close the best-fit redshift is matching the lens' true redshift.\n",
    "coadd.extra_catalog = join(meta[idxm], zbest[idxz])\n",
    "\n",
    "plt.plot(coadd.wave['brz'], coadd.flux['brz'][3], coadd.ivar['brz'])"
   ]
  },
  {
   "cell_type": "markdown",
   "metadata": {},
   "source": [
    "## Tile Data from 2021/07/08"
   ]
  },
  {
   "cell_type": "code",
   "execution_count": 6,
   "metadata": {},
   "outputs": [
    {
     "name": "stdout",
     "output_type": "stream",
     "text": [
      "INFO:spectra.py:282:read_spectra: iotime 1.323 sec to read coadd-0-80980-thru20210708.fits at 2021-08-11T21:00:59.315004\n",
      "254\n",
      "INFO:spectra.py:282:read_spectra: iotime 1.010 sec to read coadd-1-80980-thru20210708.fits at 2021-08-11T21:01:01.441521\n",
      "206\n",
      "INFO:spectra.py:282:read_spectra: iotime 0.843 sec to read coadd-2-80980-thru20210708.fits at 2021-08-11T21:01:03.885491\n",
      "177\n",
      "INFO:spectra.py:282:read_spectra: iotime 0.880 sec to read coadd-3-80980-thru20210708.fits at 2021-08-11T21:01:06.400206\n",
      "186\n",
      "INFO:spectra.py:282:read_spectra: iotime 0.762 sec to read coadd-4-80980-thru20210708.fits at 2021-08-11T21:01:09.217127\n",
      "195\n",
      "INFO:spectra.py:282:read_spectra: iotime 0.963 sec to read coadd-5-80980-thru20210708.fits at 2021-08-11T21:01:12.592688\n",
      "210\n",
      "INFO:spectra.py:282:read_spectra: iotime 0.988 sec to read coadd-6-80980-thru20210708.fits at 2021-08-11T21:01:17.945987\n",
      "125\n",
      "INFO:spectra.py:282:read_spectra: iotime 1.305 sec to read coadd-7-80980-thru20210708.fits at 2021-08-11T21:01:22.694732\n",
      "107\n",
      "INFO:spectra.py:282:read_spectra: iotime 0.824 sec to read coadd-8-80980-thru20210708.fits at 2021-08-11T21:01:26.567046\n",
      "147\n",
      "INFO:spectra.py:282:read_spectra: iotime 1.211 sec to read coadd-9-80980-thru20210708.fits at 2021-08-11T21:01:31.337205\n",
      "163\n",
      "INFO:spectra.py:282:read_spectra: iotime 0.953 sec to read coadd-0-80981-thru20210708.fits at 2021-08-11T21:01:35.690286\n",
      "205\n",
      "INFO:spectra.py:282:read_spectra: iotime 0.897 sec to read coadd-1-80981-thru20210708.fits at 2021-08-11T21:01:41.039383\n",
      "228\n",
      "INFO:spectra.py:282:read_spectra: iotime 0.941 sec to read coadd-2-80981-thru20210708.fits at 2021-08-11T21:01:46.793219\n",
      "178\n",
      "INFO:spectra.py:282:read_spectra: iotime 0.744 sec to read coadd-3-80981-thru20210708.fits at 2021-08-11T21:01:52.822667\n",
      "139\n",
      "INFO:spectra.py:282:read_spectra: iotime 0.933 sec to read coadd-4-80981-thru20210708.fits at 2021-08-11T21:01:58.930900\n",
      "116\n",
      "INFO:spectra.py:282:read_spectra: iotime 0.918 sec to read coadd-5-80981-thru20210708.fits at 2021-08-11T21:02:05.306061\n",
      "131\n",
      "INFO:spectra.py:282:read_spectra: iotime 0.774 sec to read coadd-6-80981-thru20210708.fits at 2021-08-11T21:02:11.116284\n",
      "120\n",
      "INFO:spectra.py:282:read_spectra: iotime 0.987 sec to read coadd-7-80981-thru20210708.fits at 2021-08-11T21:02:16.930950\n",
      "128\n",
      "INFO:spectra.py:282:read_spectra: iotime 0.805 sec to read coadd-8-80981-thru20210708.fits at 2021-08-11T21:02:22.869886\n",
      "136\n",
      "INFO:spectra.py:282:read_spectra: iotime 0.916 sec to read coadd-9-80981-thru20210708.fits at 2021-08-11T21:02:31.147443\n",
      "157\n"
     ]
    }
   ],
   "source": [
    "redux = 'daily/tiles/cumulative'\n",
    "basedir = os.environ['DESI_SPECTRO_REDUX']\n",
    "\n",
    "tiles = ['80980', '80981']\n",
    "date = '20210708'\n",
    "\n",
    "too_targets = None\n",
    "\n",
    "for tile in tiles:\n",
    "    tilefolder = '{}/{}/{}/{}'.format(basedir, redux, tile, date)\n",
    "    zbest_files = sorted(glob('{}/zbest*fits'.format(tilefolder)))\n",
    "    for zbest_file in zbest_files:\n",
    "        # Read the redshift fit.\n",
    "        zbest = Table.read(zbest_file, 'ZBEST')\n",
    "           \n",
    "        # Grab the spectra from the corresponding coadd file.\n",
    "        coadd_file = zbest_file.replace('zbest', 'coadd')\n",
    "        coadd = read_spectra(coadd_file)\n",
    "        \n",
    "        # Join the fibermap and zbest tables.\n",
    "        targets = join(coadd.fibermap, zbest, keys=['TARGETID'])\n",
    "        select = (targets['SPECTYPE'] == 'GALAXY') & (targets['ZWARN'] == 0) & (targets['DELTACHI2'] >= 25.)\n",
    "        idx = np.where(select)\n",
    "        \n",
    "        \n",
    "        print(np.sum(select))\n",
    "        \n",
    "        if too_targets is None:\n",
    "            too_targets = coadd[idx]\n",
    "        else:\n",
    "            too_targets = specstack([too_targets, coadd[idx]])"
   ]
  },
  {
   "cell_type": "code",
   "execution_count": 7,
   "metadata": {},
   "outputs": [],
   "source": [
    "coadd_targets = coadd_cameras(too_targets)"
   ]
  },
  {
   "cell_type": "code",
   "execution_count": 8,
   "metadata": {},
   "outputs": [
    {
     "data": {
      "text/plain": [
       "3308"
      ]
     },
     "execution_count": 8,
     "metadata": {},
     "output_type": "execute_result"
    }
   ],
   "source": [
    "coadd_targets.num_spectra()"
   ]
  },
  {
   "cell_type": "code",
   "execution_count": 9,
   "metadata": {},
   "outputs": [
    {
     "data": {
      "text/plain": [
       "[<matplotlib.lines.Line2D at 0x2aaae1379e20>]"
      ]
     },
     "execution_count": 9,
     "metadata": {},
     "output_type": "execute_result"
    },
    {
     "data": {
      "image/png": "[encoded data removed]",
      "text/plain": [
       "<Figure size 432x288 with 1 Axes>"
      ]
     },
     "metadata": {
      "needs_background": "light"
     },
     "output_type": "display_data"
    }
   ],
   "source": [
    "i = np.random.choice(coadd_targets.num_spectra())\n",
    "plt.plot(coadd_targets.wave['brz'], coadd_targets.flux['brz'][i])"
   ]
  },
  {
   "cell_type": "code",
   "execution_count": 10,
   "metadata": {},
   "outputs": [],
   "source": [
    "coadd=coadd_targets\n",
    "rb_wave, rb_flux, rb_ivar = rebin_flux(coadd.wave['brz'], coadd.flux['brz'], coadd.ivar['brz'], nbins=3600)"
   ]
  },
  {
   "cell_type": "code",
   "execution_count": 11,
   "metadata": {},
   "outputs": [],
   "source": [
    "flux_2d = to_2d(rb_flux)\n",
    "ivar_2d=to_2d(rb_ivar)"
   ]
  },
  {
   "cell_type": "code",
   "execution_count": 12,
   "metadata": {},
   "outputs": [],
   "source": [
    "with open(r'too_20210708.data', 'wb') as f:\n",
    "    pickle.dump(flux_2d, f) \n",
    "with open(r'too_20210708_ivar.data', 'wb') as f:\n",
    "    pickle.dump(ivar_2d, f) "
   ]
  },
  {
   "cell_type": "markdown",
   "metadata": {},
   "source": [
    "## Synthlens Synthetic Strong Lens Generator Lens Spectra"
   ]
  },
  {
   "cell_type": "code",
   "execution_count": 6,
   "metadata": {},
   "outputs": [],
   "source": [
    "fitfile=[\n",
    "    'tile000001',\n",
    "    'tile000002',\n",
    "    'tile000012',\n",
    "    'tile000013',\n",
    "    'tile000014',\n",
    "    'tile000015',\n",
    "    'tile000016',\n",
    "    'tile000017',\n",
    "    'tile000018',\n",
    "    'tile000019',\n",
    "    'tile000020',\n",
    "    'tile000021',\n",
    "    'tile000028',\n",
    "    'tile000029',\n",
    "    'tile000030',\n",
    "    'tile000039',\n",
    "    'tile000040',\n",
    "    'tile000041',\n",
    "    'tile000042'\n",
    "]"
   ]
  },
  {
   "cell_type": "code",
   "execution_count": 8,
   "metadata": {},
   "outputs": [
    {
     "name": "stdout",
     "output_type": "stream",
     "text": [
      "INFO:spectra.py:282:read_spectra: iotime 2.691 sec to read tile000001_sgl_coadd.fits at 2021-08-17T10:07:53.712006\n",
      "INFO:spectra.py:282:read_spectra: iotime 2.807 sec to read tile000002_sgl_coadd.fits at 2021-08-17T10:08:06.684933\n",
      "INFO:spectra.py:282:read_spectra: iotime 3.295 sec to read tile000012_sgl_coadd.fits at 2021-08-17T10:08:20.731579\n",
      "INFO:spectra.py:282:read_spectra: iotime 2.421 sec to read tile000013_sgl_coadd.fits at 2021-08-17T10:08:35.238858\n",
      "INFO:spectra.py:282:read_spectra: iotime 2.145 sec to read tile000014_sgl_coadd.fits at 2021-08-17T10:08:46.745539\n",
      "INFO:spectra.py:282:read_spectra: iotime 1.653 sec to read tile000015_sgl_coadd.fits at 2021-08-17T10:08:55.761240\n",
      "INFO:spectra.py:282:read_spectra: iotime 1.280 sec to read tile000016_sgl_coadd.fits at 2021-08-17T10:09:02.703742\n",
      "INFO:spectra.py:282:read_spectra: iotime 1.712 sec to read tile000017_sgl_coadd.fits at 2021-08-17T10:09:08.289769\n",
      "INFO:spectra.py:282:read_spectra: iotime 1.686 sec to read tile000018_sgl_coadd.fits at 2021-08-17T10:09:15.412347\n",
      "INFO:spectra.py:282:read_spectra: iotime 1.614 sec to read tile000019_sgl_coadd.fits at 2021-08-17T10:09:22.477378\n",
      "INFO:spectra.py:282:read_spectra: iotime 1.630 sec to read tile000020_sgl_coadd.fits at 2021-08-17T10:09:29.554455\n",
      "INFO:spectra.py:282:read_spectra: iotime 1.534 sec to read tile000021_sgl_coadd.fits at 2021-08-17T10:09:36.751178\n",
      "INFO:spectra.py:282:read_spectra: iotime 2.671 sec to read tile000028_sgl_coadd.fits at 2021-08-17T10:09:44.834300\n",
      "INFO:spectra.py:282:read_spectra: iotime 2.908 sec to read tile000029_sgl_coadd.fits at 2021-08-17T10:09:57.895264\n",
      "INFO:spectra.py:282:read_spectra: iotime 2.763 sec to read tile000030_sgl_coadd.fits at 2021-08-17T10:10:11.327509\n",
      "INFO:spectra.py:282:read_spectra: iotime 3.041 sec to read tile000039_sgl_coadd.fits at 2021-08-17T10:10:25.153696\n",
      "INFO:spectra.py:282:read_spectra: iotime 2.646 sec to read tile000040_sgl_coadd.fits at 2021-08-17T10:10:39.679873\n",
      "INFO:spectra.py:282:read_spectra: iotime 2.378 sec to read tile000041_sgl_coadd.fits at 2021-08-17T10:10:52.219505\n",
      "INFO:spectra.py:282:read_spectra: iotime 1.920 sec to read tile000042_sgl_coadd.fits at 2021-08-17T10:11:02.575489\n"
     ]
    }
   ],
   "source": [
    "import pickle\n",
    "for tile in range(len(fitfile)):\n",
    "    coadd_file=os.path.join(os.getcwd(), '/global/project/projectdirs/desi/science/gqp/stronglens/training/everest/{}_sgl_coadd.fits'.format(fitfile[tile]))\n",
    "    coadd = desispec.io.read_spectra(coadd_file)\n",
    "    if coadd.flux !=0:\n",
    "        rb_wave, rb_flux, rb_ivar = rebin_flux(coadd.wave['brz'], coadd.flux['brz'], coadd.ivar['brz'], nbins=3600)\n",
    "        flux_2d=to_2d(rb_flux)\n",
    "        ivar_2d=to_2d(rb_ivar)\n",
    "        with open(r'single_spectra{}.data'.format(tile), 'wb') as f:\n",
    "            pickle.dump(flux_2d, f) \n",
    "        with open(r'single_spectra{}_ivar.data'.format(tile), 'wb') as f:\n",
    "            pickle.dump(ivar_2d, f) "
   ]
  },
  {
   "cell_type": "code",
   "execution_count": 48,
   "metadata": {},
   "outputs": [
    {
     "name": "stdout",
     "output_type": "stream",
     "text": [
      "INFO:spectra.py:282:read_spectra: iotime 0.803 sec to read tile000001_simlens_coadd.fits at 2021-08-17T11:04:59.994253\n",
      "INFO:spectra.py:282:read_spectra: iotime 0.887 sec to read tile000002_simlens_coadd.fits at 2021-08-17T11:05:03.217939\n",
      "INFO:spectra.py:282:read_spectra: iotime 0.685 sec to read tile000012_simlens_coadd.fits at 2021-08-17T11:05:06.303524\n",
      "INFO:spectra.py:282:read_spectra: iotime 0.799 sec to read tile000013_simlens_coadd.fits at 2021-08-17T11:05:09.143490\n",
      "INFO:spectra.py:282:read_spectra: iotime 0.773 sec to read tile000014_simlens_coadd.fits at 2021-08-17T11:05:11.895250\n",
      "INFO:spectra.py:282:read_spectra: iotime 0.546 sec to read tile000015_simlens_coadd.fits at 2021-08-17T11:05:14.067186\n",
      "INFO:spectra.py:282:read_spectra: iotime 0.415 sec to read tile000016_simlens_coadd.fits at 2021-08-17T11:05:15.694084\n",
      "INFO:spectra.py:282:read_spectra: iotime 0.489 sec to read tile000017_simlens_coadd.fits at 2021-08-17T11:05:17.058138\n",
      "INFO:spectra.py:282:read_spectra: iotime 0.496 sec to read tile000018_simlens_coadd.fits at 2021-08-17T11:05:18.827229\n",
      "INFO:spectra.py:282:read_spectra: iotime 0.535 sec to read tile000019_simlens_coadd.fits at 2021-08-17T11:05:20.568055\n",
      "INFO:spectra.py:282:read_spectra: iotime 0.562 sec to read tile000020_simlens_coadd.fits at 2021-08-17T11:05:22.203018\n",
      "INFO:spectra.py:282:read_spectra: iotime 0.486 sec to read tile000021_simlens_coadd.fits at 2021-08-17T11:05:23.959282\n",
      "INFO:spectra.py:282:read_spectra: iotime 0.917 sec to read tile000028_simlens_coadd.fits at 2021-08-17T11:05:26.067308\n",
      "INFO:spectra.py:282:read_spectra: iotime 0.788 sec to read tile000029_simlens_coadd.fits at 2021-08-17T11:05:29.307766\n",
      "INFO:spectra.py:282:read_spectra: iotime 0.778 sec to read tile000030_simlens_coadd.fits at 2021-08-17T11:05:32.440138\n",
      "INFO:spectra.py:282:read_spectra: iotime 0.978 sec to read tile000039_simlens_coadd.fits at 2021-08-17T11:05:35.598600\n",
      "INFO:spectra.py:282:read_spectra: iotime 0.844 sec to read tile000040_simlens_coadd.fits at 2021-08-17T11:05:38.801776\n",
      "INFO:spectra.py:282:read_spectra: iotime 0.791 sec to read tile000041_simlens_coadd.fits at 2021-08-17T11:05:41.765728\n",
      "INFO:spectra.py:282:read_spectra: iotime 0.546 sec to read tile000042_simlens_coadd.fits at 2021-08-17T11:05:44.101546\n"
     ]
    }
   ],
   "source": [
    "for tile in range(len(fitfile)):\n",
    "    coadd_file=os.path.join(os.getcwd(), '/global/project/projectdirs/desi/science/gqp/stronglens/training/everest/{}_simlens_coadd.fits'.format(fitfile[tile]))\n",
    "    coadd = desispec.io.read_spectra(coadd_file)\n",
    "    if coadd.flux !=0:\n",
    "        rb_wave, rb_flux, rb_ivar = rebin_flux(coadd.wave['brz'], coadd.flux['brz'], coadd.ivar['brz'], nbins=3600)\n",
    "        flux_2d=to_2d(rb_flux)\n",
    "        ivar_2d=to_2d(rb_ivar)\n",
    "        with open(r'lens_spectra{}.data'.format(tile), 'wb') as f:\n",
    "            pickle.dump(flux_2d, f) \n",
    "        with open(r'lens_spectra{}_ivar.data'.format(tile), 'wb') as f:\n",
    "            pickle.dump(ivar_2d, f) "
   ]
  },
  {
   "cell_type": "code",
   "execution_count": 38,
   "metadata": {},
   "outputs": [
    {
     "data": {
      "text/plain": [
       "(1.0, 337, 337)"
      ]
     },
     "execution_count": 38,
     "metadata": {},
     "output_type": "execute_result"
    }
   ],
   "source": [
    "hdus = fits.open('/global/project/projectdirs/desi/science/gqp/stronglens/training/everest-backup/tile000010_simlens_spectra.fits')\n",
    "extra = hdus['EXTRA_CATALOG'].data\n",
    "fmap = hdus['FIBERMAP'].data\n",
    "len(extra) / len(fmap), len(extra), len(fmap)"
   ]
  },
  {
   "cell_type": "markdown",
   "metadata": {},
   "source": [
    "## Read Coadds + Extra Catalog\n",
    "\n",
    "We need to grab the `extra_catalog` data from the spectra which are not preserved in the coadd files. These contain the `alpha` parameter used during the creation of the synthetic strong lenses."
   ]
  },
  {
   "cell_type": "code",
   "execution_count": 51,
   "metadata": {},
   "outputs": [],
   "source": [
    "def preproc_and_pickle(filename, coadds):\n",
    "    \"\"\"Preprocess an array of coadded spectra and pickle the output.\n",
    "    \n",
    "    Parameters\n",
    "    ----------\n",
    "    filename : str\n",
    "        Output filename.\n",
    "    coadds : Spectra\n",
    "        Object with coadds we want pickled.\n",
    "    \"\"\"\n",
    "    # Preprocess the individual spectra.\n",
    "    rb_wave, rb_flux, rb_ivar = rebin_flux(coadds.wave['brz'], coadds.flux['brz'], coadds.ivar['brz'], nbins=3600)\n",
    "    flux_2d = to_2d(rb_flux)\n",
    "    with open(filename, 'wb') as f:\n",
    "        pickle.dump(flux_2d, f)\n",
    "    with open(f'ivar_{filename}', 'wb') as f:\n",
    "        pickle.dump(to_2d(rb_ivar), f)"
   ]
  },
  {
   "cell_type": "code",
   "execution_count": 52,
   "metadata": {},
   "outputs": [
    {
     "name": "stdout",
     "output_type": "stream",
     "text": [
      "INFO:spectra.py:282:read_spectra: iotime 0.492 sec to read tile000001_simlens_coadd.fits at 2021-08-17T18:02:29.070973\n",
      "Cumulative counts: 47 111 114 152\n",
      "INFO:spectra.py:282:read_spectra: iotime 0.564 sec to read tile000002_simlens_coadd.fits at 2021-08-17T18:02:30.819934\n",
      "Cumulative counts: 104 230 228 315\n",
      "INFO:spectra.py:282:read_spectra: iotime 0.469 sec to read tile000003_simlens_coadd.fits at 2021-08-17T18:02:33.270678\n",
      "Cumulative counts: 159 348 335 476\n",
      "INFO:spectra.py:282:read_spectra: iotime 0.507 sec to read tile000004_simlens_coadd.fits at 2021-08-17T18:02:36.633936\n",
      "Cumulative counts: 219 454 453 646\n",
      "INFO:spectra.py:282:read_spectra: iotime 0.642 sec to read tile000005_simlens_coadd.fits at 2021-08-17T18:02:40.677763\n",
      "Cumulative counts: 275 569 553 803\n",
      "INFO:spectra.py:282:read_spectra: iotime 0.516 sec to read tile000006_simlens_coadd.fits at 2021-08-17T18:02:45.059540\n",
      "Cumulative counts: 326 688 659 941\n",
      "INFO:spectra.py:282:read_spectra: iotime 0.477 sec to read tile000007_simlens_coadd.fits at 2021-08-17T18:02:50.182041\n",
      "Cumulative counts: 384 785 741 1057\n",
      "INFO:spectra.py:282:read_spectra: iotime 0.505 sec to read tile000008_simlens_coadd.fits at 2021-08-17T18:02:55.707682\n",
      "Cumulative counts: 429 884 834 1208\n",
      "INFO:spectra.py:282:read_spectra: iotime 0.522 sec to read tile000009_simlens_coadd.fits at 2021-08-17T18:03:01.944708\n",
      "Cumulative counts: 477 967 924 1348\n",
      "INFO:spectra.py:282:read_spectra: iotime 0.499 sec to read tile000010_simlens_coadd.fits at 2021-08-17T18:03:08.395776\n",
      "Cumulative counts: 516 1056 1016 1465\n",
      "INFO:spectra.py:282:read_spectra: iotime 0.544 sec to read tile000011_simlens_coadd.fits at 2021-08-17T18:03:15.215695\n",
      "Cumulative counts: 563 1139 1112 1609\n",
      "INFO:spectra.py:282:read_spectra: iotime 0.548 sec to read tile000012_simlens_coadd.fits at 2021-08-17T18:03:22.637924\n",
      "Cumulative counts: 601 1257 1219 1736\n",
      "INFO:spectra.py:282:read_spectra: iotime 0.543 sec to read tile000013_simlens_coadd.fits at 2021-08-17T18:03:30.466279\n",
      "Cumulative counts: 657 1354 1314 1892\n",
      "INFO:spectra.py:282:read_spectra: iotime 0.513 sec to read tile000014_simlens_coadd.fits at 2021-08-17T18:03:39.494682\n",
      "Cumulative counts: 703 1428 1392 2014\n",
      "INFO:spectra.py:282:read_spectra: iotime 0.385 sec to read tile000015_simlens_coadd.fits at 2021-08-17T18:03:48.281900\n",
      "Cumulative counts: 732 1495 1445 2105\n",
      "INFO:spectra.py:282:read_spectra: iotime 0.331 sec to read tile000016_simlens_coadd.fits at 2021-08-17T18:03:57.020545\n",
      "Cumulative counts: 751 1543 1487 2162\n",
      "INFO:spectra.py:282:read_spectra: iotime 0.392 sec to read tile000017_simlens_coadd.fits at 2021-08-17T18:04:05.896439\n",
      "Cumulative counts: 777 1590 1551 2261\n",
      "INFO:spectra.py:282:read_spectra: iotime 0.493 sec to read tile000018_simlens_coadd.fits at 2021-08-17T18:04:15.703357\n",
      "Cumulative counts: 811 1656 1604 2343\n",
      "INFO:spectra.py:282:read_spectra: iotime 0.387 sec to read tile000019_simlens_coadd.fits at 2021-08-17T18:04:26.881521\n",
      "Cumulative counts: 839 1707 1665 2441\n",
      "INFO:spectra.py:282:read_spectra: iotime 0.338 sec to read tile000020_simlens_coadd.fits at 2021-08-17T18:04:38.092462\n",
      "Cumulative counts: 862 1775 1724 2535\n",
      "INFO:spectra.py:282:read_spectra: iotime 0.409 sec to read tile000021_simlens_coadd.fits at 2021-08-17T18:04:50.036754\n",
      "Cumulative counts: 892 1835 1784 2624\n",
      "INFO:spectra.py:282:read_spectra: iotime 0.553 sec to read tile000028_simlens_coadd.fits at 2021-08-17T18:05:01.442486\n",
      "Cumulative counts: 948 1936 1890 2809\n",
      "INFO:spectra.py:282:read_spectra: iotime 0.536 sec to read tile000029_simlens_coadd.fits at 2021-08-17T18:05:14.315878\n",
      "Cumulative counts: 1014 2050 2009 2963\n",
      "INFO:spectra.py:282:read_spectra: iotime 0.690 sec to read tile000030_simlens_coadd.fits at 2021-08-17T18:05:27.198232\n",
      "Cumulative counts: 1065 2162 2121 3129\n",
      "INFO:spectra.py:282:read_spectra: iotime 0.659 sec to read tile000039_simlens_coadd.fits at 2021-08-17T18:05:40.480994\n",
      "Cumulative counts: 1121 2280 2245 3324\n",
      "INFO:spectra.py:282:read_spectra: iotime 0.592 sec to read tile000040_simlens_coadd.fits at 2021-08-17T18:05:54.345006\n",
      "Cumulative counts: 1172 2392 2347 3481\n",
      "INFO:spectra.py:282:read_spectra: iotime 0.422 sec to read tile000041_simlens_coadd.fits at 2021-08-17T18:06:08.884572\n",
      "Cumulative counts: 1222 2496 2428 3598\n",
      "INFO:spectra.py:282:read_spectra: iotime 0.523 sec to read tile000042_simlens_coadd.fits at 2021-08-17T18:06:23.590848\n",
      "Cumulative counts: 1253 2558 2510 3704\n"
     ]
    }
   ],
   "source": [
    "# Generate a sorted list of all coadded simlens files.\n",
    "specfiles = sorted(glob('/global/project/projectdirs/desi/science/gqp/stronglens/training/everest/tile*simlens_spectra.fits'))\n",
    "\n",
    "coadds_equal = None\n",
    "coadds_less = None\n",
    "coadds_very = None\n",
    "coadds_extr = None\n",
    "\n",
    "neq, nls, nvr, nex = 0, 0, 0, 0\n",
    "\n",
    "# Loop through files and extract the alpha parameter for the fits.\n",
    "for i, specfile in enumerate(specfiles):\n",
    "    # Read the coadded spectra.\n",
    "    extra_catalog = Table.read(specfile, 'EXTRA_CATALOG')\n",
    "    \n",
    "    coaddfile = specfile.replace('spectra', 'coadd')\n",
    "    coadds = read_spectra(coaddfile)\n",
    "    if not np.all(np.in1d(coadds.fibermap['TARGETID'], extra_catalog['TARGETID_1'])):\n",
    "        print('ERROR: mismatch between extra catalog in {} and coadd fibermap in {}'.format(os.path.basename(specfile), os.path.basename(coaddfile)))\n",
    "        continue\n",
    "    coadds.extra_catalog = extra_catalog\n",
    "    \n",
    "    # Set up some cuts on the alpha parameter.\n",
    "    alpha = coadds.extra_catalog['ALPHA']\n",
    "    select_equal = (alpha > 0.45) & (alpha < 0.55)\n",
    "    select_less = ((alpha > 0.35) & (alpha < 0.45)) | ((alpha > 0.55) & (alpha < 0.65))\n",
    "    select_very = ((alpha > 0.25) & (alpha < 0.35)) | ((alpha > 0.65) & (alpha < 0.75))\n",
    "    select_extr = (alpha < 0.25) | (alpha > 0.75)\n",
    "    \n",
    "    # Accumulate coadds in the relevant \"buckets\" based on the value of alpha.\n",
    "    if coadds_equal is None:\n",
    "        coadds_equal = coadds[select_equal]\n",
    "        coadds_less = coadds[select_less]\n",
    "        coadds_very = coadds[select_very]\n",
    "        coadds_extr = coadds[select_extr]\n",
    "    else:\n",
    "        coadds_equal = specstack([coadds_equal, coadds[select_equal]])\n",
    "        coadds_less = specstack([coadds_less, coadds[select_less]])\n",
    "        coadds_very = specstack([coadds_very, coadds[select_very]])\n",
    "        coadds_extr = specstack([coadds_extr, coadds[select_extr]])\n",
    "    \n",
    "    neq += np.sum(select_equal)\n",
    "    nls += np.sum(select_less)\n",
    "    nvr += np.sum(select_very)\n",
    "    nex += np.sum(select_extr)\n",
    "    \n",
    "    print('Cumulative counts: {} {} {} {}'.format(neq, nls, nvr, nex))\n",
    "    \n",
    "#     if i > 1:\n",
    "#         break\n",
    "        \n",
    "# Preprocess and pickle the individual spectra.\n",
    "preproc_and_pickle(r'lens_spectra_equal_alpha.data', coadds_equal)\n",
    "preproc_and_pickle(r'lens_spectra_less_alpha.data', coadds_less)\n",
    "preproc_and_pickle(r'lens_spectra_very_alpha.data', coadds_very)\n",
    "preproc_and_pickle(r'lens_spectra_extr_alpha.data', coadds_extr)\n",
    "\n",
    "# rb_wave, rb_flux, rb_ivar = rebin_flux(coadds_equal.wave['brz'], coadds_equal.flux['brz'], coadds_equal.ivar['brz'], nbins=3600)\n",
    "# flux_2d = to_2d(rb_flux)\n",
    "# with open(r'lens_spectra_equal_alpha.data', 'wb') as f:\n",
    "#     pickle.dump(flux_2d, f)"
   ]
  },
  {
   "cell_type": "code",
   "execution_count": 22,
   "metadata": {},
   "outputs": [
    {
     "data": {
      "text/plain": [
       "array([3600. , 3600.8, 3601.6, ..., 9822.4, 9823.2, 9824. ])"
      ]
     },
     "execution_count": 22,
     "metadata": {},
     "output_type": "execute_result"
    }
   ],
   "source": [
    "coadds_equal.wave['brz']"
   ]
  },
  {
   "cell_type": "code",
   "execution_count": null,
   "metadata": {},
   "outputs": [],
   "source": [
    "coadd=coadd_targets\n",
    "rb_wave, rb_flux, rb_ivar = rebin_flux(coadd.wave['brz'], coadd.flux['brz'], coadd.ivar['brz'], nbins=3600)"
   ]
  },
  {
   "cell_type": "code",
   "execution_count": null,
   "metadata": {},
   "outputs": [],
   "source": [
    "flux_2d = to_2d(rb_flux)\n",
    "ivar_2d=to_2d(rb_ivar)\n",
    "with open(r'too_20210708.data', 'wb') as f:\n",
    "    pickle.dump(flux_2d, f) \n",
    "with open(r'too_20210708_ivar.data', 'wb') as f:\n",
    "    pickle.dump(ivar_2d, f) "
   ]
  },
  {
   "cell_type": "code",
   "execution_count": 53,
   "metadata": {},
   "outputs": [],
   "source": [
    "coadd.extra_catalog"
   ]
  },
  {
   "cell_type": "markdown",
   "metadata": {},
   "source": [
    "### Convert to 2D Spectra with Redshift\n",
    "\n",
    "Here we are using the **true** redshift from the truth tables. This is bad and we don't want to train on these because we never really know the true redshift.\n",
    "\n",
    "At best, we only want to train on the best-fit redshift."
   ]
  },
  {
   "cell_type": "code",
   "execution_count": null,
   "metadata": {},
   "outputs": [],
   "source": [
    "coadd.fibermap"
   ]
  },
  {
   "cell_type": "code",
   "execution_count": null,
   "metadata": {},
   "outputs": [],
   "source": [
    "# Take all the fluxes in the coadd spectra and rebin to a common wavelength grid.\n",
    "# Note that this does not de-redshift the spectra!\n",
    "rb_wave, rb_flux, rb_ivar = rebin_flux(coadd.wave['brz'], coadd.flux['brz'], coadd.ivar['brz'], z=coadd.extra_catalog['Z'], nbins=3600)"
   ]
  },
  {
   "cell_type": "code",
   "execution_count": 47,
   "metadata": {},
   "outputs": [],
   "source": [
    "# Convert all the fluxes after rebinning to a 60x60 image.\n",
    "flux_2d = to_2d(rb_flux)"
   ]
  },
  {
   "cell_type": "code",
   "execution_count": 48,
   "metadata": {},
   "outputs": [
    {
     "data": {
      "text/plain": [
       "<matplotlib.image.AxesImage at 0x2aaaed9e7610>"
      ]
     },
     "execution_count": 48,
     "metadata": {},
     "output_type": "execute_result"
    },
    {
     "data": {
      "image/png": "[encoded data removed]",
      "text/plain": [
       "<Figure size 432x288 with 1 Axes>"
      ]
     },
     "metadata": {
      "needs_background": "light"
     },
     "output_type": "display_data"
    }
   ],
   "source": [
    "# Plot one of the fluxes.\n",
    "plt.imshow(flux_2d[3])"
   ]
  },
  {
   "cell_type": "markdown",
   "metadata": {},
   "source": [
    "## Stuff from Eddie's Notebook"
   ]
  },
  {
   "cell_type": "code",
   "execution_count": null,
   "metadata": {},
   "outputs": [],
   "source": [
    "host_truth = np.sort(glob.glob((r'/global/project/projectdirs/desi/science/td/sim/bgs/150s/hosts/*truth.fits')))\n",
    "host_coadd= np.sort(glob.glob((r'/global/project/projectdirs/desi/science/td/sim/bgs/150s/hosts/*coadd.fits')))\n",
    "host_flux= condition_spectra(host_coadd, host_truth)"
   ]
  },
  {
   "cell_type": "code",
   "execution_count": 62,
   "metadata": {},
   "outputs": [
    {
     "name": "stdout",
     "output_type": "stream",
     "text": [
      "INFO:spectra.py:282:read_spectra: iotime 0.179 sec to read bgs_2020-03-08_0150s_001_coadd.fits at 2021-07-20T10:03:42.431432\n",
      "INFO:spectra.py:282:read_spectra: iotime 0.166 sec to read bgs_2020-03-08_0150s_002_coadd.fits at 2021-07-20T10:03:43.033719\n",
      "INFO:spectra.py:282:read_spectra: iotime 0.177 sec to read bgs_2020-03-08_0150s_003_coadd.fits at 2021-07-20T10:03:43.646984\n",
      "INFO:spectra.py:282:read_spectra: iotime 0.185 sec to read bgs_2020-03-08_0150s_004_coadd.fits at 2021-07-20T10:03:44.275299\n",
      "INFO:spectra.py:282:read_spectra: iotime 0.173 sec to read bgs_2020-03-08_0150s_005_coadd.fits at 2021-07-20T10:03:44.877071\n",
      "INFO:spectra.py:282:read_spectra: iotime 0.156 sec to read bgs_2020-03-08_0150s_006_coadd.fits at 2021-07-20T10:03:45.484597\n",
      "INFO:spectra.py:282:read_spectra: iotime 0.159 sec to read bgs_2020-03-08_0150s_007_coadd.fits at 2021-07-20T10:03:46.168353\n",
      "INFO:spectra.py:282:read_spectra: iotime 0.164 sec to read bgs_2020-03-08_0150s_008_coadd.fits at 2021-07-20T10:03:46.771673\n",
      "INFO:spectra.py:282:read_spectra: iotime 0.193 sec to read bgs_2020-03-08_0150s_009_coadd.fits at 2021-07-20T10:03:47.416368\n",
      "INFO:spectra.py:282:read_spectra: iotime 0.156 sec to read bgs_2020-03-08_0150s_010_coadd.fits at 2021-07-20T10:03:48.069773\n",
      "INFO:spectra.py:282:read_spectra: iotime 0.214 sec to read bgs_2020-03-08_0150s_011_coadd.fits at 2021-07-20T10:03:48.766528\n",
      "INFO:spectra.py:282:read_spectra: iotime 0.192 sec to read bgs_2020-03-08_0150s_012_coadd.fits at 2021-07-20T10:03:49.430998\n",
      "INFO:spectra.py:282:read_spectra: iotime 0.163 sec to read bgs_2020-03-08_0150s_013_coadd.fits at 2021-07-20T10:03:50.096683\n",
      "INFO:spectra.py:282:read_spectra: iotime 0.187 sec to read bgs_2020-03-08_0150s_014_coadd.fits at 2021-07-20T10:03:50.719994\n",
      "INFO:spectra.py:282:read_spectra: iotime 0.212 sec to read bgs_2020-03-08_0150s_015_coadd.fits at 2021-07-20T10:03:51.486073\n",
      "INFO:spectra.py:282:read_spectra: iotime 0.160 sec to read bgs_2020-03-08_0150s_016_coadd.fits at 2021-07-20T10:03:52.148697\n",
      "INFO:spectra.py:282:read_spectra: iotime 0.164 sec to read bgs_2020-03-08_0150s_017_coadd.fits at 2021-07-20T10:03:52.799163\n",
      "INFO:spectra.py:282:read_spectra: iotime 0.179 sec to read bgs_2020-03-08_0150s_018_coadd.fits at 2021-07-20T10:03:53.447473\n",
      "INFO:spectra.py:282:read_spectra: iotime 0.154 sec to read bgs_2020-03-08_0150s_019_coadd.fits at 2021-07-20T10:03:54.053845\n",
      "INFO:spectra.py:282:read_spectra: iotime 0.165 sec to read bgs_2020-03-08_0150s_020_coadd.fits at 2021-07-20T10:03:54.685858\n",
      "INFO:spectra.py:282:read_spectra: iotime 0.201 sec to read bgs_2020-03-08_0150s_021_coadd.fits at 2021-07-20T10:03:55.348128\n",
      "INFO:spectra.py:282:read_spectra: iotime 0.213 sec to read bgs_2020-03-08_0150s_022_coadd.fits at 2021-07-20T10:03:56.017029\n",
      "INFO:spectra.py:282:read_spectra: iotime 0.204 sec to read bgs_2020-03-08_0150s_023_coadd.fits at 2021-07-20T10:03:56.660441\n",
      "INFO:spectra.py:282:read_spectra: iotime 0.200 sec to read bgs_2020-03-08_0150s_024_coadd.fits at 2021-07-20T10:03:57.369754\n",
      "INFO:spectra.py:282:read_spectra: iotime 0.178 sec to read bgs_2020-03-08_0150s_025_coadd.fits at 2021-07-20T10:03:58.071215\n",
      "INFO:spectra.py:282:read_spectra: iotime 0.163 sec to read bgs_2020-03-08_0150s_026_coadd.fits at 2021-07-20T10:03:58.747108\n",
      "INFO:spectra.py:282:read_spectra: iotime 0.177 sec to read bgs_2020-03-08_0150s_027_coadd.fits at 2021-07-20T10:03:59.499716\n",
      "INFO:spectra.py:282:read_spectra: iotime 0.191 sec to read bgs_2020-03-08_0150s_028_coadd.fits at 2021-07-20T10:04:00.228257\n",
      "INFO:spectra.py:282:read_spectra: iotime 0.191 sec to read bgs_2020-03-08_0150s_029_coadd.fits at 2021-07-20T10:04:00.887554\n",
      "INFO:spectra.py:282:read_spectra: iotime 0.171 sec to read bgs_2020-03-08_0150s_030_coadd.fits at 2021-07-20T10:04:01.549643\n",
      "INFO:spectra.py:282:read_spectra: iotime 0.161 sec to read bgs_2020-03-08_0150s_031_coadd.fits at 2021-07-20T10:04:02.254155\n",
      "INFO:spectra.py:282:read_spectra: iotime 0.164 sec to read bgs_2020-03-08_0150s_032_coadd.fits at 2021-07-20T10:04:02.888359\n",
      "INFO:spectra.py:282:read_spectra: iotime 0.162 sec to read bgs_2020-03-08_0150s_033_coadd.fits at 2021-07-20T10:04:03.532160\n",
      "INFO:spectra.py:282:read_spectra: iotime 0.171 sec to read bgs_2020-03-08_0150s_034_coadd.fits at 2021-07-20T10:04:04.227856\n",
      "INFO:spectra.py:282:read_spectra: iotime 0.161 sec to read bgs_2020-03-08_0150s_035_coadd.fits at 2021-07-20T10:04:04.868434\n",
      "INFO:spectra.py:282:read_spectra: iotime 0.182 sec to read bgs_2020-03-08_0150s_036_coadd.fits at 2021-07-20T10:04:05.555340\n",
      "INFO:spectra.py:282:read_spectra: iotime 0.315 sec to read bgs_2020-03-08_0150s_037_coadd.fits at 2021-07-20T10:04:06.396682\n",
      "INFO:spectra.py:282:read_spectra: iotime 0.168 sec to read bgs_2020-03-08_0150s_038_coadd.fits at 2021-07-20T10:04:07.097957\n",
      "INFO:spectra.py:282:read_spectra: iotime 0.200 sec to read bgs_2020-03-08_0150s_039_coadd.fits at 2021-07-20T10:04:07.828681\n",
      "INFO:spectra.py:282:read_spectra: iotime 0.171 sec to read bgs_2020-03-08_0150s_040_coadd.fits at 2021-07-20T10:04:08.597213\n",
      "INFO:spectra.py:282:read_spectra: iotime 0.197 sec to read bgs_2020-03-08_0150s_041_coadd.fits at 2021-07-20T10:04:09.355938\n",
      "INFO:spectra.py:282:read_spectra: iotime 0.167 sec to read bgs_2020-03-08_0150s_042_coadd.fits at 2021-07-20T10:04:10.094859\n",
      "INFO:spectra.py:282:read_spectra: iotime 0.241 sec to read bgs_2020-03-08_0150s_043_coadd.fits at 2021-07-20T10:04:10.834148\n",
      "INFO:spectra.py:282:read_spectra: iotime 0.160 sec to read bgs_2020-03-08_0150s_044_coadd.fits at 2021-07-20T10:04:11.565157\n",
      "INFO:spectra.py:282:read_spectra: iotime 0.163 sec to read bgs_2020-03-08_0150s_045_coadd.fits at 2021-07-20T10:04:12.232210\n",
      "INFO:spectra.py:282:read_spectra: iotime 0.183 sec to read bgs_2020-03-08_0150s_046_coadd.fits at 2021-07-20T10:04:12.967411\n",
      "INFO:spectra.py:282:read_spectra: iotime 0.202 sec to read bgs_2020-03-08_0150s_047_coadd.fits at 2021-07-20T10:04:13.938013\n",
      "INFO:spectra.py:282:read_spectra: iotime 0.186 sec to read bgs_2020-03-08_0150s_048_coadd.fits at 2021-07-20T10:04:14.709371\n",
      "INFO:spectra.py:282:read_spectra: iotime 0.186 sec to read bgs_2020-03-08_0150s_049_coadd.fits at 2021-07-20T10:04:15.408117\n",
      "INFO:spectra.py:282:read_spectra: iotime 0.179 sec to read bgs_2020-03-08_0150s_050_coadd.fits at 2021-07-20T10:04:16.151816\n",
      "INFO:spectra.py:282:read_spectra: iotime 0.193 sec to read bgs_2020-03-08_0150s_051_coadd.fits at 2021-07-20T10:04:16.901187\n",
      "INFO:spectra.py:282:read_spectra: iotime 0.165 sec to read bgs_2020-03-08_0150s_052_coadd.fits at 2021-07-20T10:04:17.616231\n",
      "INFO:spectra.py:282:read_spectra: iotime 0.174 sec to read bgs_2020-03-08_0150s_053_coadd.fits at 2021-07-20T10:04:18.348908\n",
      "INFO:spectra.py:282:read_spectra: iotime 0.165 sec to read bgs_2020-03-08_0150s_054_coadd.fits at 2021-07-20T10:04:19.110735\n",
      "INFO:spectra.py:282:read_spectra: iotime 0.180 sec to read bgs_2020-03-08_0150s_055_coadd.fits at 2021-07-20T10:04:19.835447\n",
      "INFO:spectra.py:282:read_spectra: iotime 0.181 sec to read bgs_2020-03-08_0150s_056_coadd.fits at 2021-07-20T10:04:20.651677\n",
      "INFO:spectra.py:282:read_spectra: iotime 0.181 sec to read bgs_2020-03-08_0150s_057_coadd.fits at 2021-07-20T10:04:21.392819\n",
      "INFO:spectra.py:282:read_spectra: iotime 0.182 sec to read bgs_2020-03-08_0150s_058_coadd.fits at 2021-07-20T10:04:22.224306\n",
      "INFO:spectra.py:282:read_spectra: iotime 0.166 sec to read bgs_2020-03-08_0150s_059_coadd.fits at 2021-07-20T10:04:23.002280\n",
      "INFO:spectra.py:282:read_spectra: iotime 0.163 sec to read bgs_2020-03-08_0150s_060_coadd.fits at 2021-07-20T10:04:23.739515\n",
      "INFO:spectra.py:282:read_spectra: iotime 0.169 sec to read bgs_2020-03-08_0150s_061_coadd.fits at 2021-07-20T10:04:24.459573\n",
      "INFO:spectra.py:282:read_spectra: iotime 0.190 sec to read bgs_2020-03-08_0150s_062_coadd.fits at 2021-07-20T10:04:25.220575\n",
      "INFO:spectra.py:282:read_spectra: iotime 0.175 sec to read bgs_2020-03-08_0150s_063_coadd.fits at 2021-07-20T10:04:25.914967\n",
      "INFO:spectra.py:282:read_spectra: iotime 0.160 sec to read bgs_2020-03-08_0150s_064_coadd.fits at 2021-07-20T10:04:26.647512\n",
      "INFO:spectra.py:282:read_spectra: iotime 0.164 sec to read bgs_2020-03-08_0150s_065_coadd.fits at 2021-07-20T10:04:27.367961\n",
      "INFO:spectra.py:282:read_spectra: iotime 0.219 sec to read bgs_2020-03-08_0150s_066_coadd.fits at 2021-07-20T10:04:28.161557\n",
      "INFO:spectra.py:282:read_spectra: iotime 0.222 sec to read bgs_2020-03-08_0150s_067_coadd.fits at 2021-07-20T10:04:29.026186\n",
      "INFO:spectra.py:282:read_spectra: iotime 0.197 sec to read bgs_2020-03-08_0150s_068_coadd.fits at 2021-07-20T10:04:29.907890\n",
      "INFO:spectra.py:282:read_spectra: iotime 0.202 sec to read bgs_2020-03-08_0150s_069_coadd.fits at 2021-07-20T10:04:30.642986\n",
      "INFO:spectra.py:282:read_spectra: iotime 0.170 sec to read bgs_2020-03-08_0150s_070_coadd.fits at 2021-07-20T10:04:31.376012\n",
      "INFO:spectra.py:282:read_spectra: iotime 0.171 sec to read bgs_2020-03-08_0150s_071_coadd.fits at 2021-07-20T10:04:32.115445\n",
      "INFO:spectra.py:282:read_spectra: iotime 0.190 sec to read bgs_2020-03-08_0150s_072_coadd.fits at 2021-07-20T10:04:32.932884\n",
      "INFO:spectra.py:282:read_spectra: iotime 0.173 sec to read bgs_2020-03-08_0150s_073_coadd.fits at 2021-07-20T10:04:33.681443\n",
      "INFO:spectra.py:282:read_spectra: iotime 0.159 sec to read bgs_2020-03-08_0150s_074_coadd.fits at 2021-07-20T10:04:34.625042\n",
      "INFO:spectra.py:282:read_spectra: iotime 0.222 sec to read bgs_2020-03-08_0150s_075_coadd.fits at 2021-07-20T10:04:35.412834\n",
      "INFO:spectra.py:282:read_spectra: iotime 0.176 sec to read bgs_2020-03-08_0150s_076_coadd.fits at 2021-07-20T10:04:36.182227\n",
      "INFO:spectra.py:282:read_spectra: iotime 0.163 sec to read bgs_2020-03-08_0150s_077_coadd.fits at 2021-07-20T10:04:36.899831\n",
      "INFO:spectra.py:282:read_spectra: iotime 0.161 sec to read bgs_2020-03-08_0150s_078_coadd.fits at 2021-07-20T10:04:37.659677\n",
      "INFO:spectra.py:282:read_spectra: iotime 0.229 sec to read bgs_2020-03-08_0150s_079_coadd.fits at 2021-07-20T10:04:38.483234\n",
      "INFO:spectra.py:282:read_spectra: iotime 0.203 sec to read bgs_2020-03-08_0150s_080_coadd.fits at 2021-07-20T10:04:39.334935\n",
      "INFO:spectra.py:282:read_spectra: iotime 0.164 sec to read bgs_2020-03-08_0150s_081_coadd.fits at 2021-07-20T10:04:40.159953\n",
      "INFO:spectra.py:282:read_spectra: iotime 0.171 sec to read bgs_2020-03-08_0150s_082_coadd.fits at 2021-07-20T10:04:40.947465\n",
      "INFO:spectra.py:282:read_spectra: iotime 0.169 sec to read bgs_2020-03-08_0150s_083_coadd.fits at 2021-07-20T10:04:41.696632\n",
      "INFO:spectra.py:282:read_spectra: iotime 0.162 sec to read bgs_2020-03-08_0150s_084_coadd.fits at 2021-07-20T10:04:42.528601\n",
      "INFO:spectra.py:282:read_spectra: iotime 0.184 sec to read bgs_2020-03-08_0150s_085_coadd.fits at 2021-07-20T10:04:43.310528\n",
      "INFO:spectra.py:282:read_spectra: iotime 0.164 sec to read bgs_2020-03-08_0150s_086_coadd.fits at 2021-07-20T10:04:44.129843\n",
      "INFO:spectra.py:282:read_spectra: iotime 0.169 sec to read bgs_2020-03-08_0150s_087_coadd.fits at 2021-07-20T10:04:44.900674\n",
      "INFO:spectra.py:282:read_spectra: iotime 0.185 sec to read bgs_2020-03-08_0150s_088_coadd.fits at 2021-07-20T10:04:45.748290\n",
      "INFO:spectra.py:282:read_spectra: iotime 0.186 sec to read bgs_2020-03-08_0150s_089_coadd.fits at 2021-07-20T10:04:46.657256\n",
      "INFO:spectra.py:282:read_spectra: iotime 0.156 sec to read bgs_2020-03-08_0150s_090_coadd.fits at 2021-07-20T10:04:47.584873\n",
      "INFO:spectra.py:282:read_spectra: iotime 0.193 sec to read bgs_2020-03-08_0150s_091_coadd.fits at 2021-07-20T10:04:48.342878\n",
      "INFO:spectra.py:282:read_spectra: iotime 0.197 sec to read bgs_2020-03-08_0150s_092_coadd.fits at 2021-07-20T10:04:49.187126\n",
      "INFO:spectra.py:282:read_spectra: iotime 0.168 sec to read bgs_2020-03-08_0150s_093_coadd.fits at 2021-07-20T10:04:49.992149\n",
      "INFO:spectra.py:282:read_spectra: iotime 0.166 sec to read bgs_2020-03-08_0150s_094_coadd.fits at 2021-07-20T10:04:50.838128\n",
      "INFO:spectra.py:282:read_spectra: iotime 0.167 sec to read bgs_2020-03-08_0150s_095_coadd.fits at 2021-07-20T10:04:51.632621\n",
      "INFO:spectra.py:282:read_spectra: iotime 0.179 sec to read bgs_2020-03-08_0150s_096_coadd.fits at 2021-07-20T10:04:52.487427\n",
      "INFO:spectra.py:282:read_spectra: iotime 0.185 sec to read bgs_2020-03-08_0150s_097_coadd.fits at 2021-07-20T10:04:53.300522\n",
      "INFO:spectra.py:282:read_spectra: iotime 0.189 sec to read bgs_2020-03-08_0150s_098_coadd.fits at 2021-07-20T10:04:54.159819\n",
      "INFO:spectra.py:282:read_spectra: iotime 0.281 sec to read bgs_2020-03-08_0150s_099_coadd.fits at 2021-07-20T10:04:55.164940\n",
      "INFO:spectra.py:282:read_spectra: iotime 0.196 sec to read bgs_2020-03-08_0150s_100_coadd.fits at 2021-07-20T10:04:56.040147\n"
     ]
    }
   ],
   "source": [
    "snia_truth = np.sort(glob.glob((r'/global/project/projectdirs/desi/science/td/sim/bgs/150s/sn_ia/hsiao/*truth.fits')))\n",
    "snia_coadd = np.sort(glob.glob((r'/global/project/projectdirs/desi/science/td/sim/bgs/150s/sn_ia/hsiao/*coadd.fits')))\n",
    "snia_flux  = condition_spectra(snia_coadd, snia_truth)"
   ]
  },
  {
   "cell_type": "code",
   "execution_count": 63,
   "metadata": {},
   "outputs": [
    {
     "name": "stdout",
     "output_type": "stream",
     "text": [
      "INFO:spectra.py:282:read_spectra: iotime 0.192 sec to read bgs_2020-07-21_0150s_001_coadd.fits at 2021-07-20T10:04:56.942805\n",
      "INFO:spectra.py:282:read_spectra: iotime 0.172 sec to read bgs_2020-07-21_0150s_002_coadd.fits at 2021-07-20T10:04:57.557568\n",
      "INFO:spectra.py:282:read_spectra: iotime 0.328 sec to read bgs_2020-07-21_0150s_003_coadd.fits at 2021-07-20T10:04:58.348980\n",
      "INFO:spectra.py:282:read_spectra: iotime 0.181 sec to read bgs_2020-07-21_0150s_004_coadd.fits at 2021-07-20T10:04:58.958873\n",
      "INFO:spectra.py:282:read_spectra: iotime 0.212 sec to read bgs_2020-07-21_0150s_005_coadd.fits at 2021-07-20T10:04:59.664142\n",
      "INFO:spectra.py:282:read_spectra: iotime 0.186 sec to read bgs_2020-07-21_0150s_006_coadd.fits at 2021-07-20T10:05:00.263265\n",
      "INFO:spectra.py:282:read_spectra: iotime 0.189 sec to read bgs_2020-07-21_0150s_007_coadd.fits at 2021-07-20T10:05:00.941545\n",
      "INFO:spectra.py:282:read_spectra: iotime 0.198 sec to read bgs_2020-07-21_0150s_008_coadd.fits at 2021-07-20T10:05:01.668054\n",
      "INFO:spectra.py:282:read_spectra: iotime 0.170 sec to read bgs_2020-07-21_0150s_009_coadd.fits at 2021-07-20T10:05:02.327121\n",
      "INFO:spectra.py:282:read_spectra: iotime 0.183 sec to read bgs_2020-07-21_0150s_010_coadd.fits at 2021-07-20T10:05:02.968767\n",
      "INFO:spectra.py:282:read_spectra: iotime 0.164 sec to read bgs_2020-07-21_0150s_011_coadd.fits at 2021-07-20T10:05:03.627916\n",
      "INFO:spectra.py:282:read_spectra: iotime 0.189 sec to read bgs_2020-07-21_0150s_012_coadd.fits at 2021-07-20T10:05:04.292212\n",
      "INFO:spectra.py:282:read_spectra: iotime 0.187 sec to read bgs_2020-07-21_0150s_013_coadd.fits at 2021-07-20T10:05:04.931137\n",
      "INFO:spectra.py:282:read_spectra: iotime 0.183 sec to read bgs_2020-07-21_0150s_014_coadd.fits at 2021-07-20T10:05:05.522568\n",
      "INFO:spectra.py:282:read_spectra: iotime 0.162 sec to read bgs_2020-07-21_0150s_015_coadd.fits at 2021-07-20T10:05:06.191103\n",
      "INFO:spectra.py:282:read_spectra: iotime 0.196 sec to read bgs_2020-07-21_0150s_016_coadd.fits at 2021-07-20T10:05:06.834433\n",
      "INFO:spectra.py:282:read_spectra: iotime 0.192 sec to read bgs_2020-07-21_0150s_017_coadd.fits at 2021-07-20T10:05:07.467267\n",
      "INFO:spectra.py:282:read_spectra: iotime 0.191 sec to read bgs_2020-07-21_0150s_018_coadd.fits at 2021-07-20T10:05:08.115798\n",
      "INFO:spectra.py:282:read_spectra: iotime 0.219 sec to read bgs_2020-07-21_0150s_019_coadd.fits at 2021-07-20T10:05:08.881366\n",
      "INFO:spectra.py:282:read_spectra: iotime 0.209 sec to read bgs_2020-07-21_0150s_020_coadd.fits at 2021-07-20T10:05:09.601627\n",
      "INFO:spectra.py:282:read_spectra: iotime 0.188 sec to read bgs_2020-07-21_0150s_001_coadd.fits at 2021-07-20T10:05:10.314260\n",
      "INFO:spectra.py:282:read_spectra: iotime 0.168 sec to read bgs_2020-07-21_0150s_002_coadd.fits at 2021-07-20T10:05:10.946103\n",
      "INFO:spectra.py:282:read_spectra: iotime 0.190 sec to read bgs_2020-07-21_0150s_003_coadd.fits at 2021-07-20T10:05:11.599600\n",
      "INFO:spectra.py:282:read_spectra: iotime 0.163 sec to read bgs_2020-07-21_0150s_004_coadd.fits at 2021-07-20T10:05:12.260255\n",
      "INFO:spectra.py:282:read_spectra: iotime 0.218 sec to read bgs_2020-07-21_0150s_005_coadd.fits at 2021-07-20T10:05:12.934048\n",
      "INFO:spectra.py:282:read_spectra: iotime 0.210 sec to read bgs_2020-07-21_0150s_006_coadd.fits at 2021-07-20T10:05:13.625149\n",
      "INFO:spectra.py:282:read_spectra: iotime 0.159 sec to read bgs_2020-07-21_0150s_007_coadd.fits at 2021-07-20T10:05:14.282186\n",
      "INFO:spectra.py:282:read_spectra: iotime 0.162 sec to read bgs_2020-07-21_0150s_008_coadd.fits at 2021-07-20T10:05:14.918084\n",
      "INFO:spectra.py:282:read_spectra: iotime 0.160 sec to read bgs_2020-07-21_0150s_009_coadd.fits at 2021-07-20T10:05:15.623735\n",
      "INFO:spectra.py:282:read_spectra: iotime 0.211 sec to read bgs_2020-07-21_0150s_010_coadd.fits at 2021-07-20T10:05:16.286597\n",
      "INFO:spectra.py:282:read_spectra: iotime 0.207 sec to read bgs_2020-07-21_0150s_011_coadd.fits at 2021-07-20T10:05:17.031201\n",
      "INFO:spectra.py:282:read_spectra: iotime 0.302 sec to read bgs_2020-07-21_0150s_012_coadd.fits at 2021-07-20T10:05:17.855505\n",
      "INFO:spectra.py:282:read_spectra: iotime 0.204 sec to read bgs_2020-07-21_0150s_013_coadd.fits at 2021-07-20T10:05:18.554018\n",
      "INFO:spectra.py:282:read_spectra: iotime 0.178 sec to read bgs_2020-07-21_0150s_014_coadd.fits at 2021-07-20T10:05:19.276608\n",
      "INFO:spectra.py:282:read_spectra: iotime 0.230 sec to read bgs_2020-07-21_0150s_015_coadd.fits at 2021-07-20T10:05:19.950260\n",
      "INFO:spectra.py:282:read_spectra: iotime 0.161 sec to read bgs_2020-07-21_0150s_016_coadd.fits at 2021-07-20T10:05:20.580796\n",
      "INFO:spectra.py:282:read_spectra: iotime 0.171 sec to read bgs_2020-07-21_0150s_017_coadd.fits at 2021-07-20T10:05:21.298477\n",
      "INFO:spectra.py:282:read_spectra: iotime 0.249 sec to read bgs_2020-07-21_0150s_018_coadd.fits at 2021-07-20T10:05:22.058840\n",
      "INFO:spectra.py:282:read_spectra: iotime 0.164 sec to read bgs_2020-07-21_0150s_019_coadd.fits at 2021-07-20T10:05:22.785705\n",
      "INFO:spectra.py:282:read_spectra: iotime 0.168 sec to read bgs_2020-07-21_0150s_020_coadd.fits at 2021-07-20T10:05:23.525312\n",
      "INFO:spectra.py:282:read_spectra: iotime 0.176 sec to read bgs_2020-07-21_0150s_001_coadd.fits at 2021-07-20T10:05:24.249735\n",
      "INFO:spectra.py:282:read_spectra: iotime 0.178 sec to read bgs_2020-07-21_0150s_002_coadd.fits at 2021-07-20T10:05:24.922601\n",
      "INFO:spectra.py:282:read_spectra: iotime 0.181 sec to read bgs_2020-07-21_0150s_003_coadd.fits at 2021-07-20T10:05:25.666878\n",
      "INFO:spectra.py:282:read_spectra: iotime 0.180 sec to read bgs_2020-07-21_0150s_004_coadd.fits at 2021-07-20T10:05:26.418816\n",
      "INFO:spectra.py:282:read_spectra: iotime 0.208 sec to read bgs_2020-07-21_0150s_005_coadd.fits at 2021-07-20T10:05:27.254925\n",
      "INFO:spectra.py:282:read_spectra: iotime 0.166 sec to read bgs_2020-07-21_0150s_006_coadd.fits at 2021-07-20T10:05:27.966907\n",
      "INFO:spectra.py:282:read_spectra: iotime 0.191 sec to read bgs_2020-07-21_0150s_007_coadd.fits at 2021-07-20T10:05:28.772074\n",
      "INFO:spectra.py:282:read_spectra: iotime 0.176 sec to read bgs_2020-07-21_0150s_008_coadd.fits at 2021-07-20T10:05:29.534827\n",
      "INFO:spectra.py:282:read_spectra: iotime 0.201 sec to read bgs_2020-07-21_0150s_009_coadd.fits at 2021-07-20T10:05:30.318444\n",
      "INFO:spectra.py:282:read_spectra: iotime 0.185 sec to read bgs_2020-07-21_0150s_010_coadd.fits at 2021-07-20T10:05:31.035768\n",
      "INFO:spectra.py:282:read_spectra: iotime 0.181 sec to read bgs_2020-07-21_0150s_011_coadd.fits at 2021-07-20T10:05:31.751872\n",
      "INFO:spectra.py:282:read_spectra: iotime 0.194 sec to read bgs_2020-07-21_0150s_012_coadd.fits at 2021-07-20T10:05:32.476053\n",
      "INFO:spectra.py:282:read_spectra: iotime 0.173 sec to read bgs_2020-07-21_0150s_013_coadd.fits at 2021-07-20T10:05:33.235614\n",
      "INFO:spectra.py:282:read_spectra: iotime 0.181 sec to read bgs_2020-07-21_0150s_014_coadd.fits at 2021-07-20T10:05:33.971544\n",
      "INFO:spectra.py:282:read_spectra: iotime 0.173 sec to read bgs_2020-07-21_0150s_015_coadd.fits at 2021-07-20T10:05:34.699210\n",
      "INFO:spectra.py:282:read_spectra: iotime 0.161 sec to read bgs_2020-07-21_0150s_016_coadd.fits at 2021-07-20T10:05:35.417796\n",
      "INFO:spectra.py:282:read_spectra: iotime 0.174 sec to read bgs_2020-07-21_0150s_017_coadd.fits at 2021-07-20T10:05:36.183515\n",
      "INFO:spectra.py:282:read_spectra: iotime 0.178 sec to read bgs_2020-07-21_0150s_018_coadd.fits at 2021-07-20T10:05:36.940312\n",
      "INFO:spectra.py:282:read_spectra: iotime 0.179 sec to read bgs_2020-07-21_0150s_019_coadd.fits at 2021-07-20T10:05:37.680102\n",
      "INFO:spectra.py:282:read_spectra: iotime 0.178 sec to read bgs_2020-07-21_0150s_020_coadd.fits at 2021-07-20T10:05:38.396846\n",
      "INFO:spectra.py:282:read_spectra: iotime 0.174 sec to read bgs_2020-07-21_0150s_001_coadd.fits at 2021-07-20T10:05:39.152947\n",
      "INFO:spectra.py:282:read_spectra: iotime 0.164 sec to read bgs_2020-07-21_0150s_002_coadd.fits at 2021-07-20T10:05:39.890286\n",
      "INFO:spectra.py:282:read_spectra: iotime 0.165 sec to read bgs_2020-07-21_0150s_003_coadd.fits at 2021-07-20T10:05:40.619169\n",
      "INFO:spectra.py:282:read_spectra: iotime 0.160 sec to read bgs_2020-07-21_0150s_004_coadd.fits at 2021-07-20T10:05:41.319688\n",
      "INFO:spectra.py:282:read_spectra: iotime 0.163 sec to read bgs_2020-07-21_0150s_005_coadd.fits at 2021-07-20T10:05:42.041397\n",
      "INFO:spectra.py:282:read_spectra: iotime 0.175 sec to read bgs_2020-07-21_0150s_006_coadd.fits at 2021-07-20T10:05:42.873098\n",
      "INFO:spectra.py:282:read_spectra: iotime 0.213 sec to read bgs_2020-07-21_0150s_007_coadd.fits at 2021-07-20T10:05:43.649259\n",
      "INFO:spectra.py:282:read_spectra: iotime 0.173 sec to read bgs_2020-07-21_0150s_008_coadd.fits at 2021-07-20T10:05:44.390906\n",
      "INFO:spectra.py:282:read_spectra: iotime 0.209 sec to read bgs_2020-07-21_0150s_009_coadd.fits at 2021-07-20T10:05:45.207782\n",
      "INFO:spectra.py:282:read_spectra: iotime 0.161 sec to read bgs_2020-07-21_0150s_010_coadd.fits at 2021-07-20T10:05:46.031781\n",
      "INFO:spectra.py:282:read_spectra: iotime 0.195 sec to read bgs_2020-07-21_0150s_011_coadd.fits at 2021-07-20T10:05:46.799246\n",
      "INFO:spectra.py:282:read_spectra: iotime 0.157 sec to read bgs_2020-07-21_0150s_012_coadd.fits at 2021-07-20T10:05:47.539866\n",
      "INFO:spectra.py:282:read_spectra: iotime 0.214 sec to read bgs_2020-07-21_0150s_013_coadd.fits at 2021-07-20T10:05:48.393596\n",
      "INFO:spectra.py:282:read_spectra: iotime 0.182 sec to read bgs_2020-07-21_0150s_014_coadd.fits at 2021-07-20T10:05:49.208837\n",
      "INFO:spectra.py:282:read_spectra: iotime 0.176 sec to read bgs_2020-07-21_0150s_015_coadd.fits at 2021-07-20T10:05:50.000210\n",
      "INFO:spectra.py:282:read_spectra: iotime 0.176 sec to read bgs_2020-07-21_0150s_016_coadd.fits at 2021-07-20T10:05:50.777953\n",
      "INFO:spectra.py:282:read_spectra: iotime 0.180 sec to read bgs_2020-07-21_0150s_017_coadd.fits at 2021-07-20T10:05:51.601918\n",
      "INFO:spectra.py:282:read_spectra: iotime 0.162 sec to read bgs_2020-07-21_0150s_018_coadd.fits at 2021-07-20T10:05:52.357079\n",
      "INFO:spectra.py:282:read_spectra: iotime 0.157 sec to read bgs_2020-07-21_0150s_019_coadd.fits at 2021-07-20T10:05:53.136248\n",
      "INFO:spectra.py:282:read_spectra: iotime 0.222 sec to read bgs_2020-07-21_0150s_020_coadd.fits at 2021-07-20T10:05:53.941574\n",
      "INFO:spectra.py:282:read_spectra: iotime 0.224 sec to read bgs_2020-07-21_0150s_001_coadd.fits at 2021-07-20T10:05:54.803651\n",
      "INFO:spectra.py:282:read_spectra: iotime 0.242 sec to read bgs_2020-07-21_0150s_002_coadd.fits at 2021-07-20T10:05:55.673848\n",
      "INFO:spectra.py:282:read_spectra: iotime 0.167 sec to read bgs_2020-07-21_0150s_003_coadd.fits at 2021-07-20T10:05:56.521218\n",
      "INFO:spectra.py:282:read_spectra: iotime 0.176 sec to read bgs_2020-07-21_0150s_004_coadd.fits at 2021-07-20T10:05:57.412969\n",
      "INFO:spectra.py:282:read_spectra: iotime 0.241 sec to read bgs_2020-07-21_0150s_005_coadd.fits at 2021-07-20T10:05:58.316026\n",
      "INFO:spectra.py:282:read_spectra: iotime 0.163 sec to read bgs_2020-07-21_0150s_006_coadd.fits at 2021-07-20T10:05:59.114063\n",
      "INFO:spectra.py:282:read_spectra: iotime 0.197 sec to read bgs_2020-07-21_0150s_007_coadd.fits at 2021-07-20T10:05:59.930163\n",
      "INFO:spectra.py:282:read_spectra: iotime 0.154 sec to read bgs_2020-07-21_0150s_008_coadd.fits at 2021-07-20T10:06:00.725311\n",
      "INFO:spectra.py:282:read_spectra: iotime 0.186 sec to read bgs_2020-07-21_0150s_009_coadd.fits at 2021-07-20T10:06:01.553571\n",
      "INFO:spectra.py:282:read_spectra: iotime 0.166 sec to read bgs_2020-07-21_0150s_010_coadd.fits at 2021-07-20T10:06:02.316343\n",
      "INFO:spectra.py:282:read_spectra: iotime 0.164 sec to read bgs_2020-07-21_0150s_011_coadd.fits at 2021-07-20T10:06:03.162992\n",
      "INFO:spectra.py:282:read_spectra: iotime 0.186 sec to read bgs_2020-07-21_0150s_012_coadd.fits at 2021-07-20T10:06:03.957545\n",
      "INFO:spectra.py:282:read_spectra: iotime 0.167 sec to read bgs_2020-07-21_0150s_013_coadd.fits at 2021-07-20T10:06:04.839586\n",
      "INFO:spectra.py:282:read_spectra: iotime 0.171 sec to read bgs_2020-07-21_0150s_014_coadd.fits at 2021-07-20T10:06:05.626453\n",
      "INFO:spectra.py:282:read_spectra: iotime 0.208 sec to read bgs_2020-07-21_0150s_015_coadd.fits at 2021-07-20T10:06:06.503692\n",
      "INFO:spectra.py:282:read_spectra: iotime 0.184 sec to read bgs_2020-07-21_0150s_016_coadd.fits at 2021-07-20T10:06:07.379514\n",
      "INFO:spectra.py:282:read_spectra: iotime 0.201 sec to read bgs_2020-07-21_0150s_017_coadd.fits at 2021-07-20T10:06:08.231802\n",
      "INFO:spectra.py:282:read_spectra: iotime 0.196 sec to read bgs_2020-07-21_0150s_018_coadd.fits at 2021-07-20T10:06:09.012131\n",
      "INFO:spectra.py:282:read_spectra: iotime 0.206 sec to read bgs_2020-07-21_0150s_019_coadd.fits at 2021-07-20T10:06:09.896404\n",
      "INFO:spectra.py:282:read_spectra: iotime 0.202 sec to read bgs_2020-07-21_0150s_020_coadd.fits at 2021-07-20T10:06:10.770093\n"
     ]
    }
   ],
   "source": [
    "snib_truth = np.sort(glob.glob((r'/global/project/projectdirs/desi/science/td/sim/bgs/150s/sn_ib/*/*truth.fits')))\n",
    "snib_coadd = np.sort(glob.glob((r'/global/project/projectdirs/desi/science/td/sim/bgs/150s/sn_ib/*/*coadd.fits')))\n",
    "snib_flux  = condition_spectra(snib_coadd, snib_truth)"
   ]
  },
  {
   "cell_type": "code",
   "execution_count": 64,
   "metadata": {},
   "outputs": [
    {
     "name": "stdout",
     "output_type": "stream",
     "text": [
      "INFO:spectra.py:282:read_spectra: iotime 0.179 sec to read bgs_2020-07-21_0150s_001_coadd.fits at 2021-07-20T10:06:11.605510\n",
      "INFO:spectra.py:282:read_spectra: iotime 0.216 sec to read bgs_2020-07-21_0150s_002_coadd.fits at 2021-07-20T10:06:12.222338\n",
      "INFO:spectra.py:282:read_spectra: iotime 0.176 sec to read bgs_2020-07-21_0150s_003_coadd.fits at 2021-07-20T10:06:12.828394\n",
      "INFO:spectra.py:282:read_spectra: iotime 0.191 sec to read bgs_2020-07-21_0150s_004_coadd.fits at 2021-07-20T10:06:13.431239\n",
      "INFO:spectra.py:282:read_spectra: iotime 0.164 sec to read bgs_2020-07-21_0150s_005_coadd.fits at 2021-07-20T10:06:14.100871\n",
      "INFO:spectra.py:282:read_spectra: iotime 0.186 sec to read bgs_2020-07-21_0150s_006_coadd.fits at 2021-07-20T10:06:14.719223\n",
      "INFO:spectra.py:282:read_spectra: iotime 0.165 sec to read bgs_2020-07-21_0150s_007_coadd.fits at 2021-07-20T10:06:15.355101\n",
      "INFO:spectra.py:282:read_spectra: iotime 0.184 sec to read bgs_2020-07-21_0150s_008_coadd.fits at 2021-07-20T10:06:15.971653\n",
      "INFO:spectra.py:282:read_spectra: iotime 0.160 sec to read bgs_2020-07-21_0150s_009_coadd.fits at 2021-07-20T10:06:16.606439\n",
      "INFO:spectra.py:282:read_spectra: iotime 0.174 sec to read bgs_2020-07-21_0150s_010_coadd.fits at 2021-07-20T10:06:17.209791\n",
      "INFO:spectra.py:282:read_spectra: iotime 0.195 sec to read bgs_2020-07-21_0150s_011_coadd.fits at 2021-07-20T10:06:17.855673\n",
      "INFO:spectra.py:282:read_spectra: iotime 0.164 sec to read bgs_2020-07-21_0150s_012_coadd.fits at 2021-07-20T10:06:18.477711\n",
      "INFO:spectra.py:282:read_spectra: iotime 0.210 sec to read bgs_2020-07-21_0150s_013_coadd.fits at 2021-07-20T10:06:19.151895\n",
      "INFO:spectra.py:282:read_spectra: iotime 0.180 sec to read bgs_2020-07-21_0150s_014_coadd.fits at 2021-07-20T10:06:19.794474\n",
      "INFO:spectra.py:282:read_spectra: iotime 0.165 sec to read bgs_2020-07-21_0150s_015_coadd.fits at 2021-07-20T10:06:20.401135\n",
      "INFO:spectra.py:282:read_spectra: iotime 0.163 sec to read bgs_2020-07-21_0150s_016_coadd.fits at 2021-07-20T10:06:21.055000\n",
      "INFO:spectra.py:282:read_spectra: iotime 0.215 sec to read bgs_2020-07-21_0150s_017_coadd.fits at 2021-07-20T10:06:21.716843\n",
      "INFO:spectra.py:282:read_spectra: iotime 0.178 sec to read bgs_2020-07-21_0150s_018_coadd.fits at 2021-07-20T10:06:22.358471\n",
      "INFO:spectra.py:282:read_spectra: iotime 0.217 sec to read bgs_2020-07-21_0150s_019_coadd.fits at 2021-07-20T10:06:23.032810\n",
      "INFO:spectra.py:282:read_spectra: iotime 0.170 sec to read bgs_2020-07-21_0150s_020_coadd.fits at 2021-07-20T10:06:23.661868\n",
      "INFO:spectra.py:282:read_spectra: iotime 0.220 sec to read bgs_2020-07-21_0150s_001_coadd.fits at 2021-07-20T10:06:24.352466\n",
      "INFO:spectra.py:282:read_spectra: iotime 0.291 sec to read bgs_2020-07-21_0150s_002_coadd.fits at 2021-07-20T10:06:25.108632\n",
      "INFO:spectra.py:282:read_spectra: iotime 0.200 sec to read bgs_2020-07-21_0150s_003_coadd.fits at 2021-07-20T10:06:25.811217\n",
      "INFO:spectra.py:282:read_spectra: iotime 0.159 sec to read bgs_2020-07-21_0150s_001_coadd.fits at 2021-07-20T10:06:26.459656\n",
      "INFO:spectra.py:282:read_spectra: iotime 0.177 sec to read bgs_2020-07-21_0150s_002_coadd.fits at 2021-07-20T10:06:27.148372\n",
      "INFO:spectra.py:282:read_spectra: iotime 0.175 sec to read bgs_2020-07-21_0150s_003_coadd.fits at 2021-07-20T10:06:27.788588\n",
      "INFO:spectra.py:282:read_spectra: iotime 0.164 sec to read bgs_2020-07-21_0150s_004_coadd.fits at 2021-07-20T10:06:28.388034\n",
      "INFO:spectra.py:282:read_spectra: iotime 0.168 sec to read bgs_2020-07-21_0150s_005_coadd.fits at 2021-07-20T10:06:29.047922\n",
      "INFO:spectra.py:282:read_spectra: iotime 0.193 sec to read bgs_2020-07-21_0150s_006_coadd.fits at 2021-07-20T10:06:29.664088\n",
      "INFO:spectra.py:282:read_spectra: iotime 0.243 sec to read bgs_2020-07-21_0150s_007_coadd.fits at 2021-07-20T10:06:30.355992\n",
      "INFO:spectra.py:282:read_spectra: iotime 0.164 sec to read bgs_2020-07-21_0150s_008_coadd.fits at 2021-07-20T10:06:30.995438\n",
      "INFO:spectra.py:282:read_spectra: iotime 0.179 sec to read bgs_2020-07-21_0150s_009_coadd.fits at 2021-07-20T10:06:31.648447\n",
      "INFO:spectra.py:282:read_spectra: iotime 0.189 sec to read bgs_2020-07-21_0150s_010_coadd.fits at 2021-07-20T10:06:32.404358\n",
      "INFO:spectra.py:282:read_spectra: iotime 0.166 sec to read bgs_2020-07-21_0150s_011_coadd.fits at 2021-07-20T10:06:33.083293\n",
      "INFO:spectra.py:282:read_spectra: iotime 0.152 sec to read bgs_2020-07-21_0150s_012_coadd.fits at 2021-07-20T10:06:33.757964\n",
      "INFO:spectra.py:282:read_spectra: iotime 0.189 sec to read bgs_2020-07-21_0150s_013_coadd.fits at 2021-07-20T10:06:34.479785\n",
      "INFO:spectra.py:282:read_spectra: iotime 0.140 sec to read bgs_2020-07-21_0150s_014_coadd.fits at 2021-07-20T10:06:35.177256\n",
      "INFO:spectra.py:282:read_spectra: iotime 0.142 sec to read bgs_2020-07-21_0150s_015_coadd.fits at 2021-07-20T10:06:35.830574\n",
      "INFO:spectra.py:282:read_spectra: iotime 0.207 sec to read bgs_2020-07-21_0150s_016_coadd.fits at 2021-07-20T10:06:36.566275\n",
      "INFO:spectra.py:282:read_spectra: iotime 0.159 sec to read bgs_2020-07-21_0150s_017_coadd.fits at 2021-07-20T10:06:37.246445\n",
      "INFO:spectra.py:282:read_spectra: iotime 0.160 sec to read bgs_2020-07-21_0150s_018_coadd.fits at 2021-07-20T10:06:38.001182\n",
      "INFO:spectra.py:282:read_spectra: iotime 0.206 sec to read bgs_2020-07-21_0150s_019_coadd.fits at 2021-07-20T10:06:38.727751\n",
      "INFO:spectra.py:282:read_spectra: iotime 0.163 sec to read bgs_2020-07-21_0150s_020_coadd.fits at 2021-07-20T10:06:39.439610\n",
      "INFO:spectra.py:282:read_spectra: iotime 0.177 sec to read bgs_2020-07-21_0150s_001_coadd.fits at 2021-07-20T10:06:40.136724\n",
      "INFO:spectra.py:282:read_spectra: iotime 0.165 sec to read bgs_2020-07-21_0150s_002_coadd.fits at 2021-07-20T10:06:40.828124\n",
      "INFO:spectra.py:282:read_spectra: iotime 0.132 sec to read bgs_2020-07-21_0150s_003_coadd.fits at 2021-07-20T10:06:41.522301\n",
      "INFO:spectra.py:282:read_spectra: iotime 0.164 sec to read bgs_2020-07-21_0150s_004_coadd.fits at 2021-07-20T10:06:42.187762\n",
      "INFO:spectra.py:282:read_spectra: iotime 0.134 sec to read bgs_2020-07-21_0150s_005_coadd.fits at 2021-07-20T10:06:42.918003\n",
      "INFO:spectra.py:282:read_spectra: iotime 0.144 sec to read bgs_2020-07-21_0150s_006_coadd.fits at 2021-07-20T10:06:43.577268\n",
      "INFO:spectra.py:282:read_spectra: iotime 0.134 sec to read bgs_2020-07-21_0150s_007_coadd.fits at 2021-07-20T10:06:44.264292\n",
      "INFO:spectra.py:282:read_spectra: iotime 0.231 sec to read bgs_2020-07-21_0150s_008_coadd.fits at 2021-07-20T10:06:45.029520\n",
      "INFO:spectra.py:282:read_spectra: iotime 0.147 sec to read bgs_2020-07-21_0150s_009_coadd.fits at 2021-07-20T10:06:45.727523\n",
      "INFO:spectra.py:282:read_spectra: iotime 0.141 sec to read bgs_2020-07-21_0150s_010_coadd.fits at 2021-07-20T10:06:46.377735\n",
      "INFO:spectra.py:282:read_spectra: iotime 0.131 sec to read bgs_2020-07-21_0150s_011_coadd.fits at 2021-07-20T10:06:47.065881\n",
      "INFO:spectra.py:282:read_spectra: iotime 0.157 sec to read bgs_2020-07-21_0150s_012_coadd.fits at 2021-07-20T10:06:47.756034\n",
      "INFO:spectra.py:282:read_spectra: iotime 0.165 sec to read bgs_2020-07-21_0150s_013_coadd.fits at 2021-07-20T10:06:48.458103\n",
      "INFO:spectra.py:282:read_spectra: iotime 0.165 sec to read bgs_2020-07-21_0150s_014_coadd.fits at 2021-07-20T10:06:49.140625\n",
      "INFO:spectra.py:282:read_spectra: iotime 0.150 sec to read bgs_2020-07-21_0150s_015_coadd.fits at 2021-07-20T10:06:49.843218\n",
      "INFO:spectra.py:282:read_spectra: iotime 0.165 sec to read bgs_2020-07-21_0150s_016_coadd.fits at 2021-07-20T10:06:50.589648\n",
      "INFO:spectra.py:282:read_spectra: iotime 0.152 sec to read bgs_2020-07-21_0150s_017_coadd.fits at 2021-07-20T10:06:51.300822\n",
      "INFO:spectra.py:282:read_spectra: iotime 0.179 sec to read bgs_2020-07-21_0150s_018_coadd.fits at 2021-07-20T10:06:52.045599\n",
      "INFO:spectra.py:282:read_spectra: iotime 0.131 sec to read bgs_2020-07-21_0150s_019_coadd.fits at 2021-07-20T10:06:52.757948\n",
      "INFO:spectra.py:282:read_spectra: iotime 0.159 sec to read bgs_2020-07-21_0150s_020_coadd.fits at 2021-07-20T10:06:53.478007\n",
      "INFO:spectra.py:282:read_spectra: iotime 0.136 sec to read bgs_2020-07-21_0150s_001_coadd.fits at 2021-07-20T10:06:54.247457\n",
      "INFO:spectra.py:282:read_spectra: iotime 0.187 sec to read bgs_2020-07-21_0150s_002_coadd.fits at 2021-07-20T10:06:54.963544\n",
      "INFO:spectra.py:282:read_spectra: iotime 0.136 sec to read bgs_2020-07-21_0150s_003_coadd.fits at 2021-07-20T10:06:55.709997\n",
      "INFO:spectra.py:282:read_spectra: iotime 0.148 sec to read bgs_2020-07-21_0150s_004_coadd.fits at 2021-07-20T10:06:56.428199\n",
      "INFO:spectra.py:282:read_spectra: iotime 0.181 sec to read bgs_2020-07-21_0150s_005_coadd.fits at 2021-07-20T10:06:57.252862\n",
      "INFO:spectra.py:282:read_spectra: iotime 0.151 sec to read bgs_2020-07-21_0150s_006_coadd.fits at 2021-07-20T10:06:57.973926\n",
      "INFO:spectra.py:282:read_spectra: iotime 0.137 sec to read bgs_2020-07-21_0150s_007_coadd.fits at 2021-07-20T10:06:58.692547\n",
      "INFO:spectra.py:282:read_spectra: iotime 0.135 sec to read bgs_2020-07-21_0150s_008_coadd.fits at 2021-07-20T10:06:59.443910\n",
      "INFO:spectra.py:282:read_spectra: iotime 0.154 sec to read bgs_2020-07-21_0150s_009_coadd.fits at 2021-07-20T10:07:00.198696\n",
      "INFO:spectra.py:282:read_spectra: iotime 0.172 sec to read bgs_2020-07-21_0150s_010_coadd.fits at 2021-07-20T10:07:00.985285\n",
      "INFO:spectra.py:282:read_spectra: iotime 0.145 sec to read bgs_2020-07-21_0150s_011_coadd.fits at 2021-07-20T10:07:01.760039\n",
      "INFO:spectra.py:282:read_spectra: iotime 0.150 sec to read bgs_2020-07-21_0150s_012_coadd.fits at 2021-07-20T10:07:02.480199\n",
      "INFO:spectra.py:282:read_spectra: iotime 0.153 sec to read bgs_2020-07-21_0150s_013_coadd.fits at 2021-07-20T10:07:03.260360\n",
      "INFO:spectra.py:282:read_spectra: iotime 0.132 sec to read bgs_2020-07-21_0150s_014_coadd.fits at 2021-07-20T10:07:03.994923\n",
      "INFO:spectra.py:282:read_spectra: iotime 0.158 sec to read bgs_2020-07-21_0150s_015_coadd.fits at 2021-07-20T10:07:04.773218\n",
      "INFO:spectra.py:282:read_spectra: iotime 0.186 sec to read bgs_2020-07-21_0150s_016_coadd.fits at 2021-07-20T10:07:05.530530\n",
      "INFO:spectra.py:282:read_spectra: iotime 0.161 sec to read bgs_2020-07-21_0150s_017_coadd.fits at 2021-07-20T10:07:06.316009\n",
      "INFO:spectra.py:282:read_spectra: iotime 0.174 sec to read bgs_2020-07-21_0150s_018_coadd.fits at 2021-07-20T10:07:07.094417\n",
      "INFO:spectra.py:282:read_spectra: iotime 0.170 sec to read bgs_2020-07-21_0150s_019_coadd.fits at 2021-07-20T10:07:07.866440\n",
      "INFO:spectra.py:282:read_spectra: iotime 0.157 sec to read bgs_2020-07-21_0150s_020_coadd.fits at 2021-07-20T10:07:08.633530\n"
     ]
    }
   ],
   "source": [
    "snic_truth = np.sort(glob.glob((r'/global/project/projectdirs/desi/science/td/sim/bgs/150s/sn_ic/*/*truth.fits')))\n",
    "snic_coadd = np.sort(glob.glob((r'/global/project/projectdirs/desi/science/td/sim/bgs/150s/sn_ic/*/*coadd.fits')))\n",
    "snic_flux  = condition_spectra(snic_coadd, snic_truth)"
   ]
  },
  {
   "cell_type": "code",
   "execution_count": 65,
   "metadata": {},
   "outputs": [
    {
     "name": "stdout",
     "output_type": "stream",
     "text": [
      "INFO:spectra.py:282:read_spectra: iotime 0.137 sec to read bgs_2020-07-21_0150s_001_coadd.fits at 2021-07-20T10:07:09.457660\n",
      "INFO:spectra.py:282:read_spectra: iotime 0.223 sec to read bgs_2020-07-21_0150s_002_coadd.fits at 2021-07-20T10:07:10.195306\n",
      "INFO:spectra.py:282:read_spectra: iotime 0.145 sec to read bgs_2020-07-21_0150s_003_coadd.fits at 2021-07-20T10:07:10.793130\n",
      "INFO:spectra.py:282:read_spectra: iotime 0.141 sec to read bgs_2020-07-21_0150s_004_coadd.fits at 2021-07-20T10:07:11.370169\n",
      "INFO:spectra.py:282:read_spectra: iotime 0.148 sec to read bgs_2020-07-21_0150s_005_coadd.fits at 2021-07-20T10:07:11.952693\n",
      "INFO:spectra.py:282:read_spectra: iotime 0.136 sec to read bgs_2020-07-21_0150s_006_coadd.fits at 2021-07-20T10:07:12.534991\n",
      "INFO:spectra.py:282:read_spectra: iotime 0.136 sec to read bgs_2020-07-21_0150s_007_coadd.fits at 2021-07-20T10:07:13.123677\n",
      "INFO:spectra.py:282:read_spectra: iotime 0.178 sec to read bgs_2020-07-21_0150s_008_coadd.fits at 2021-07-20T10:07:13.722469\n",
      "INFO:spectra.py:282:read_spectra: iotime 0.135 sec to read bgs_2020-07-21_0150s_009_coadd.fits at 2021-07-20T10:07:14.304811\n",
      "INFO:spectra.py:282:read_spectra: iotime 0.151 sec to read bgs_2020-07-21_0150s_010_coadd.fits at 2021-07-20T10:07:14.883674\n",
      "INFO:spectra.py:282:read_spectra: iotime 0.154 sec to read bgs_2020-07-21_0150s_011_coadd.fits at 2021-07-20T10:07:15.500086\n",
      "INFO:spectra.py:282:read_spectra: iotime 0.124 sec to read bgs_2020-07-21_0150s_012_coadd.fits at 2021-07-20T10:07:16.148361\n",
      "INFO:spectra.py:282:read_spectra: iotime 0.181 sec to read bgs_2020-07-21_0150s_013_coadd.fits at 2021-07-20T10:07:16.798728\n",
      "INFO:spectra.py:282:read_spectra: iotime 0.168 sec to read bgs_2020-07-21_0150s_014_coadd.fits at 2021-07-20T10:07:17.399565\n",
      "INFO:spectra.py:282:read_spectra: iotime 0.138 sec to read bgs_2020-07-21_0150s_015_coadd.fits at 2021-07-20T10:07:18.026642\n",
      "INFO:spectra.py:282:read_spectra: iotime 0.178 sec to read bgs_2020-07-21_0150s_016_coadd.fits at 2021-07-20T10:07:18.696879\n",
      "INFO:spectra.py:282:read_spectra: iotime 0.132 sec to read bgs_2020-07-21_0150s_017_coadd.fits at 2021-07-20T10:07:19.283116\n",
      "INFO:spectra.py:282:read_spectra: iotime 0.161 sec to read bgs_2020-07-21_0150s_018_coadd.fits at 2021-07-20T10:07:19.927211\n",
      "INFO:spectra.py:282:read_spectra: iotime 0.141 sec to read bgs_2020-07-21_0150s_019_coadd.fits at 2021-07-20T10:07:20.557306\n",
      "INFO:spectra.py:282:read_spectra: iotime 0.160 sec to read bgs_2020-07-21_0150s_020_coadd.fits at 2021-07-20T10:07:21.172836\n",
      "INFO:spectra.py:282:read_spectra: iotime 0.169 sec to read bgs_2020-07-21_0150s_021_coadd.fits at 2021-07-20T10:07:21.816355\n",
      "INFO:spectra.py:282:read_spectra: iotime 0.133 sec to read bgs_2020-07-21_0150s_022_coadd.fits at 2021-07-20T10:07:22.428808\n",
      "INFO:spectra.py:282:read_spectra: iotime 0.135 sec to read bgs_2020-07-21_0150s_023_coadd.fits at 2021-07-20T10:07:23.087992\n",
      "INFO:spectra.py:282:read_spectra: iotime 0.140 sec to read bgs_2020-07-21_0150s_024_coadd.fits at 2021-07-20T10:07:23.761298\n",
      "INFO:spectra.py:282:read_spectra: iotime 0.183 sec to read bgs_2020-07-21_0150s_025_coadd.fits at 2021-07-20T10:07:24.375641\n",
      "INFO:spectra.py:282:read_spectra: iotime 0.138 sec to read bgs_2020-07-21_0150s_026_coadd.fits at 2021-07-20T10:07:24.993722\n",
      "INFO:spectra.py:282:read_spectra: iotime 0.154 sec to read bgs_2020-07-21_0150s_027_coadd.fits at 2021-07-20T10:07:25.649512\n",
      "INFO:spectra.py:282:read_spectra: iotime 0.172 sec to read bgs_2020-07-21_0150s_028_coadd.fits at 2021-07-20T10:07:26.282193\n",
      "INFO:spectra.py:282:read_spectra: iotime 0.148 sec to read bgs_2020-07-21_0150s_029_coadd.fits at 2021-07-20T10:07:26.956991\n",
      "INFO:spectra.py:282:read_spectra: iotime 0.161 sec to read bgs_2020-07-21_0150s_030_coadd.fits at 2021-07-20T10:07:27.536734\n",
      "INFO:spectra.py:282:read_spectra: iotime 0.141 sec to read bgs_2020-07-21_0150s_031_coadd.fits at 2021-07-20T10:07:28.187661\n",
      "INFO:spectra.py:282:read_spectra: iotime 0.133 sec to read bgs_2020-07-21_0150s_032_coadd.fits at 2021-07-20T10:07:28.841490\n",
      "INFO:spectra.py:282:read_spectra: iotime 0.136 sec to read bgs_2020-07-21_0150s_033_coadd.fits at 2021-07-20T10:07:29.479511\n",
      "INFO:spectra.py:282:read_spectra: iotime 0.135 sec to read bgs_2020-07-21_0150s_034_coadd.fits at 2021-07-20T10:07:30.177364\n",
      "INFO:spectra.py:282:read_spectra: iotime 0.147 sec to read bgs_2020-07-21_0150s_035_coadd.fits at 2021-07-20T10:07:30.839752\n",
      "INFO:spectra.py:282:read_spectra: iotime 0.152 sec to read bgs_2020-07-21_0150s_036_coadd.fits at 2021-07-20T10:07:31.483575\n",
      "INFO:spectra.py:282:read_spectra: iotime 0.149 sec to read bgs_2020-07-21_0150s_037_coadd.fits at 2021-07-20T10:07:32.113638\n",
      "INFO:spectra.py:282:read_spectra: iotime 0.141 sec to read bgs_2020-07-21_0150s_038_coadd.fits at 2021-07-20T10:07:32.856133\n",
      "INFO:spectra.py:282:read_spectra: iotime 0.135 sec to read bgs_2020-07-21_0150s_039_coadd.fits at 2021-07-20T10:07:33.493736\n",
      "INFO:spectra.py:282:read_spectra: iotime 0.141 sec to read bgs_2020-07-21_0150s_040_coadd.fits at 2021-07-20T10:07:34.222195\n",
      "INFO:spectra.py:282:read_spectra: iotime 0.129 sec to read bgs_2020-07-21_0150s_041_coadd.fits at 2021-07-20T10:07:34.859522\n",
      "INFO:spectra.py:282:read_spectra: iotime 0.139 sec to read bgs_2020-07-21_0150s_042_coadd.fits at 2021-07-20T10:07:35.517818\n",
      "INFO:spectra.py:282:read_spectra: iotime 0.142 sec to read bgs_2020-07-21_0150s_043_coadd.fits at 2021-07-20T10:07:36.179837\n",
      "INFO:spectra.py:282:read_spectra: iotime 0.140 sec to read bgs_2020-07-21_0150s_044_coadd.fits at 2021-07-20T10:07:36.866949\n",
      "INFO:spectra.py:282:read_spectra: iotime 0.175 sec to read bgs_2020-07-21_0150s_045_coadd.fits at 2021-07-20T10:07:37.556445\n",
      "INFO:spectra.py:282:read_spectra: iotime 0.139 sec to read bgs_2020-07-21_0150s_046_coadd.fits at 2021-07-20T10:07:38.265607\n",
      "INFO:spectra.py:282:read_spectra: iotime 0.156 sec to read bgs_2020-07-21_0150s_047_coadd.fits at 2021-07-20T10:07:38.954544\n",
      "INFO:spectra.py:282:read_spectra: iotime 0.136 sec to read bgs_2020-07-21_0150s_048_coadd.fits at 2021-07-20T10:07:39.661365\n",
      "INFO:spectra.py:282:read_spectra: iotime 0.181 sec to read bgs_2020-07-21_0150s_049_coadd.fits at 2021-07-20T10:07:40.417577\n",
      "INFO:spectra.py:282:read_spectra: iotime 0.172 sec to read bgs_2020-07-21_0150s_050_coadd.fits at 2021-07-20T10:07:41.185615\n",
      "INFO:spectra.py:282:read_spectra: iotime 0.139 sec to read bgs_2020-07-21_0150s_001_coadd.fits at 2021-07-20T10:07:41.884596\n",
      "INFO:spectra.py:282:read_spectra: iotime 0.136 sec to read bgs_2020-07-21_0150s_002_coadd.fits at 2021-07-20T10:07:42.638836\n",
      "INFO:spectra.py:282:read_spectra: iotime 0.148 sec to read bgs_2020-07-21_0150s_003_coadd.fits at 2021-07-20T10:07:43.344044\n",
      "INFO:spectra.py:282:read_spectra: iotime 0.137 sec to read bgs_2020-07-21_0150s_004_coadd.fits at 2021-07-20T10:07:44.158344\n",
      "INFO:spectra.py:282:read_spectra: iotime 0.139 sec to read bgs_2020-07-21_0150s_005_coadd.fits at 2021-07-20T10:07:44.840651\n",
      "INFO:spectra.py:282:read_spectra: iotime 0.140 sec to read bgs_2020-07-21_0150s_006_coadd.fits at 2021-07-20T10:07:45.591310\n",
      "INFO:spectra.py:282:read_spectra: iotime 0.140 sec to read bgs_2020-07-21_0150s_007_coadd.fits at 2021-07-20T10:07:46.308891\n",
      "INFO:spectra.py:282:read_spectra: iotime 0.133 sec to read bgs_2020-07-21_0150s_008_coadd.fits at 2021-07-20T10:07:47.041628\n",
      "INFO:spectra.py:282:read_spectra: iotime 0.134 sec to read bgs_2020-07-21_0150s_009_coadd.fits at 2021-07-20T10:07:47.742144\n",
      "INFO:spectra.py:282:read_spectra: iotime 0.137 sec to read bgs_2020-07-21_0150s_010_coadd.fits at 2021-07-20T10:07:48.481914\n",
      "INFO:spectra.py:282:read_spectra: iotime 0.140 sec to read bgs_2020-07-21_0150s_011_coadd.fits at 2021-07-20T10:07:49.318508\n",
      "INFO:spectra.py:282:read_spectra: iotime 0.149 sec to read bgs_2020-07-21_0150s_012_coadd.fits at 2021-07-20T10:07:50.037375\n",
      "INFO:spectra.py:282:read_spectra: iotime 0.171 sec to read bgs_2020-07-21_0150s_013_coadd.fits at 2021-07-20T10:07:50.802066\n",
      "INFO:spectra.py:282:read_spectra: iotime 0.147 sec to read bgs_2020-07-21_0150s_014_coadd.fits at 2021-07-20T10:07:51.543827\n",
      "INFO:spectra.py:282:read_spectra: iotime 0.140 sec to read bgs_2020-07-21_0150s_015_coadd.fits at 2021-07-20T10:07:52.286033\n",
      "INFO:spectra.py:282:read_spectra: iotime 0.144 sec to read bgs_2020-07-21_0150s_016_coadd.fits at 2021-07-20T10:07:53.013903\n",
      "INFO:spectra.py:282:read_spectra: iotime 0.142 sec to read bgs_2020-07-21_0150s_017_coadd.fits at 2021-07-20T10:07:53.824648\n",
      "INFO:spectra.py:282:read_spectra: iotime 0.172 sec to read bgs_2020-07-21_0150s_018_coadd.fits at 2021-07-20T10:07:54.640500\n",
      "INFO:spectra.py:282:read_spectra: iotime 0.175 sec to read bgs_2020-07-21_0150s_019_coadd.fits at 2021-07-20T10:07:55.382979\n",
      "INFO:spectra.py:282:read_spectra: iotime 0.138 sec to read bgs_2020-07-21_0150s_020_coadd.fits at 2021-07-20T10:07:56.090773\n",
      "INFO:spectra.py:282:read_spectra: iotime 0.133 sec to read bgs_2020-07-21_0150s_021_coadd.fits at 2021-07-20T10:07:56.787575\n",
      "INFO:spectra.py:282:read_spectra: iotime 0.136 sec to read bgs_2020-07-21_0150s_022_coadd.fits at 2021-07-20T10:07:57.515339\n",
      "INFO:spectra.py:282:read_spectra: iotime 0.132 sec to read bgs_2020-07-21_0150s_023_coadd.fits at 2021-07-20T10:07:58.232792\n",
      "INFO:spectra.py:282:read_spectra: iotime 0.137 sec to read bgs_2020-07-21_0150s_024_coadd.fits at 2021-07-20T10:07:58.951109\n",
      "INFO:spectra.py:282:read_spectra: iotime 0.158 sec to read bgs_2020-07-21_0150s_025_coadd.fits at 2021-07-20T10:07:59.713840\n",
      "INFO:spectra.py:282:read_spectra: iotime 0.137 sec to read bgs_2020-07-21_0150s_026_coadd.fits at 2021-07-20T10:08:00.380720\n",
      "INFO:spectra.py:282:read_spectra: iotime 0.134 sec to read bgs_2020-07-21_0150s_027_coadd.fits at 2021-07-20T10:08:01.080123\n",
      "INFO:spectra.py:282:read_spectra: iotime 0.154 sec to read bgs_2020-07-21_0150s_028_coadd.fits at 2021-07-20T10:08:01.878087\n",
      "INFO:spectra.py:282:read_spectra: iotime 0.162 sec to read bgs_2020-07-21_0150s_029_coadd.fits at 2021-07-20T10:08:02.653764\n",
      "INFO:spectra.py:282:read_spectra: iotime 0.148 sec to read bgs_2020-07-21_0150s_030_coadd.fits at 2021-07-20T10:08:03.435860\n",
      "INFO:spectra.py:282:read_spectra: iotime 0.136 sec to read bgs_2020-07-21_0150s_031_coadd.fits at 2021-07-20T10:08:04.164650\n",
      "INFO:spectra.py:282:read_spectra: iotime 0.154 sec to read bgs_2020-07-21_0150s_032_coadd.fits at 2021-07-20T10:08:04.923578\n",
      "INFO:spectra.py:282:read_spectra: iotime 0.140 sec to read bgs_2020-07-21_0150s_033_coadd.fits at 2021-07-20T10:08:05.646110\n",
      "INFO:spectra.py:282:read_spectra: iotime 0.135 sec to read bgs_2020-07-21_0150s_034_coadd.fits at 2021-07-20T10:08:06.421846\n",
      "INFO:spectra.py:282:read_spectra: iotime 0.134 sec to read bgs_2020-07-21_0150s_035_coadd.fits at 2021-07-20T10:08:07.206342\n",
      "INFO:spectra.py:282:read_spectra: iotime 0.135 sec to read bgs_2020-07-21_0150s_036_coadd.fits at 2021-07-20T10:08:07.983644\n",
      "INFO:spectra.py:282:read_spectra: iotime 0.151 sec to read bgs_2020-07-21_0150s_037_coadd.fits at 2021-07-20T10:08:08.775054\n",
      "INFO:spectra.py:282:read_spectra: iotime 0.164 sec to read bgs_2020-07-21_0150s_038_coadd.fits at 2021-07-20T10:08:09.637815\n",
      "INFO:spectra.py:282:read_spectra: iotime 0.156 sec to read bgs_2020-07-21_0150s_039_coadd.fits at 2021-07-20T10:08:10.420066\n",
      "INFO:spectra.py:282:read_spectra: iotime 0.243 sec to read bgs_2020-07-21_0150s_040_coadd.fits at 2021-07-20T10:08:11.322597\n",
      "INFO:spectra.py:282:read_spectra: iotime 0.148 sec to read bgs_2020-07-21_0150s_041_coadd.fits at 2021-07-20T10:08:12.107958\n",
      "INFO:spectra.py:282:read_spectra: iotime 0.150 sec to read bgs_2020-07-21_0150s_042_coadd.fits at 2021-07-20T10:08:12.886963\n",
      "INFO:spectra.py:282:read_spectra: iotime 0.132 sec to read bgs_2020-07-21_0150s_043_coadd.fits at 2021-07-20T10:08:13.749769\n",
      "INFO:spectra.py:282:read_spectra: iotime 0.155 sec to read bgs_2020-07-21_0150s_044_coadd.fits at 2021-07-20T10:08:14.537065\n",
      "INFO:spectra.py:282:read_spectra: iotime 0.139 sec to read bgs_2020-07-21_0150s_045_coadd.fits at 2021-07-20T10:08:15.309402\n",
      "INFO:spectra.py:282:read_spectra: iotime 0.140 sec to read bgs_2020-07-21_0150s_046_coadd.fits at 2021-07-20T10:08:16.082701\n",
      "INFO:spectra.py:282:read_spectra: iotime 0.184 sec to read bgs_2020-07-21_0150s_047_coadd.fits at 2021-07-20T10:08:16.913136\n",
      "INFO:spectra.py:282:read_spectra: iotime 0.158 sec to read bgs_2020-07-21_0150s_048_coadd.fits at 2021-07-20T10:08:17.710746\n",
      "INFO:spectra.py:282:read_spectra: iotime 0.145 sec to read bgs_2020-07-21_0150s_049_coadd.fits at 2021-07-20T10:08:18.461690\n",
      "INFO:spectra.py:282:read_spectra: iotime 0.138 sec to read bgs_2020-07-21_0150s_050_coadd.fits at 2021-07-20T10:08:19.279403\n"
     ]
    }
   ],
   "source": [
    "sniin_truth = np.sort(glob.glob((r'/global/project/projectdirs/desi/science/td/sim/bgs/150s/sn_iin/*/*truth.fits')))\n",
    "sniin_coadd = np.sort(glob.glob((r'/global/project/projectdirs/desi/science/td/sim/bgs/150s/sn_iin/*/*coadd.fits')))\n",
    "sniin_flux  = condition_spectra(sniin_coadd, sniin_truth)"
   ]
  },
  {
   "cell_type": "code",
   "execution_count": 66,
   "metadata": {},
   "outputs": [
    {
     "name": "stdout",
     "output_type": "stream",
     "text": [
      "INFO:spectra.py:282:read_spectra: iotime 0.133 sec to read bgs_2020-03-08_0150s_001_coadd.fits at 2021-07-20T10:08:20.073862\n",
      "INFO:spectra.py:282:read_spectra: iotime 0.137 sec to read bgs_2020-03-08_0150s_002_coadd.fits at 2021-07-20T10:08:20.687974\n",
      "INFO:spectra.py:282:read_spectra: iotime 0.149 sec to read bgs_2020-03-08_0150s_003_coadd.fits at 2021-07-20T10:08:21.280048\n",
      "INFO:spectra.py:282:read_spectra: iotime 0.135 sec to read bgs_2020-03-08_0150s_004_coadd.fits at 2021-07-20T10:08:21.876711\n",
      "INFO:spectra.py:282:read_spectra: iotime 0.139 sec to read bgs_2020-03-08_0150s_005_coadd.fits at 2021-07-20T10:08:22.452229\n",
      "INFO:spectra.py:282:read_spectra: iotime 0.138 sec to read bgs_2020-03-08_0150s_006_coadd.fits at 2021-07-20T10:08:23.026465\n",
      "INFO:spectra.py:282:read_spectra: iotime 0.134 sec to read bgs_2020-03-08_0150s_007_coadd.fits at 2021-07-20T10:08:23.600304\n",
      "INFO:spectra.py:282:read_spectra: iotime 0.152 sec to read bgs_2020-03-08_0150s_008_coadd.fits at 2021-07-20T10:08:24.166634\n",
      "INFO:spectra.py:282:read_spectra: iotime 0.143 sec to read bgs_2020-03-08_0150s_009_coadd.fits at 2021-07-20T10:08:24.766633\n",
      "INFO:spectra.py:282:read_spectra: iotime 0.138 sec to read bgs_2020-03-08_0150s_010_coadd.fits at 2021-07-20T10:08:25.353514\n",
      "INFO:spectra.py:282:read_spectra: iotime 0.137 sec to read bgs_2020-03-08_0150s_011_coadd.fits at 2021-07-20T10:08:25.967310\n",
      "INFO:spectra.py:282:read_spectra: iotime 0.129 sec to read bgs_2020-03-08_0150s_012_coadd.fits at 2021-07-20T10:08:26.543945\n",
      "INFO:spectra.py:282:read_spectra: iotime 0.138 sec to read bgs_2020-03-08_0150s_013_coadd.fits at 2021-07-20T10:08:27.159740\n",
      "INFO:spectra.py:282:read_spectra: iotime 0.168 sec to read bgs_2020-03-08_0150s_014_coadd.fits at 2021-07-20T10:08:27.735625\n",
      "INFO:spectra.py:282:read_spectra: iotime 0.169 sec to read bgs_2020-03-08_0150s_015_coadd.fits at 2021-07-20T10:08:28.379573\n",
      "INFO:spectra.py:282:read_spectra: iotime 0.160 sec to read bgs_2020-03-08_0150s_016_coadd.fits at 2021-07-20T10:08:29.008516\n",
      "INFO:spectra.py:282:read_spectra: iotime 0.134 sec to read bgs_2020-03-08_0150s_017_coadd.fits at 2021-07-20T10:08:29.620769\n",
      "INFO:spectra.py:282:read_spectra: iotime 0.133 sec to read bgs_2020-03-08_0150s_018_coadd.fits at 2021-07-20T10:08:30.229877\n",
      "INFO:spectra.py:282:read_spectra: iotime 0.235 sec to read bgs_2020-03-08_0150s_019_coadd.fits at 2021-07-20T10:08:30.906584\n",
      "INFO:spectra.py:282:read_spectra: iotime 0.150 sec to read bgs_2020-03-08_0150s_020_coadd.fits at 2021-07-20T10:08:31.517465\n",
      "INFO:spectra.py:282:read_spectra: iotime 0.136 sec to read bgs_2020-03-08_0150s_001_coadd.fits at 2021-07-20T10:08:32.141733\n",
      "INFO:spectra.py:282:read_spectra: iotime 0.161 sec to read bgs_2020-03-08_0150s_002_coadd.fits at 2021-07-20T10:08:32.752892\n",
      "INFO:spectra.py:282:read_spectra: iotime 0.136 sec to read bgs_2020-03-08_0150s_003_coadd.fits at 2021-07-20T10:08:33.352698\n",
      "INFO:spectra.py:282:read_spectra: iotime 0.132 sec to read bgs_2020-03-08_0150s_004_coadd.fits at 2021-07-20T10:08:33.975198\n",
      "INFO:spectra.py:282:read_spectra: iotime 0.148 sec to read bgs_2020-03-08_0150s_005_coadd.fits at 2021-07-20T10:08:34.536056\n",
      "INFO:spectra.py:282:read_spectra: iotime 0.127 sec to read bgs_2020-03-08_0150s_006_coadd.fits at 2021-07-20T10:08:35.153797\n",
      "INFO:spectra.py:282:read_spectra: iotime 0.143 sec to read bgs_2020-03-08_0150s_007_coadd.fits at 2021-07-20T10:08:35.753054\n",
      "INFO:spectra.py:282:read_spectra: iotime 0.144 sec to read bgs_2020-03-08_0150s_008_coadd.fits at 2021-07-20T10:08:36.341031\n",
      "INFO:spectra.py:282:read_spectra: iotime 0.135 sec to read bgs_2020-03-08_0150s_009_coadd.fits at 2021-07-20T10:08:37.013120\n",
      "INFO:spectra.py:282:read_spectra: iotime 0.173 sec to read bgs_2020-03-08_0150s_010_coadd.fits at 2021-07-20T10:08:37.648889\n",
      "INFO:spectra.py:282:read_spectra: iotime 0.137 sec to read bgs_2020-03-08_0150s_011_coadd.fits at 2021-07-20T10:08:38.248334\n",
      "INFO:spectra.py:282:read_spectra: iotime 0.154 sec to read bgs_2020-03-08_0150s_012_coadd.fits at 2021-07-20T10:08:38.909032\n",
      "INFO:spectra.py:282:read_spectra: iotime 0.161 sec to read bgs_2020-03-08_0150s_013_coadd.fits at 2021-07-20T10:08:39.544384\n",
      "INFO:spectra.py:282:read_spectra: iotime 0.150 sec to read bgs_2020-03-08_0150s_014_coadd.fits at 2021-07-20T10:08:40.227991\n",
      "INFO:spectra.py:282:read_spectra: iotime 0.165 sec to read bgs_2020-03-08_0150s_015_coadd.fits at 2021-07-20T10:08:40.862421\n",
      "INFO:spectra.py:282:read_spectra: iotime 0.134 sec to read bgs_2020-03-08_0150s_016_coadd.fits at 2021-07-20T10:08:41.485599\n",
      "INFO:spectra.py:282:read_spectra: iotime 0.129 sec to read bgs_2020-03-08_0150s_017_coadd.fits at 2021-07-20T10:08:42.080834\n",
      "INFO:spectra.py:282:read_spectra: iotime 0.163 sec to read bgs_2020-03-08_0150s_018_coadd.fits at 2021-07-20T10:08:42.719544\n",
      "INFO:spectra.py:282:read_spectra: iotime 0.143 sec to read bgs_2020-03-08_0150s_019_coadd.fits at 2021-07-20T10:08:43.374872\n",
      "INFO:spectra.py:282:read_spectra: iotime 0.140 sec to read bgs_2020-03-08_0150s_020_coadd.fits at 2021-07-20T10:08:43.996595\n",
      "INFO:spectra.py:282:read_spectra: iotime 0.133 sec to read bgs_2020-03-08_0150s_001_coadd.fits at 2021-07-20T10:08:44.649043\n",
      "INFO:spectra.py:282:read_spectra: iotime 0.151 sec to read bgs_2020-03-08_0150s_002_coadd.fits at 2021-07-20T10:08:45.335426\n",
      "INFO:spectra.py:282:read_spectra: iotime 0.162 sec to read bgs_2020-03-08_0150s_003_coadd.fits at 2021-07-20T10:08:46.054533\n",
      "INFO:spectra.py:282:read_spectra: iotime 0.153 sec to read bgs_2020-03-08_0150s_004_coadd.fits at 2021-07-20T10:08:46.703012\n",
      "INFO:spectra.py:282:read_spectra: iotime 0.157 sec to read bgs_2020-03-08_0150s_005_coadd.fits at 2021-07-20T10:08:47.414121\n",
      "INFO:spectra.py:282:read_spectra: iotime 0.145 sec to read bgs_2020-03-08_0150s_006_coadd.fits at 2021-07-20T10:08:48.121853\n",
      "INFO:spectra.py:282:read_spectra: iotime 0.135 sec to read bgs_2020-03-08_0150s_007_coadd.fits at 2021-07-20T10:08:48.823023\n",
      "INFO:spectra.py:282:read_spectra: iotime 0.142 sec to read bgs_2020-03-08_0150s_008_coadd.fits at 2021-07-20T10:08:49.515469\n",
      "INFO:spectra.py:282:read_spectra: iotime 0.173 sec to read bgs_2020-03-08_0150s_009_coadd.fits at 2021-07-20T10:08:50.277794\n",
      "INFO:spectra.py:282:read_spectra: iotime 0.140 sec to read bgs_2020-03-08_0150s_010_coadd.fits at 2021-07-20T10:08:51.006345\n",
      "INFO:spectra.py:282:read_spectra: iotime 0.135 sec to read bgs_2020-03-08_0150s_011_coadd.fits at 2021-07-20T10:08:51.707654\n",
      "INFO:spectra.py:282:read_spectra: iotime 0.142 sec to read bgs_2020-03-08_0150s_012_coadd.fits at 2021-07-20T10:08:52.373893\n",
      "INFO:spectra.py:282:read_spectra: iotime 0.144 sec to read bgs_2020-03-08_0150s_013_coadd.fits at 2021-07-20T10:08:53.246737\n",
      "INFO:spectra.py:282:read_spectra: iotime 0.150 sec to read bgs_2020-03-08_0150s_014_coadd.fits at 2021-07-20T10:08:53.955924\n",
      "INFO:spectra.py:282:read_spectra: iotime 0.136 sec to read bgs_2020-03-08_0150s_015_coadd.fits at 2021-07-20T10:08:54.664551\n",
      "INFO:spectra.py:282:read_spectra: iotime 0.152 sec to read bgs_2020-03-08_0150s_016_coadd.fits at 2021-07-20T10:08:55.391283\n",
      "INFO:spectra.py:282:read_spectra: iotime 0.132 sec to read bgs_2020-03-08_0150s_017_coadd.fits at 2021-07-20T10:08:56.079306\n",
      "INFO:spectra.py:282:read_spectra: iotime 0.134 sec to read bgs_2020-03-08_0150s_018_coadd.fits at 2021-07-20T10:08:56.750062\n",
      "INFO:spectra.py:282:read_spectra: iotime 0.133 sec to read bgs_2020-03-08_0150s_019_coadd.fits at 2021-07-20T10:08:57.438814\n",
      "INFO:spectra.py:282:read_spectra: iotime 0.162 sec to read bgs_2020-03-08_0150s_020_coadd.fits at 2021-07-20T10:08:58.137281\n",
      "INFO:spectra.py:282:read_spectra: iotime 0.139 sec to read bgs_2020-03-08_0150s_001_coadd.fits at 2021-07-20T10:08:58.901717\n",
      "INFO:spectra.py:282:read_spectra: iotime 0.138 sec to read bgs_2020-03-08_0150s_002_coadd.fits at 2021-07-20T10:08:59.638941\n",
      "INFO:spectra.py:282:read_spectra: iotime 0.140 sec to read bgs_2020-03-08_0150s_003_coadd.fits at 2021-07-20T10:09:00.359661\n",
      "INFO:spectra.py:282:read_spectra: iotime 0.130 sec to read bgs_2020-03-08_0150s_004_coadd.fits at 2021-07-20T10:09:01.055327\n",
      "INFO:spectra.py:282:read_spectra: iotime 0.137 sec to read bgs_2020-03-08_0150s_005_coadd.fits at 2021-07-20T10:09:01.787478\n",
      "INFO:spectra.py:282:read_spectra: iotime 0.177 sec to read bgs_2020-03-08_0150s_006_coadd.fits at 2021-07-20T10:09:02.587590\n",
      "INFO:spectra.py:282:read_spectra: iotime 0.137 sec to read bgs_2020-03-08_0150s_007_coadd.fits at 2021-07-20T10:09:03.295784\n",
      "INFO:spectra.py:282:read_spectra: iotime 0.131 sec to read bgs_2020-03-08_0150s_008_coadd.fits at 2021-07-20T10:09:04.011619\n",
      "INFO:spectra.py:282:read_spectra: iotime 0.134 sec to read bgs_2020-03-08_0150s_009_coadd.fits at 2021-07-20T10:09:04.716239\n",
      "INFO:spectra.py:282:read_spectra: iotime 0.159 sec to read bgs_2020-03-08_0150s_010_coadd.fits at 2021-07-20T10:09:05.446254\n",
      "INFO:spectra.py:282:read_spectra: iotime 0.181 sec to read bgs_2020-03-08_0150s_011_coadd.fits at 2021-07-20T10:09:06.205237\n",
      "INFO:spectra.py:282:read_spectra: iotime 0.153 sec to read bgs_2020-03-08_0150s_012_coadd.fits at 2021-07-20T10:09:06.976214\n",
      "INFO:spectra.py:282:read_spectra: iotime 0.160 sec to read bgs_2020-03-08_0150s_013_coadd.fits at 2021-07-20T10:09:07.761917\n",
      "INFO:spectra.py:282:read_spectra: iotime 0.134 sec to read bgs_2020-03-08_0150s_014_coadd.fits at 2021-07-20T10:09:08.473791\n",
      "INFO:spectra.py:282:read_spectra: iotime 0.171 sec to read bgs_2020-03-08_0150s_015_coadd.fits at 2021-07-20T10:09:09.277933\n",
      "INFO:spectra.py:282:read_spectra: iotime 0.154 sec to read bgs_2020-03-08_0150s_016_coadd.fits at 2021-07-20T10:09:10.036878\n",
      "INFO:spectra.py:282:read_spectra: iotime 0.163 sec to read bgs_2020-03-08_0150s_017_coadd.fits at 2021-07-20T10:09:10.808089\n",
      "INFO:spectra.py:282:read_spectra: iotime 0.131 sec to read bgs_2020-03-08_0150s_018_coadd.fits at 2021-07-20T10:09:11.536523\n",
      "INFO:spectra.py:282:read_spectra: iotime 0.134 sec to read bgs_2020-03-08_0150s_019_coadd.fits at 2021-07-20T10:09:12.259080\n",
      "INFO:spectra.py:282:read_spectra: iotime 0.133 sec to read bgs_2020-03-08_0150s_020_coadd.fits at 2021-07-20T10:09:13.078828\n",
      "INFO:spectra.py:282:read_spectra: iotime 0.133 sec to read bgs_2020-03-08_0150s_001_coadd.fits at 2021-07-20T10:09:13.814617\n",
      "INFO:spectra.py:282:read_spectra: iotime 0.137 sec to read bgs_2020-03-08_0150s_002_coadd.fits at 2021-07-20T10:09:14.541798\n",
      "INFO:spectra.py:282:read_spectra: iotime 0.150 sec to read bgs_2020-03-08_0150s_003_coadd.fits at 2021-07-20T10:09:15.296890\n",
      "INFO:spectra.py:282:read_spectra: iotime 0.133 sec to read bgs_2020-03-08_0150s_004_coadd.fits at 2021-07-20T10:09:16.032096\n",
      "INFO:spectra.py:282:read_spectra: iotime 0.133 sec to read bgs_2020-03-08_0150s_005_coadd.fits at 2021-07-20T10:09:16.757577\n",
      "INFO:spectra.py:282:read_spectra: iotime 0.139 sec to read bgs_2020-03-08_0150s_006_coadd.fits at 2021-07-20T10:09:17.483212\n",
      "INFO:spectra.py:282:read_spectra: iotime 0.139 sec to read bgs_2020-03-08_0150s_007_coadd.fits at 2021-07-20T10:09:18.281586\n",
      "INFO:spectra.py:282:read_spectra: iotime 0.141 sec to read bgs_2020-03-08_0150s_008_coadd.fits at 2021-07-20T10:09:19.068261\n",
      "INFO:spectra.py:282:read_spectra: iotime 0.149 sec to read bgs_2020-03-08_0150s_009_coadd.fits at 2021-07-20T10:09:19.883138\n",
      "INFO:spectra.py:282:read_spectra: iotime 0.135 sec to read bgs_2020-03-08_0150s_010_coadd.fits at 2021-07-20T10:09:20.621345\n",
      "INFO:spectra.py:282:read_spectra: iotime 0.151 sec to read bgs_2020-03-08_0150s_011_coadd.fits at 2021-07-20T10:09:21.430829\n",
      "INFO:spectra.py:282:read_spectra: iotime 0.144 sec to read bgs_2020-03-08_0150s_012_coadd.fits at 2021-07-20T10:09:22.205841\n",
      "INFO:spectra.py:282:read_spectra: iotime 0.131 sec to read bgs_2020-03-08_0150s_013_coadd.fits at 2021-07-20T10:09:22.978404\n",
      "INFO:spectra.py:282:read_spectra: iotime 0.147 sec to read bgs_2020-03-08_0150s_014_coadd.fits at 2021-07-20T10:09:23.761371\n",
      "INFO:spectra.py:282:read_spectra: iotime 0.179 sec to read bgs_2020-03-08_0150s_015_coadd.fits at 2021-07-20T10:09:24.603544\n",
      "INFO:spectra.py:282:read_spectra: iotime 0.159 sec to read bgs_2020-03-08_0150s_016_coadd.fits at 2021-07-20T10:09:25.393578\n",
      "INFO:spectra.py:282:read_spectra: iotime 0.159 sec to read bgs_2020-03-08_0150s_017_coadd.fits at 2021-07-20T10:09:26.264708\n",
      "INFO:spectra.py:282:read_spectra: iotime 0.157 sec to read bgs_2020-03-08_0150s_018_coadd.fits at 2021-07-20T10:09:27.123193\n",
      "INFO:spectra.py:282:read_spectra: iotime 0.151 sec to read bgs_2020-03-08_0150s_019_coadd.fits at 2021-07-20T10:09:27.972339\n",
      "INFO:spectra.py:282:read_spectra: iotime 0.150 sec to read bgs_2020-03-08_0150s_020_coadd.fits at 2021-07-20T10:09:28.801523\n"
     ]
    }
   ],
   "source": [
    "sniip_truth = np.sort(glob.glob((r'/global/project/projectdirs/desi/science/td/sim/bgs/150s/sn_iip/*/*truth.fits')))\n",
    "sniip_coadd = np.sort(glob.glob((r'/global/project/projectdirs/desi/science/td/sim/bgs/150s/sn_iip/*/*coadd.fits')))\n",
    "sniip_flux  = condition_spectra(sniip_coadd, sniip_truth)"
   ]
  },
  {
   "cell_type": "markdown",
   "metadata": {},
   "source": [
    "### Stack the spectra for image"
   ]
  },
  {
   "cell_type": "code",
   "execution_count": 67,
   "metadata": {},
   "outputs": [],
   "source": [
    "#host_2d=to_2d(host_flux)\n",
    "snia_2d=to_2d(snia_flux)\n",
    "snib_2d=to_2d(snib_flux)\n",
    "snic_2d=to_2d(snic_flux)\n",
    "sniin_2d=to_2d(sniin_flux)\n",
    "sniip_2d=to_2d(sniip_flux)"
   ]
  },
  {
   "cell_type": "code",
   "execution_count": 68,
   "metadata": {},
   "outputs": [
    {
     "data": {
      "image/png": "[encoded data removed]",
      "text/plain": [
       "<Figure size 360x288 with 1 Axes>"
      ]
     },
     "metadata": {
      "needs_background": "light"
     },
     "output_type": "display_data"
    }
   ],
   "source": [
    "fig,ax= plt.subplots(1,1, figsize=(5,4), tight_layout=True)\n",
    "ax.plot(snia_2d[3], alpha=0.5)\n",
    "ax.set(xlabel=r'$\\lambda_\\mathrm{obs}$ [$\\AA$]',\n",
    "            title='Stacked spectra')\n",
    "fig.tight_layout()"
   ]
  },
  {
   "cell_type": "code",
   "execution_count": null,
   "metadata": {},
   "outputs": [],
   "source": [
    "fig.savefig('stacked_spec.png')"
   ]
  },
  {
   "cell_type": "markdown",
   "metadata": {
    "tags": []
   },
   "source": [
    "### Save the new data"
   ]
  },
  {
   "cell_type": "code",
   "execution_count": 69,
   "metadata": {},
   "outputs": [],
   "source": [
    "import pickle\n",
    "\n",
    "#with open(r'/global/homes/k/kenziep/Training/Sim_SpecLens/py/Lensed/host_flux.data', 'wb') as f:\n",
    "#    pickle.dump(host_2d, f)\n",
    "    \n",
    "with open(r'snia_flux_noz.data', 'wb') as f:\n",
    "    pickle.dump(snia_2d, f) \n",
    "\n",
    "with open(r'snib_flux_noz.data', 'wb') as f:\n",
    "    pickle.dump(snib_2d, f) \n",
    "\n",
    "with open(r'snic_flux_noz.data', 'wb') as f:\n",
    "    pickle.dump(snic_2d, f) \n",
    "\n",
    "with open(r'sniin_flux_noz.data', 'wb') as f:\n",
    "    pickle.dump(sniin_2d, f) \n",
    "\n",
    "with open(r'sniip_flux_noz.data', 'wb') as f:\n",
    "    pickle.dump(sniip_2d, f) \n"
   ]
  },
  {
   "cell_type": "code",
   "execution_count": 70,
   "metadata": {},
   "outputs": [
    {
     "data": {
      "text/plain": [
       "<matplotlib.image.AxesImage at 0x2aaade60e6d0>"
      ]
     },
     "execution_count": 70,
     "metadata": {},
     "output_type": "execute_result"
    },
    {
     "data": {
      "image/png": "[encoded data removed]",
      "text/plain": [
       "<Figure size 432x288 with 1 Axes>"
      ]
     },
     "metadata": {
      "needs_background": "light"
     },
     "output_type": "display_data"
    }
   ],
   "source": [
    "# Plot one of the fluxes.\n",
    "plt.imshow(snia_2d[3])"
   ]
  },
  {
   "cell_type": "markdown",
   "metadata": {},
   "source": [
    "## Visual check of all preprocessing steps\n",
    "Ensure \" host_rewave,host_reflux,wavec,fluxc,ivarc \" have not been commented out as outputs of condition spectra "
   ]
  },
  {
   "cell_type": "code",
   "execution_count": 13,
   "metadata": {},
   "outputs": [
    {
     "name": "stderr",
     "output_type": "stream",
     "text": [
      "No handles with labels found to put in legend.\n"
     ]
    },
    {
     "data": {
      "image/png": "[encoded data removed]",
      "text/plain": [
       "<Figure size 1152x360 with 4 Axes>"
      ]
     },
     "metadata": {
      "needs_background": "light"
     },
     "output_type": "display_data"
    }
   ],
   "source": [
    "fig, axes = plt.subplots(1,4, figsize=(16,5))\n",
    "\n",
    "for i in range(6,7):\n",
    "    \n",
    "    \n",
    "    ax = axes[0]\n",
    "    ax.plot(wavec, fluxc[i], alpha=0.5)\n",
    "\n",
    "    ax = axes[1]\n",
    "    ax.plot(host_rewave, host_reflux[i], alpha=0.5)\n",
    "    \n",
    "    ax = axes[2]\n",
    "    ax.plot(host_rewave, host_flux[i], alpha=0.5)\n",
    "    \n",
    "    ax = axes[3]\n",
    "    ax.plot(host_2d[i], alpha=0.5)\n",
    "    \n",
    "axes[0].legend(fontsize=10, ncol=2)\n",
    "\n",
    "axes[0].set(xlabel=r'$\\lambda_\\mathrm{obs}$ [$\\AA$]',\n",
    "            ylabel=r'flux [$10^{-17}$ erg s$^{-1}$ cm$^{-2}$ $\\AA^{-1}$]',\n",
    "            title='coadded spectra')\n",
    "axes[1].set(xlabel=r'$\\lambda_\\mathrm{obs}$ [$\\AA$]',\n",
    "            title='rebinned spectra')\n",
    "axes[2].set(xlabel=r'$\\lambda_\\mathrm{obs}$ [$\\AA$]',\n",
    "            title='rescaled spectra')\n",
    "axes[3].set(xlabel=r'$\\lambda_\\mathrm{obs}$ [$\\AA$]',\n",
    "            title='Stacked spectra')\n",
    "fig.tight_layout()"
   ]
  },
  {
   "cell_type": "code",
   "execution_count": null,
   "metadata": {},
   "outputs": [],
   "source": []
  }
 ],
 "metadata": {
  "kernelspec": {
   "display_name": "DESI master",
   "language": "python",
   "name": "desi-master"
  },
  "language_info": {
   "codemirror_mode": {
    "name": "ipython",
    "version": 3
   },
   "file_extension": ".py",
   "mimetype": "text/x-python",
   "name": "python",
   "nbconvert_exporter": "python",
   "pygments_lexer": "ipython3",
   "version": "3.8.3"
  }
 },
 "nbformat": 4,
 "nbformat_minor": 4
}
